{
 "cells": [
  {
   "cell_type": "code",
   "execution_count": 2,
   "metadata": {},
   "outputs": [],
   "source": [
    "] activate .."
   ]
  },
  {
   "cell_type": "code",
   "execution_count": 3,
   "metadata": {},
   "outputs": [
    {
     "name": "stdout",
     "output_type": "stream",
     "text": [
      "\u001b[32m\u001b[1m    Status\u001b[22m\u001b[39m `C:\\Users\\carsten\\Desktop\\sciebo\\codes\\julia-sdw-dqmc\\Project.toml`\n",
      " \u001b[90m [a1b139fa]\u001b[39m\u001b[37m BinningAnalysis v0.0.0 #master (https://github.com/crstnbr/BinningAnalysis.jl.git)\u001b[39m\n",
      " \u001b[90m [717857b8]\u001b[39m\u001b[37m DSP v0.5.2\u001b[39m\n",
      " \u001b[90m [7a1cc6ca]\u001b[39m\u001b[37m FFTW v0.2.4\u001b[39m\n",
      " \u001b[90m [d7ba0133]\u001b[39m\u001b[37m Git v0.3.0\u001b[39m\n",
      " \u001b[90m [f67ccb44]\u001b[39m\u001b[37m HDF5 v0.11.0\u001b[39m\n",
      " \u001b[90m [4de40672]\u001b[39m\u001b[37m Helpers v0.0.0 #master (https://github.com/crstnbr/Helpers.jl)\u001b[39m\n",
      " \u001b[90m [4138dd39]\u001b[39m\u001b[37m JLD v0.9.1\u001b[39m\n",
      " \u001b[90m [9c8b4983]\u001b[39m\u001b[37m LightXML v0.8.0\u001b[39m\n",
      " \u001b[90m [8a675f2c]\u001b[39m\u001b[37m MonteCarloObservable v0.2.1+ #master (https://github.com/crstnbr/MonteCarloObservable.jl.git)\u001b[39m\n",
      " \u001b[90m [d96e819e]\u001b[39m\u001b[37m Parameters v0.10.3\u001b[39m\n",
      " \u001b[90m [92933f4c]\u001b[39m\u001b[37m ProgressMeter v0.9.0\u001b[39m\n",
      " \u001b[90m [a759f4b9]\u001b[39m\u001b[37m TimerOutputs v0.4.0\u001b[39m\n",
      " \u001b[90m [ade2ca70]\u001b[39m\u001b[37m Dates \u001b[39m\n",
      " \u001b[90m [37e2e46d]\u001b[39m\u001b[37m LinearAlgebra \u001b[39m\n",
      " \u001b[90m [de0858da]\u001b[39m\u001b[37m Printf \u001b[39m\n",
      " \u001b[90m [2f01184e]\u001b[39m\u001b[37m SparseArrays \u001b[39m\n"
     ]
    }
   ],
   "source": [
    "] st"
   ]
  },
  {
   "cell_type": "code",
   "execution_count": 15,
   "metadata": {
    "scrolled": true
   },
   "outputs": [
    {
     "name": "stdout",
     "output_type": "stream",
     "text": [
      "L = 4\n",
      "SLICES = 10\n",
      "DELTA_TAU = 0.1\n",
      "WARMUP = 100\n",
      "SWEEPS = 400\n",
      "SAFE_MULT = 10\n",
      "CHECKERBOARD = TRUE\n",
      "HOPPINGS = 1.0,0.5,-0.5,-1.0\n",
      "MU = -0.5\n",
      "LAMBDA = 0.5\n",
      "U = 1.0\n",
      "R = 2.0\n",
      "C = 3.0\n",
      "GLOBAL_UPDATES = TRUE\n",
      "GLOBAL_RATE = 5\n",
      "BFIELD = TRUE\n",
      "WRITE_EVERY_NTH = 10\n",
      "OPDIM = 3\n",
      "\n",
      "CB = CBAssaad\n",
      "p.hoppings = \"1.0,0.5,-0.5,-1.0\"\n",
      "p.Nhoppings = \"none\"\n",
      "p.NNhoppings = \"none\"\n",
      "p.lattice_file = \"C:\\\\Users\\\\carsten\\\\Desktop\\\\sciebo\\\\lattices\\\\square_L_4_W_4.xml\"\n",
      "\n"
     ]
    },
    {
     "name": "stderr",
     "output_type": "stream",
     "text": [
      "WARNING: redefining constant randconf\n"
     ]
    },
    {
     "name": "stdout",
     "output_type": "stream",
     "text": [
      "\n",
      "Loading lattice with 16 sites\n",
      "Initializing neighbor-tables\n",
      "Initializing Peirls phases (Bfield)\n",
      "Initializing hopping exponentials (Bfield)\n",
      "Initializing hopping exponentials (Bfield, Checkerboard)\n",
      "Checkerboard (Bfield) - exact (abs):\t\t0.0024417942043431936\n",
      "\n",
      "Initializing HS field\n",
      "Initializing boson action\n",
      "\n",
      "Building stack\n",
      "Initial propagate: 11 -1\n",
      "L = 4\n",
      "SLICES = 10\n",
      "DELTA_TAU = 0.1\n",
      "WARMUP = 100\n",
      "SWEEPS = 400\n",
      "SAFE_MULT = 10\n",
      "CHECKERBOARD = TRUE\n",
      "HOPPINGS = 1.0,0.5,-0.5,-1.0\n",
      "MU = -0.5\n",
      "LAMBDA = 0.5\n",
      "U = 1.0\n",
      "R = 2.0\n",
      "C = 3.0\n",
      "GLOBAL_UPDATES = TRUE\n",
      "GLOBAL_RATE = 5\n",
      "BFIELD = FALSE\n",
      "WRITE_EVERY_NTH = 10\n",
      "OPDIM = 3\n",
      "\n",
      "CB = CBAssaad\n",
      "p.hoppings = \"1.0,0.5,-0.5,-1.0\"\n",
      "p.Nhoppings = \"none\"\n",
      "p.NNhoppings = \"none\"\n",
      "p.lattice_file = \"C:\\\\Users\\\\carsten\\\\Desktop\\\\sciebo\\\\lattices\\\\square_L_4_W_4.xml\"\n",
      "\n",
      "\n",
      "Loading lattice with 16 sites\n",
      "Initializing neighbor-tables\n",
      "Initializing hopping exponentials\n",
      "Initializing hopping exponentials (Checkerboard)\n",
      "Checkerboard - exact (abs):\t\t8.881784197001252e-16\n",
      "\n",
      "Initializing HS field\n",
      "Initializing boson action\n",
      "\n",
      "Building stack\n",
      "Initial propagate: 11 -1\n",
      "L = 4\n",
      "SLICES = 10\n",
      "DELTA_TAU = 0.1\n",
      "WARMUP = 100\n",
      "SWEEPS = 400\n",
      "SAFE_MULT = 10\n",
      "CHECKERBOARD = FALSE\n",
      "HOPPINGS = 1.0,0.5,-0.5,-1.0\n",
      "MU = -0.5\n",
      "LAMBDA = 0.5\n",
      "U = 1.0\n",
      "R = 2.0\n",
      "C = 3.0\n",
      "GLOBAL_UPDATES = TRUE\n",
      "GLOBAL_RATE = 5\n",
      "BFIELD = FALSE\n",
      "WRITE_EVERY_NTH = 10\n",
      "OPDIM = 3\n",
      "\n",
      "CB = CBFalse\n",
      "p.hoppings = \"1.0,0.5,-0.5,-1.0\"\n",
      "p.Nhoppings = \"none\"\n",
      "p.NNhoppings = \"none\"\n",
      "p.lattice_file = \"C:\\\\Users\\\\carsten\\\\Desktop\\\\sciebo\\\\lattices\\\\square_L_4_W_4.xml\"\n",
      "\n",
      "\n",
      "Loading lattice with 16 sites\n",
      "Initializing neighbor-tables\n",
      "Initializing hopping exponentials\n",
      "\n",
      "Initializing HS field\n",
      "Initializing boson action\n",
      "\n",
      "Building stack\n",
      "Initial propagate: 11 -1\n",
      "Checking Peirls phases\n",
      "\n",
      "Initializing HS field\n",
      "Initializing boson action\n",
      "\n",
      "Building stack\n",
      "Initial propagate: 11 -1\n",
      "1 1\n",
      "2 1\n",
      "1 2\n",
      "2 2\n",
      "\n",
      "Initializing HS field\n",
      "Initializing boson action\n",
      "\n",
      "Building stack\n",
      "Initial propagate: 11 -1\n",
      "\n",
      "Initializing HS field\n",
      "Initializing boson action\n",
      "\n",
      "Building stack\n",
      "Initial propagate: 11 -1\n",
      "\n",
      "Initializing HS field\n",
      "Initializing boson action\n",
      "\n",
      "Building stack\n",
      "Initial propagate: 11 -1\n",
      "\u001b[37m\u001b[1mTest Summary: | \u001b[22m\u001b[39m\u001b[32m\u001b[1mPass  \u001b[22m\u001b[39m\u001b[36m\u001b[1mTotal\u001b[22m\u001b[39m\n",
      "O3 model      | \u001b[32m  74  \u001b[39m\u001b[36m   74\u001b[39m\n"
     ]
    }
   ],
   "source": [
    "# run all\n",
    "include(\"runtests.jl\")"
   ]
  },
  {
   "cell_type": "markdown",
   "metadata": {},
   "source": [
    "# Trying free fermions"
   ]
  },
  {
   "cell_type": "code",
   "execution_count": 51,
   "metadata": {},
   "outputs": [
    {
     "name": "stdout",
     "output_type": "stream",
     "text": [
      "L = 2\n",
      "SLICES = 80\n",
      "DELTA_TAU = 0.1\n",
      "WARMUP = 100\n",
      "SWEEPS = 400\n",
      "SAFE_MULT = 1\n",
      "CHECKERBOARD = FALSE\n",
      "HOPPINGS = 1.0,0.5,-0.5,-1.0\n",
      "MU = -0.5\n",
      "LAMBDA = 0.0\n",
      "U = 0.0\n",
      "R = 1.0\n",
      "C = 0.0\n",
      "GLOBAL_UPDATES = TRUE\n",
      "GLOBAL_RATE = 5\n",
      "BFIELD = FALSE\n",
      "WRITE_EVERY_NTH = 10\n",
      "OPDIM = 1\n",
      "\n",
      "CB = CBFalse\n",
      "p.hoppings = \"1.0,0.5,-0.5,-1.0\"\n",
      "p.Nhoppings = \"none\"\n",
      "p.NNhoppings = \"none\"\n",
      "p.lattice_file = \"C:\\\\Users\\\\carsten\\\\Desktop\\\\sciebo\\\\lattices\\\\square_L_2_W_2.xml\"\n",
      "\n",
      "\n",
      "Loading lattice with 4 sites\n",
      "Initializing neighbor-tables\n",
      "Initializing hopping exponentials\n",
      "\n",
      "Initializing HS field\n",
      "Initializing boson action\n",
      "\n",
      "Building stack\n",
      "Initial propagate: 81 -1\n",
      "\u001b[37m\u001b[1mTest Summary:        | \u001b[22m\u001b[39m\u001b[32m\u001b[1mPass  \u001b[22m\u001b[39m\u001b[36m\u001b[1mTotal\u001b[22m\u001b[39m\n",
      "Compare Greens to ED | \u001b[32m   3  \u001b[39m\u001b[36m    3\u001b[39m\n"
     ]
    },
    {
     "data": {
      "text/plain": [
       "Test.DefaultTestSet(\"Compare Greens to ED\", Any[], 3, false)"
      ]
     },
     "execution_count": 51,
     "metadata": {},
     "output_type": "execute_result"
    }
   ],
   "source": [
    "include(\"freefermions.jl\")"
   ]
  },
  {
   "cell_type": "code",
   "execution_count": null,
   "metadata": {},
   "outputs": [],
   "source": []
  }
 ],
 "metadata": {
  "kernelspec": {
   "display_name": "Julia 1.1.0",
   "language": "julia",
   "name": "julia-1.1"
  },
  "language_info": {
   "file_extension": ".jl",
   "mimetype": "application/julia",
   "name": "julia",
   "version": "1.1.0"
  }
 },
 "nbformat": 4,
 "nbformat_minor": 2
}
