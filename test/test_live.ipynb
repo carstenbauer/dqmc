{
 "cells": [
  {
   "cell_type": "code",
   "execution_count": 1,
   "metadata": {},
   "outputs": [
    {
     "data": {
      "text/plain": [
       "false"
      ]
     },
     "execution_count": 1,
     "metadata": {},
     "output_type": "execute_result"
    }
   ],
   "source": [
    "using Pkg, Revise\n",
    "Pkg.activate(ENV[\"JULIA_DQMC\"])\n",
    "include(joinpath(ENV[\"JULIA_DQMC\"], \"src/dqmc_framework.jl\"))\n",
    "\n",
    "\n",
    "function mc_from_inxml(inxml::AbstractString)\n",
    "    Random.seed!(1234)\n",
    "    if SUPPRESS_DQMC_INIT_OUTPUT\n",
    "        old_stdout = stdout\n",
    "        (rp, wp) = redirect_stdout()\n",
    "    end\n",
    "\n",
    "    @assert isfile(inxml)\n",
    "    p = Params()\n",
    "    p.output_file = \"$(inxml[1:end-7]).out.h5.running\"\n",
    "    xml2parameters!(p, inxml)\n",
    "    mc = DQMC(p)\n",
    "    init!(mc)\n",
    "\n",
    "    if SUPPRESS_DQMC_INIT_OUTPUT\n",
    "        redirect_stdout(old_stdout)\n",
    "        close(wp); close(rp);\n",
    "    end\n",
    "    return mc\n",
    "end\n",
    "\n",
    "(@isdefined SUPPRESS_DQMC_INIT_OUTPUT) || (const SUPPRESS_DQMC_INIT_OUTPUT = false)"
   ]
  },
  {
   "cell_type": "markdown",
   "metadata": {},
   "source": [
    "# Run all tests"
   ]
  },
  {
   "cell_type": "code",
   "execution_count": 2,
   "metadata": {
    "scrolled": false
   },
   "outputs": [
    {
     "name": "stdout",
     "output_type": "stream",
     "text": [
      "L = 4\n",
      "SLICES = 10\n",
      "DELTA_TAU = 0.1\n",
      "WARMUP = 100\n",
      "SWEEPS = 400\n",
      "SAFE_MULT = 10\n",
      "CHECKERBOARD = TRUE\n",
      "HOPPINGS = 1.0,0.5,-0.5,-1.0\n",
      "MU = -0.5\n",
      "LAMBDA = 0.5\n",
      "U = 1.0\n",
      "R = 2.0\n",
      "C = 3.0\n",
      "GLOBAL_UPDATES = TRUE\n",
      "GLOBAL_RATE = 5\n",
      "BFIELD = TRUE\n",
      "WRITE_EVERY_NTH = 10\n",
      "OPDIM = 3\n",
      "\n",
      "CB = CBAssaad\n",
      "p.hoppings = \"1.0,0.5,-0.5,-1.0\"\n",
      "p.Nhoppings = \"none\"\n",
      "p.NNhoppings = \"none\"\n",
      "p.lattice_file = \"C:\\\\Users\\\\carsten\\\\Desktop\\\\sciebo\\\\lattices\\\\square_L_4_W_4.xml\"\n",
      "\n",
      "\n",
      "Loading lattice with 16 sites\n",
      "Initializing neighbor-tables\n",
      "Initializing Peirls phases (Bfield)\n",
      "Initializing hopping exponentials (Bfield)\n",
      "Initializing hopping exponentials (Bfield, Checkerboard)\n",
      "Checkerboard (Bfield) - exact (abs):\t\t0.0024417942043431936\n",
      "\n",
      "Initializing HS field\n",
      "Initializing boson action\n",
      "\n",
      "Building stack\n",
      "Initial propagate: 11 -1\n"
     ]
    },
    {
     "name": "stderr",
     "output_type": "stream",
     "text": [
      "┌ Warning: Calling somewhat inefficient and potentially inaccurate `inv_one_plus_udt`\n",
      "└ @ Main C:\\Users\\carsten\\Desktop\\sciebo\\codes\\julia-sdw-dqmc\\src\\linalg.jl:141\n",
      "┌ Warning: Calling potentially inaccurate `inv_one_plus_udt!`\n",
      "└ @ Main C:\\Users\\carsten\\Desktop\\sciebo\\codes\\julia-sdw-dqmc\\src\\linalg.jl:175\n",
      "┌ Warning: UDT_to_mat! probably shouldn't be called here\n",
      "└ @ Main C:\\Users\\carsten\\Desktop\\sciebo\\codes\\julia-sdw-dqmc\\src\\linalg.jl:497\n",
      "┌ Warning: UDT_to_mat! probably shouldn't be called here\n",
      "└ @ Main C:\\Users\\carsten\\Desktop\\sciebo\\codes\\julia-sdw-dqmc\\src\\linalg.jl:497\n",
      "┌ Warning: UDT_to_mat! probably shouldn't be called here\n",
      "└ @ Main C:\\Users\\carsten\\Desktop\\sciebo\\codes\\julia-sdw-dqmc\\src\\linalg.jl:497\n",
      "┌ Warning: UDT_to_mat! probably shouldn't be called here\n",
      "└ @ Main C:\\Users\\carsten\\Desktop\\sciebo\\codes\\julia-sdw-dqmc\\src\\linalg.jl:497\n",
      "┌ Warning: Calling somewhat inefficient and potentially inaccurate `inv_sum_udts`\n",
      "└ @ Main C:\\Users\\carsten\\Desktop\\sciebo\\codes\\julia-sdw-dqmc\\src\\linalg.jl:263\n",
      "┌ Warning: UDT_to_mat! probably shouldn't be called here\n",
      "└ @ Main C:\\Users\\carsten\\Desktop\\sciebo\\codes\\julia-sdw-dqmc\\src\\linalg.jl:497\n",
      "┌ Warning: Calling potentially inaccurate `inv_sum_udts!`\n",
      "└ @ Main C:\\Users\\carsten\\Desktop\\sciebo\\codes\\julia-sdw-dqmc\\src\\linalg.jl:300\n",
      "┌ Warning: Calling somewhat inefficient `inv_sum_udts_scalettar`\n",
      "└ @ Main C:\\Users\\carsten\\Desktop\\sciebo\\codes\\julia-sdw-dqmc\\src\\linalg.jl:344\n"
     ]
    },
    {
     "name": "stdout",
     "output_type": "stream",
     "text": [
      "L = 4\n",
      "SLICES = 10\n",
      "DELTA_TAU = 0.1\n",
      "WARMUP = 100\n",
      "SWEEPS = 400\n",
      "SAFE_MULT = 10\n",
      "CHECKERBOARD = TRUE\n",
      "HOPPINGS = 1.0,0.5,-0.5,-1.0\n",
      "MU = -0.5\n",
      "LAMBDA = 0.5\n",
      "U = 1.0\n",
      "R = 2.0\n",
      "C = 3.0\n",
      "GLOBAL_UPDATES = TRUE\n",
      "GLOBAL_RATE = 5\n",
      "BFIELD = TRUE\n",
      "WRITE_EVERY_NTH = 10\n",
      "OPDIM = 3\n",
      "\n",
      "CB = CBAssaad\n",
      "p.hoppings = \"1.0,0.5,-0.5,-1.0\"\n",
      "p.Nhoppings = \"none\"\n",
      "p.NNhoppings = \"none\"\n",
      "p.lattice_file = \"C:\\\\Users\\\\carsten\\\\Desktop\\\\sciebo\\\\lattices\\\\square_L_4_W_4.xml\"\n",
      "\n",
      "\n",
      "Loading lattice with 16 sites\n",
      "Initializing neighbor-tables\n",
      "Initializing Peirls phases (Bfield)\n",
      "Initializing hopping exponentials (Bfield)\n",
      "Initializing hopping exponentials (Bfield, Checkerboard)\n",
      "Checkerboard (Bfield) - exact (abs):\t\t0.0024417942043431936\n",
      "\n",
      "Initializing HS field\n",
      "Initializing boson action\n",
      "\n",
      "Building stack\n",
      "Initial propagate: 11 -1\n"
     ]
    },
    {
     "name": "stderr",
     "output_type": "stream",
     "text": [
      "┌ Warning: UDT_to_mat! probably shouldn't be called here\n",
      "└ @ Main C:\\Users\\carsten\\Desktop\\sciebo\\codes\\julia-sdw-dqmc\\src\\linalg.jl:497\n"
     ]
    },
    {
     "name": "stdout",
     "output_type": "stream",
     "text": [
      "L = 4\n",
      "SLICES = 10\n",
      "DELTA_TAU = 0.1\n",
      "WARMUP = 100\n",
      "SWEEPS = 400\n",
      "SAFE_MULT = 10\n",
      "CHECKERBOARD = TRUE\n",
      "HOPPINGS = 1.0,0.5,-0.5,-1.0\n",
      "MU = -0.5\n",
      "LAMBDA = 0.5\n",
      "U = 1.0\n",
      "R = 2.0\n",
      "C = 3.0\n",
      "GLOBAL_UPDATES = TRUE\n",
      "GLOBAL_RATE = 5\n",
      "BFIELD = FALSE\n",
      "WRITE_EVERY_NTH = 10\n",
      "OPDIM = 3\n",
      "\n",
      "CB = CBAssaad\n",
      "p.hoppings = \"1.0,0.5,-0.5,-1.0\"\n",
      "p.Nhoppings = \"none\"\n",
      "p.NNhoppings = \"none\"\n",
      "p.lattice_file = \"C:\\\\Users\\\\carsten\\\\Desktop\\\\sciebo\\\\lattices\\\\square_L_4_W_4.xml\"\n",
      "\n",
      "\n",
      "Loading lattice with 16 sites\n",
      "Initializing neighbor-tables\n",
      "Initializing hopping exponentials\n",
      "Initializing hopping exponentials (Checkerboard)\n",
      "Checkerboard - exact (abs):\t\t8.881784197001252e-16\n",
      "\n",
      "Initializing HS field\n",
      "Initializing boson action\n",
      "\n",
      "Building stack\n",
      "Initial propagate: 11 -1\n",
      "L = 4\n",
      "SLICES = 10\n",
      "DELTA_TAU = 0.1\n",
      "WARMUP = 100\n",
      "SWEEPS = 400\n",
      "SAFE_MULT = 10\n",
      "CHECKERBOARD = FALSE\n",
      "HOPPINGS = 1.0,0.5,-0.5,-1.0\n",
      "MU = -0.5\n",
      "LAMBDA = 0.5\n",
      "U = 1.0\n",
      "R = 2.0\n",
      "C = 3.0\n",
      "GLOBAL_UPDATES = TRUE\n",
      "GLOBAL_RATE = 5\n",
      "BFIELD = FALSE\n",
      "WRITE_EVERY_NTH = 10\n",
      "OPDIM = 3\n",
      "\n",
      "CB = CBFalse\n",
      "p.hoppings = \"1.0,0.5,-0.5,-1.0\"\n",
      "p.Nhoppings = \"none\"\n",
      "p.NNhoppings = \"none\"\n",
      "p.lattice_file = \"C:\\\\Users\\\\carsten\\\\Desktop\\\\sciebo\\\\lattices\\\\square_L_4_W_4.xml\"\n",
      "\n",
      "\n",
      "Loading lattice with 16 sites\n",
      "Initializing neighbor-tables\n",
      "Initializing hopping exponentials\n",
      "\n",
      "Initializing HS field\n",
      "Initializing boson action\n",
      "\n",
      "Building stack\n",
      "Initial propagate: 11 -1\n",
      "Checking Peirls phases\n",
      "\n",
      "Initializing HS field\n",
      "Initializing boson action\n",
      "\n",
      "Building stack\n",
      "Initial propagate: 11 -1\n",
      "1 1\n",
      "2 1\n",
      "1 2\n",
      "2 2\n",
      "\n",
      "Initializing HS field\n",
      "Initializing boson action\n",
      "\n",
      "Building stack\n",
      "Initial propagate: 11 -1\n",
      "\n",
      "Initializing HS field\n",
      "Initializing boson action\n",
      "\n",
      "Building stack\n",
      "Initial propagate: 11 -1\n",
      "\n",
      "Initializing HS field\n",
      "Initializing boson action\n",
      "\n",
      "Building stack\n",
      "Initial propagate: 11 -1\n",
      "SAFE_MULT = 1\n",
      "C = 3.0\n",
      "SLICES = 400\n",
      "L = 10\n",
      "MU1 = -0.5\n",
      "SWEEPS = 20000\n",
      "WRITE_EVERY_NTH = 10\n",
      "GLOBAL_RATE = 5\n",
      "DELTA_TAU = 0.1\n",
      "SEED = 7024142146484287344\n",
      "WARMUP = 1000\n",
      "GIT_COMMIT = ebb8da7049a31d42490d97a0556d64f43ab064c8\n",
      "MU2 = 0.5\n",
      "HOPPINGS = 1.0,0.5,-0.5,-1.0\n",
      "GLOBAL_UPDATES = TRUE\n",
      "OPDIM = 1\n",
      "U = 0.0\n",
      "BFIELD = FALSE\n",
      "CHECKERBOARD = FALSE\n",
      "R = 1.45\n",
      "LAMBDA = 0\n",
      "\n",
      "CB = CBFalse\n",
      "p.hoppings = \"1.0,0.5,-0.5,-1.0\"\n",
      "p.Nhoppings = \"none\"\n",
      "p.NNhoppings = \"none\"\n",
      "p.lattice_file = \"C:\\\\Users\\\\carsten\\\\Desktop\\\\sciebo\\\\lattices\\\\square_L_10_W_10.xml\"\n",
      "\n",
      "\n",
      "Loading lattice with 100 sites\n",
      "Initializing neighbor-tables\n",
      "Initializing hopping exponentials\n",
      "\n",
      "Initializing HS field\n",
      "Initializing boson action\n",
      "\n",
      "Building stack\n",
      "Initial propagate: 401 -1\n",
      "Allocated memory for TDGF measurement.\n",
      "L = 2\n",
      "SLICES = 80\n",
      "DELTA_TAU = 0.1\n",
      "WARMUP = 100\n",
      "SWEEPS = 400\n",
      "SAFE_MULT = 1\n",
      "CHECKERBOARD = FALSE\n",
      "HOPPINGS = 1.0,0.5,-0.5,-1.0\n",
      "MU = -0.5\n",
      "LAMBDA = 0.0\n",
      "U = 0.0\n",
      "R = 1.0\n",
      "C = 0.0\n",
      "GLOBAL_UPDATES = TRUE\n",
      "GLOBAL_RATE = 5\n",
      "BFIELD = FALSE\n",
      "WRITE_EVERY_NTH = 10\n",
      "OPDIM = 1\n",
      "\n",
      "CB = CBFalse\n",
      "p.hoppings = \"1.0,0.5,-0.5,-1.0\"\n",
      "p.Nhoppings = \"none\"\n",
      "p.NNhoppings = \"none\"\n",
      "p.lattice_file = \"C:\\\\Users\\\\carsten\\\\Desktop\\\\sciebo\\\\lattices\\\\square_L_2_W_2.xml\"\n",
      "\n",
      "\n",
      "Loading lattice with 4 sites\n",
      "Initializing neighbor-tables\n",
      "Initializing hopping exponentials\n",
      "\n",
      "Initializing HS field\n",
      "Initializing boson action\n",
      "\n",
      "Building stack\n",
      "Initial propagate: 81 -1\n",
      "Performing ED...\n",
      "Done with ED.\n",
      "\u001b[37m\u001b[1mTest Summary: | \u001b[22m\u001b[39m\u001b[32m\u001b[1mPass  \u001b[22m\u001b[39m\u001b[36m\u001b[1mTotal\u001b[22m\u001b[39m\n",
      "All Tests     | \u001b[32m 141  \u001b[39m\u001b[36m  141\u001b[39m\n"
     ]
    }
   ],
   "source": [
    "# const SUPPRESS_DQMC_INIT_OUTPUT = true\n",
    "include(\"runtests.jl\")"
   ]
  },
  {
   "cell_type": "code",
   "execution_count": null,
   "metadata": {},
   "outputs": [],
   "source": []
  },
  {
   "cell_type": "code",
   "execution_count": null,
   "metadata": {},
   "outputs": [],
   "source": []
  },
  {
   "cell_type": "markdown",
   "metadata": {},
   "source": [
    "# Run subset of tests"
   ]
  },
  {
   "cell_type": "code",
   "execution_count": 33,
   "metadata": {
    "scrolled": false
   },
   "outputs": [
    {
     "name": "stdout",
     "output_type": "stream",
     "text": [
      "\u001b[37m\u001b[1mTest Summary:      |\u001b[22m\u001b[39m\n",
      "Boson measurements | \u001b[36mNo tests\u001b[39m\n",
      "SAFE_MULT = 1\n",
      "C = 3.0\n",
      "SLICES = 400\n",
      "L = 10\n",
      "MU1 = -0.5\n",
      "SWEEPS = 20000\n",
      "WRITE_EVERY_NTH = 10\n",
      "GLOBAL_RATE = 5\n",
      "DELTA_TAU = 0.1\n",
      "SEED = 7024142146484287344\n",
      "WARMUP = 1000\n",
      "GIT_COMMIT = ebb8da7049a31d42490d97a0556d64f43ab064c8\n",
      "MU2 = 0.5\n",
      "HOPPINGS = 1.0,0.5,-0.5,-1.0\n",
      "GLOBAL_UPDATES = TRUE\n",
      "OPDIM = 1\n",
      "U = 0.0\n",
      "BFIELD = FALSE\n",
      "CHECKERBOARD = FALSE\n",
      "R = 1.45\n",
      "LAMBDA = 0\n",
      "\n",
      "CB = CBFalse\n",
      "p.hoppings = \"1.0,0.5,-0.5,-1.0\"\n",
      "p.Nhoppings = \"none\"\n",
      "p.NNhoppings = \"none\"\n",
      "p.lattice_file = \"C:\\\\Users\\\\carsten\\\\Desktop\\\\sciebo\\\\lattices\\\\square_L_10_W_10.xml\"\n",
      "\n",
      "\n",
      "Loading lattice with 100 sites\n",
      "Initializing neighbor-tables\n",
      "Initializing hopping exponentials\n",
      "\n",
      "Initializing HS field\n",
      "Initializing boson action\n",
      "\n",
      "Building stack\n",
      "Initial propagate: 401 -1\n",
      "Allocated memory for TDGF measurement.\n",
      "\u001b[37m\u001b[1mTest Summary:        | \u001b[22m\u001b[39m\u001b[32m\u001b[1mPass  \u001b[22m\u001b[39m\u001b[36m\u001b[1mTotal\u001b[22m\u001b[39m\n",
      "Fermion measurements | \u001b[32m   5  \u001b[39m\u001b[36m    5\u001b[39m\n"
     ]
    }
   ],
   "source": [
    "include(\"tests_O3_measurements.jl\")"
   ]
  },
  {
   "cell_type": "code",
   "execution_count": 2,
   "metadata": {},
   "outputs": [
    {
     "name": "stdout",
     "output_type": "stream",
     "text": [
      "L = 4\n",
      "SLICES = 10\n",
      "DELTA_TAU = 0.1\n",
      "WARMUP = 100\n",
      "SWEEPS = 400\n",
      "SAFE_MULT = 10\n",
      "CHECKERBOARD = TRUE\n",
      "HOPPINGS = 1.0,0.5,-0.5,-1.0\n",
      "MU = -0.5\n",
      "LAMBDA = 0.5\n",
      "U = 1.0\n",
      "R = 2.0\n",
      "C = 3.0\n",
      "GLOBAL_UPDATES = TRUE\n",
      "GLOBAL_RATE = 5\n",
      "BFIELD = TRUE\n",
      "WRITE_EVERY_NTH = 10\n",
      "OPDIM = 3\n",
      "\n",
      "CB = CBAssaad\n",
      "p.hoppings = \"1.0,0.5,-0.5,-1.0\"\n",
      "p.Nhoppings = \"none\"\n",
      "p.NNhoppings = \"none\"\n",
      "p.lattice_file = \"C:\\\\Users\\\\carsten\\\\Desktop\\\\sciebo\\\\lattices\\\\square_L_4_W_4.xml\"\n",
      "\n",
      "\n",
      "Loading lattice with 16 sites\n",
      "Initializing neighbor-tables\n",
      "Initializing Peirls phases (Bfield)\n",
      "Initializing hopping exponentials (Bfield)\n",
      "Initializing hopping exponentials (Bfield, Checkerboard)\n",
      "Checkerboard (Bfield) - exact (abs):\t\t0.0024417942043431936\n",
      "\n",
      "Initializing HS field\n",
      "Initializing boson action\n",
      "\n",
      "Building stack\n",
      "Initial propagate: 11 -1\n"
     ]
    },
    {
     "data": {
      "text/plain": [
       "DQMC of O(3) model\n",
       "r = 2.0, λ = 0.5, c = 3.0, u = 1.0\n",
       "Beta: 1.0 (T ≈ 1.0)\n",
       "Checkerboard: CBAssaad\n",
       "B-field: true"
      ]
     },
     "execution_count": 2,
     "metadata": {},
     "output_type": "execute_result"
    }
   ],
   "source": [
    "mc = mc_from_inxml(\"parameters\\\\O3_generic_small_system.in.xml\")"
   ]
  },
  {
   "cell_type": "code",
   "execution_count": 3,
   "metadata": {},
   "outputs": [],
   "source": [
    "using BenchmarkTools"
   ]
  },
  {
   "cell_type": "code",
   "execution_count": 4,
   "metadata": {},
   "outputs": [
    {
     "name": "stdout",
     "output_type": "stream",
     "text": [
      "  6.340 ms (73 allocations: 1.08 MiB)\n"
     ]
    }
   ],
   "source": [
    "@btime calculate_greens($mc);"
   ]
  },
  {
   "cell_type": "code",
   "execution_count": 5,
   "metadata": {},
   "outputs": [],
   "source": [
    "calculate_greens(mc);\n",
    "g = copy(mc.s.greens);"
   ]
  },
  {
   "cell_type": "code",
   "execution_count": 42,
   "metadata": {},
   "outputs": [
    {
     "data": {
      "text/plain": [
       "calculate_greens_opt (generic function with 1 method)"
      ]
     },
     "execution_count": 42,
     "metadata": {},
     "output_type": "execute_result"
    }
   ],
   "source": [
    "myrdiv!(dest, a, b) = copy!(dest, adjoint(adjoint(b) \\ adjoint(a)))\n",
    "\n",
    "function calculate_greens_opt(mc::AbstractDQMC)\n",
    "  s = mc.s\n",
    "  tmp = mc.s.tmp\n",
    "  tmp2 = mc.s.tmp2\n",
    "  a = mc.a\n",
    "  @mytimeit a.to \"calculate_greens\" begin\n",
    "\n",
    "  mul!(tmp, s.Tl, adjoint(s.Tr))\n",
    "  rmul!(tmp, Diagonal(s.Dr))\n",
    "  lmul!(Diagonal(s.Dl), tmp)\n",
    "  @mytimeit a.to \"decompose_udt!\" s.U, s.T = decompose_udt!(tmp, s.D)\n",
    "\n",
    "  mul!(tmp, s.Ul, s.U)\n",
    "  s.U .= tmp\n",
    "  mul!(tmp2, s.T, adjoint(s.Ur))\n",
    "        \n",
    "  myrdiv!(tmp, s.U', tmp2) # or tmp = s.U' / tmp2 or mul!(tmp, adjoint(s.U), inv(tmp2))\n",
    "  \n",
    "  tmp[diagind(tmp)] .+= s.D\n",
    "  @mytimeit a.to \"decompose_udt!\" u, t = decompose_udt!(tmp, s.d)\n",
    "\n",
    "  mul!(tmp, t, tmp2)\n",
    "  s.T = inv(tmp)\n",
    "  mul!(tmp, s.U, u)\n",
    "  s.U = adjoint(tmp)\n",
    "  s.d .= 1 ./ s.d\n",
    "\n",
    "  copyto!(tmp2, s.U)\n",
    "  lmul!(Diagonal(s.d), tmp2)\n",
    "  mul!(s.greens, s.T, tmp2)\n",
    "  end #timeit\n",
    "  nothing\n",
    "end"
   ]
  },
  {
   "cell_type": "code",
   "execution_count": 43,
   "metadata": {},
   "outputs": [
    {
     "name": "stdout",
     "output_type": "stream",
     "text": [
      "  5.158 ms (75 allocations: 1.08 MiB)\n",
      "max absdiff: 1.0e-15\n",
      "mean absdiff: 9.4e-17\n",
      "max reldiff: 1.3e-11\n",
      "mean reldiff: 2.2e-13\n",
      "effective max reldiff: 0.0e+00\n",
      "effective mean reldiff: 0.0e+00\n"
     ]
    },
    {
     "data": {
      "text/plain": [
       "true"
      ]
     },
     "execution_count": 43,
     "metadata": {},
     "output_type": "execute_result"
    }
   ],
   "source": [
    "@btime calculate_greens_opt($mc);\n",
    "gopt = mc.s.greens\n",
    "compare(gopt, g)"
   ]
  },
  {
   "cell_type": "code",
   "execution_count": 39,
   "metadata": {},
   "outputs": [
    {
     "name": "stdout",
     "output_type": "stream",
     "text": [
      "  5.134 ms (75 allocations: 1.08 MiB)\n",
      "max absdiff: 1.0e-15\n",
      "mean absdiff: 9.4e-17\n",
      "max reldiff: 1.3e-11\n",
      "mean reldiff: 2.2e-13\n",
      "effective max reldiff: 0.0e+00\n",
      "effective mean reldiff: 0.0e+00\n"
     ]
    },
    {
     "data": {
      "text/plain": [
       "true"
      ]
     },
     "execution_count": 39,
     "metadata": {},
     "output_type": "execute_result"
    }
   ],
   "source": [
    "@btime calculate_greens_opt($mc);\n",
    "gopt = mc.s.greens\n",
    "compare(gopt, g)"
   ]
  },
  {
   "cell_type": "code",
   "execution_count": 11,
   "metadata": {},
   "outputs": [
    {
     "name": "stdout",
     "output_type": "stream",
     "text": [
      "  5.170 ms (76 allocations: 1.14 MiB)\n",
      "max absdiff: 1.0e-15\n",
      "mean absdiff: 9.4e-17\n",
      "max reldiff: 1.3e-11\n",
      "mean reldiff: 2.2e-13\n",
      "effective max reldiff: 0.0e+00\n",
      "effective mean reldiff: 0.0e+00\n"
     ]
    },
    {
     "data": {
      "text/plain": [
       "true"
      ]
     },
     "execution_count": 11,
     "metadata": {},
     "output_type": "execute_result"
    }
   ],
   "source": [
    "@btime calculate_greens_opt($mc);\n",
    "gopt = mc.s.greens\n",
    "compare(gopt, g)"
   ]
  },
  {
   "cell_type": "code",
   "execution_count": 47,
   "metadata": {},
   "outputs": [
    {
     "name": "stdout",
     "output_type": "stream",
     "text": [
      "  1.099 ms (0 allocations: 0 bytes)\n",
      "  1.108 ms (0 allocations: 0 bytes)\n"
     ]
    }
   ],
   "source": [
    "a = rand(geltype(mc), 1000, 1000);\n",
    "b = rand(geltype(mc), 1000, 1000);\n",
    "\n",
    "@btime copy!($a, $b);\n",
    "@btime copyto!($a, $b);"
   ]
  },
  {
   "cell_type": "code",
   "execution_count": 49,
   "metadata": {},
   "outputs": [
    {
     "data": {
      "text/html": [
       "copyto!<i>{T}</i>(dest::<b>Array{T,N} where N</b>, src::<b>Array{T,N} where N</b>) in Base at <a href=\"https://github.com/JuliaLang/julia/tree/80516ca20297a67b996caa08c38786332379b6a5/base/array.jl#L286\" target=\"_blank\">array.jl:286</a>"
      ],
      "text/plain": [
       "copyto!(dest::Array{T,N} where N, src::Array{T,N} where N) where T in Base at array.jl:286"
      ]
     },
     "execution_count": 49,
     "metadata": {},
     "output_type": "execute_result"
    }
   ],
   "source": [
    "@which copyto!(a,b)"
   ]
  },
  {
   "cell_type": "code",
   "execution_count": null,
   "metadata": {},
   "outputs": [],
   "source": []
  }
 ],
 "metadata": {
  "kernelspec": {
   "display_name": "Julia 1.1.0",
   "language": "julia",
   "name": "julia-1.1"
  },
  "language_info": {
   "file_extension": ".jl",
   "mimetype": "application/julia",
   "name": "julia",
   "version": "1.1.0"
  }
 },
 "nbformat": 4,
 "nbformat_minor": 2
}
