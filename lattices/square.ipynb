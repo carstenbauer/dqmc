{
 "cells": [
  {
   "cell_type": "markdown",
   "metadata": {},
   "source": [
    "# Generate Honeycomb lattice"
   ]
  },
  {
   "cell_type": "markdown",
   "metadata": {},
   "source": [
    "## Calculate site positions, bonds etc."
   ]
  },
  {
   "cell_type": "code",
   "execution_count": 9,
   "metadata": {},
   "outputs": [],
   "source": [
    "# if length(ARGS) < 1 error(\"L argument missing\") end\n",
    "# L=parse(Int, ARGS[1])\n",
    "L = 4\n",
    "N=L^2\n",
    "nbonds = Int(4*N/2)\n",
    "\n",
    "# nearest neighbor square lattice\n",
    "sql = reshape(1:N, L, L)\n",
    "up = circshift(sql,(-1,0))\n",
    "right = circshift(sql,(0,-1))\n",
    "down = circshift(sql,(1,0))\n",
    "left = circshift(sql,(0,1))\n",
    "neighbors = vcat(up[:]',right[:]',down[:]',left[:]') # colidx = site, rowidx = up right down left\n",
    "\n",
    "# site positions\n",
    "positions = Vector{Vector{Float64}}(N)\n",
    "pi = 1\n",
    "for x in 1:L\n",
    "    for y in 1:L\n",
    "        positions[pi] = [x, y]-1.0\n",
    "        pi += 1\n",
    "    end\n",
    "end\n",
    "\n",
    "\n",
    "# bonds\n",
    "bonds = Vector{Vector{Int}}(nbonds) # from, to, type\n",
    "bondvecs = Vector{Vector{Float64}}(nbonds) # to_pos - from_pos\n",
    "ibond = 1\n",
    "for site in 1:N\n",
    "    up = neighbors[1,site]\n",
    "    right = neighbors[2,site]\n",
    "    \n",
    "    # up bond\n",
    "    bonds[ibond] = [site, up, 0]\n",
    "    bondvecs[ibond] = [0, 1]\n",
    "    ibond += 1\n",
    "    \n",
    "    # right bond\n",
    "    bonds[ibond] = [site, right, 0]\n",
    "    bondvecs[ibond] = [1, 0]\n",
    "    ibond += 1\n",
    "end"
   ]
  },
  {
   "cell_type": "markdown",
   "metadata": {},
   "source": [
    "## Plot lattice"
   ]
  },
  {
   "cell_type": "code",
   "execution_count": 12,
   "metadata": {},
   "outputs": [
    {
     "data": {
      "image/png": "[encoded data removed]",
      "text/plain": [
       "PyPlot.Figure(PyObject <matplotlib.figure.Figure object at 0x000000002C652B38>)"
      ]
     },
     "metadata": {},
     "output_type": "display_data"
    }
   ],
   "source": [
    "using PyPlot\n",
    "\n",
    "# plot bonds\n",
    "for (ibond, b) in enumerate(bonds)\n",
    "    src = positions[b[1]]\n",
    "    trg = positions[b[2]]\n",
    "    \n",
    "    # don't show pbc bonds\n",
    "    b[2] > b[1] || continue\n",
    "    b[2] - b[1] < 2*L || continue\n",
    "\n",
    "    plot([src[1], trg[1]], [src[2], trg[2]], color=\"black\", linewidth=2.0)\n",
    "    gca()[:set_axis_off]()\n",
    "end\n",
    "\n",
    "# plot sites\n",
    "for (s, pos) in enumerate(positions)\n",
    "    plot(pos..., marker=\"o\", markersize=13, color=\"white\", mec=\"black\", mew=1.5)\n",
    "    \n",
    "end\n",
    "# scatter(getindex.(positions, 1), getindex.(positions, 2), c=1:length(positions), cmap=\"Blues\")\n",
    "\n",
    "axis(\"equal\")\n",
    "savefig(\"square_L_$(L)_W_$(L).pdf\")"
   ]
  },
  {
   "cell_type": "markdown",
   "metadata": {},
   "source": [
    "## Create ALPS like XML"
   ]
  },
  {
   "cell_type": "code",
   "execution_count": 17,
   "metadata": {},
   "outputs": [
    {
     "name": "stdout",
     "output_type": "stream",
     "text": [
      "Done.\n"
     ]
    }
   ],
   "source": [
    "using LightXML\n",
    "\n",
    "# create an empty XML document\n",
    "xdoc = XMLDocument()\n",
    "\n",
    "# create & attach a graph (root) node\n",
    "graph = create_root(xdoc, \"GRAPH\")\n",
    "nedges = Int(4*N/2)\n",
    "set_attributes(graph, dimension=2, vertices=N, edges=nedges)\n",
    "\n",
    "function addvertex!(node, id, typ, coordinates)\n",
    "    v = new_child(node, \"VERTEX\")\n",
    "    set_attributes(v, Dict(\"id\"=>id, \"type\"=>typ))\n",
    "\n",
    "    vc = new_child(v, \"COORDINATE\")\n",
    "    add_text(vc, \"$(join(coordinates, \" \"))\")\n",
    "end\n",
    "\n",
    "function addedge!(node, src, trg, id, typ, vector)\n",
    "    edge = new_child(node, \"EDGE\")\n",
    "    set_attributes(edge, id=id)\n",
    "    set_attributes(edge, source=src, target=trg)\n",
    "    set_attributes(edge, Dict(\"type\"=>typ, \"vector\"=>join(vector, \" \")))\n",
    "end\n",
    "\n",
    "# add vertices to graph\n",
    "for (vi, pos) in enumerate(positions)\n",
    "    addvertex!(graph, vi, 0, Int.(pos))\n",
    "    \n",
    "end\n",
    "\n",
    "# add edges to graph\n",
    "for (ibond, b) in enumerate(bonds)\n",
    "    addedge!(graph, b[1], b[2], ibond, b[3], Int.(bondvecs[ibond]))\n",
    "end\n",
    "\n",
    "# s = string(xdoc);\n",
    "# print(xdoc)\n",
    "\n",
    "# save_file(xdoc, \"square_L_$(L)_W_$(L).xml\")\n",
    "println(\"Done.\")"
   ]
  },
  {
   "cell_type": "code",
   "execution_count": null,
   "metadata": {
    "collapsed": true
   },
   "outputs": [],
   "source": []
  }
 ],
 "metadata": {
  "kernelspec": {
   "display_name": "Julia 0.6.1",
   "language": "julia",
   "name": "julia-0.6"
  },
  "language_info": {
   "file_extension": ".jl",
   "mimetype": "application/julia",
   "name": "julia",
   "version": "0.6.1"
  }
 },
 "nbformat": 4,
 "nbformat_minor": 2
}
