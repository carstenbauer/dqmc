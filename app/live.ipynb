{
 "cells": [
  {
   "cell_type": "code",
   "execution_count": 1,
   "metadata": {},
   "outputs": [
    {
     "name": "stdout",
     "output_type": "stream",
     "text": [
      "L = 2\n",
      "SLICES = 100\n",
      "DELTA_TAU = 0.1\n",
      "WARMUP = 100\n",
      "SWEEPS = 400\n",
      "SAFE_MULT = 10\n",
      "CHECKERBOARD = TRUE\n",
      "HOPPINGS = 1.0,0.5,-0.5,-1.0\n",
      "MU = -0.5\n",
      "LAMBDA = 0.5\n",
      "U = 1.0\n",
      "R = 2.0\n",
      "C = 3.0\n",
      "GLOBAL_UPDATES = TRUE\n",
      "GLOBAL_RATE = 5\n",
      "BFIELD = TRUE\n",
      "WRITE_EVERY_NTH = 10\n",
      "OPDIM = 3\n",
      "\n",
      "CB = CBAssaad\n",
      "p.hoppings = \"1.0,0.5,-0.5,-1.0\"\n",
      "p.Nhoppings = \"none\"\n",
      "p.NNhoppings = \"none\"\n",
      "p.lattice_file = \"C:\\\\Users\\\\carsten\\\\Desktop\\\\sciebo\\\\lattices\\\\square_L_2_W_2.xml\"\n",
      "\n",
      "\n",
      "Loading lattice with 4 sites\n",
      "Initializing neighbor-tables\n",
      "Initializing Peirls phases (Bfield)\n",
      "Initializing hopping exponentials (Bfield)\n",
      "Initializing hopping exponentials (Bfield, Checkerboard)\n",
      "Checkerboard (Bfield) - exact (abs):\t\t1.6653345369377348e-15\n",
      "\n",
      "Initializing HS field\n",
      "Initializing boson action\n",
      "\n",
      "Building stack\n",
      "Initial propagate: 101 -1\n"
     ]
    },
    {
     "data": {
      "text/plain": [
       "DQMC of O(3) model\n",
       "r = 2.0, λ = 0.5, c = 3.0, u = 1.0\n",
       "Beta: 10.0 (T ≈ 0.1)\n",
       "Checkerboard: CBAssaad\n",
       "B-field: true"
      ]
     },
     "execution_count": 1,
     "metadata": {},
     "output_type": "execute_result"
    }
   ],
   "source": [
    "using Pkg\n",
    "Pkg.activate(ENV[\"JULIA_DQMC\"])\n",
    "\n",
    "using Revise, BenchmarkTools\n",
    "include(joinpath(ENV[\"JULIA_DQMC\"], \"src/dqmc_framework.jl\"))\n",
    "\n",
    "input = \"dqmc.in.xml\" # choose DQMC input file\n",
    "\n",
    "p = Params()\n",
    "p.output_file = \"live.out.h5.running\"\n",
    "xml2parameters!(p, input)\n",
    "\n",
    "mc = DQMC(p)\n",
    "\n",
    "init!(mc)\n",
    "\n",
    "mc"
   ]
  },
  {
   "cell_type": "code",
   "execution_count": null,
   "metadata": {},
   "outputs": [],
   "source": []
  },
  {
   "cell_type": "code",
   "execution_count": null,
   "metadata": {},
   "outputs": [],
   "source": []
  }
 ],
 "metadata": {
  "kernelspec": {
   "display_name": "Julia 1.1.0",
   "language": "julia",
   "name": "julia-1.1"
  },
  "language_info": {
   "file_extension": ".jl",
   "mimetype": "application/julia",
   "name": "julia",
   "version": "1.1.0"
  }
 },
 "nbformat": 4,
 "nbformat_minor": 2
}
