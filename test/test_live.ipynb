{
 "cells": [
  {
   "cell_type": "code",
   "execution_count": 13,
   "metadata": {},
   "outputs": [
    {
     "data": {
      "text/plain": [
       "true"
      ]
     },
     "execution_count": 13,
     "metadata": {},
     "output_type": "execute_result"
    }
   ],
   "source": [
    "using Pkg, Revise\n",
    "Pkg.activate(ENV[\"JULIA_DQMC\"])\n",
    "include(joinpath(ENV[\"JULIA_DQMC\"], \"src/dqmc_framework.jl\"))\n",
    "\n",
    "\n",
    "function mc_from_inxml(inxml::AbstractString)\n",
    "    Random.seed!(1234)\n",
    "    if SUPPRESS_DQMC_INIT_OUTPUT\n",
    "        old_stdout = stdout\n",
    "        (rp, wp) = redirect_stdout()\n",
    "    end\n",
    "\n",
    "    @assert isfile(inxml)\n",
    "    p = Params()\n",
    "    p.output_file = \"$(inxml[1:end-7]).out.h5.running\"\n",
    "    xml2parameters!(p, inxml)\n",
    "    mc = DQMC(p)\n",
    "    init!(mc)\n",
    "\n",
    "    if SUPPRESS_DQMC_INIT_OUTPUT\n",
    "        redirect_stdout(old_stdout)\n",
    "        close(wp); close(rp);\n",
    "    end\n",
    "    return mc\n",
    "end\n",
    "\n",
    "(@isdefined SUPPRESS_DQMC_INIT_OUTPUT) || (const SUPPRESS_DQMC_INIT_OUTPUT = false)"
   ]
  },
  {
   "cell_type": "markdown",
   "metadata": {},
   "source": [
    "# Run all tests"
   ]
  },
  {
   "cell_type": "code",
   "execution_count": 63,
   "metadata": {
    "scrolled": true
   },
   "outputs": [
    {
     "name": "stdout",
     "output_type": "stream",
     "text": [
      "L = 4\n",
      "SLICES = 10\n",
      "DELTA_TAU = 0.1\n",
      "WARMUP = 100\n",
      "SWEEPS = 400\n",
      "SAFE_MULT = 10\n",
      "CHECKERBOARD = TRUE\n",
      "HOPPINGS = 1.0,0.5,-0.5,-1.0\n",
      "MU = -0.5\n",
      "LAMBDA = 0.5\n",
      "U = 1.0\n",
      "R = 2.0\n",
      "C = 3.0\n",
      "GLOBAL_UPDATES = TRUE\n",
      "GLOBAL_RATE = 5\n",
      "BFIELD = TRUE\n",
      "WRITE_EVERY_NTH = 10\n",
      "OPDIM = 3\n",
      "\n",
      "CB = CBAssaad\n",
      "p.hoppings = \"1.0,0.5,-0.5,-1.0\"\n",
      "p.Nhoppings = \"none\"\n",
      "p.NNhoppings = \"none\"\n",
      "p.lattice_file = \"C:\\\\Users\\\\carsten\\\\Desktop\\\\sciebo\\\\lattices\\\\square_L_4_W_4.xml\"\n",
      "\n",
      "\n",
      "Loading lattice with 16 sites\n",
      "Initializing neighbor-tables\n",
      "Initializing Peirls phases (Bfield)\n",
      "Initializing hopping exponentials (Bfield)\n",
      "Initializing hopping exponentials (Bfield, Checkerboard)\n",
      "Checkerboard (Bfield) - exact (abs):\t\t0.0024417942043431936\n",
      "\n",
      "Initializing HS field\n",
      "Initializing boson action\n",
      "\n",
      "Building stack\n",
      "Initial propagate: 11 -1\n",
      "\u001b[37mUDV: \u001b[39m\u001b[91m\u001b[1mError During Test\u001b[22m\u001b[39m at \u001b[39m\u001b[1mC:\\Users\\carsten\\Desktop\\sciebo\\codes\\julia-sdw-dqmc\\test\\tests_linalg.jl:183\u001b[22m\n",
      "  Test threw exception\n",
      "  Expression: inv_udv!(res, u, d, v) == nothing\n",
      "  InexactError: Float64(0.006311966824444461 - 0.0166887445426804im)\n",
      "  Stacktrace:\n",
      "   [1] Type at .\\complex.jl:37 [inlined]\n",
      "   [2] convert at .\\number.jl:7 [inlined]\n",
      "   [3] setindex!(::Array{Float64,2}, ::Complex{Float64}, ::Int64) at .\\array.jl:767\n",
      "   [4] _generic_matmatmul!(::Array{Float64,2}, ::Char, ::Char, ::Array{Complex{Float64},2}, ::Array{Complex{Float64},2}) at C:\\cygwin\\home\\Administrator\\buildbot\\worker\\package_win64\\build\\usr\\share\\julia\\stdlib\\v1.1\\LinearAlgebra\\src\\matmul.jl:651\n",
      "   [5] generic_matmatmul!(::Array{Float64,2}, ::Char, ::Char, ::Array{Complex{Float64},2}, ::Array{Complex{Float64},2}) at C:\\cygwin\\home\\Administrator\\buildbot\\worker\\package_win64\\build\\usr\\share\\julia\\stdlib\\v1.1\\LinearAlgebra\\src\\matmul.jl:581\n",
      "   [6] mul! at C:\\cygwin\\home\\Administrator\\buildbot\\worker\\package_win64\\build\\usr\\share\\julia\\stdlib\\v1.1\\LinearAlgebra\\src\\matmul.jl:310 [inlined]\n",
      "   [7] inv_udv!(::Array{Float64,2}, ::Array{Complex{Float64},2}, ::Array{Float64,1}, ::Array{Complex{Float64},2}) at C:\\Users\\carsten\\Desktop\\sciebo\\codes\\julia-sdw-dqmc\\src\\linalg.jl:106\n",
      "   [8] top-level scope at C:\\Users\\carsten\\Desktop\\sciebo\\codes\\julia-sdw-dqmc\\test\\tests_linalg.jl:183\n",
      "   [9] top-level scope at C:\\cygwin\\home\\Administrator\\buildbot\\worker\\package_win64\\build\\usr\\share\\julia\\stdlib\\v1.1\\Test\\src\\Test.jl:1083\n",
      "   [10] top-level scope at C:\\Users\\carsten\\Desktop\\sciebo\\codes\\julia-sdw-dqmc\\test\\tests_linalg.jl:177\n",
      "   [11] top-level scope at C:\\cygwin\\home\\Administrator\\buildbot\\worker\\package_win64\\build\\usr\\share\\julia\\stdlib\\v1.1\\Test\\src\\Test.jl:1083\n",
      "   [12] top-level scope at C:\\Users\\carsten\\Desktop\\sciebo\\codes\\julia-sdw-dqmc\\test\\tests_linalg.jl:115\n",
      "   [13] top-level scope at C:\\cygwin\\home\\Administrator\\buildbot\\worker\\package_win64\\build\\usr\\share\\julia\\stdlib\\v1.1\\Test\\src\\Test.jl:1083\n",
      "   [14] top-level scope at C:\\Users\\carsten\\Desktop\\sciebo\\codes\\julia-sdw-dqmc\\test\\tests_linalg.jl:35\n",
      "\u001b[37mUDV: \u001b[39m\u001b[91m\u001b[1mTest Failed\u001b[22m\u001b[39m at \u001b[39m\u001b[1mC:\\Users\\carsten\\Desktop\\sciebo\\codes\\julia-sdw-dqmc\\test\\tests_linalg.jl:184\u001b[22m\n",
      "  Expression: isapprox(res, inv_X)\n",
      "   Evaluated: isapprox([1.79943e-315 4.73709e-316 … 6.83448e-316 1.10517e-316; 3.34358e-316 1.07071e-313 … 6.83448e-316 1.10786e-316; … ; 4.7372e-316 4.73716e-316 … 1.10786e-316 0.0; 4.7372e-316 4.7372e-316 … 1.10677e-316 1.9315e-304], Complex{Float64}[0.0750005+0.258825im 0.451593-0.118805im … -0.234189-0.689776im -0.225156-0.315405im; 0.00791718-0.262722im -0.149225-0.199192im … 0.010085+0.632157im -0.196975+0.00668664im; … ; 0.0712482+0.0618467im 0.0184309+0.05878im … 0.240327-0.490489im 0.127353-0.0780862im; 0.385677-0.345079im -0.395033+0.187846im … -0.996989+0.596221im 0.0858813+0.279898im])\n",
      "Stacktrace:\n",
      " [1] top-level scope at \u001b[1mC:\\Users\\carsten\\Desktop\\sciebo\\codes\\julia-sdw-dqmc\\test\\tests_linalg.jl:184\u001b[22m\n",
      " [2] top-level scope at \u001b[1mC:\\cygwin\\home\\Administrator\\buildbot\\worker\\package_win64\\build\\usr\\share\\julia\\stdlib\\v1.1\\Test\\src\\Test.jl:1083\u001b[22m\n",
      " [3] top-level scope at \u001b[1mC:\\Users\\carsten\\Desktop\\sciebo\\codes\\julia-sdw-dqmc\\test\\tests_linalg.jl:177\u001b[22m\n",
      " [4] top-level scope at \u001b[1mC:\\cygwin\\home\\Administrator\\buildbot\\worker\\package_win64\\build\\usr\\share\\julia\\stdlib\\v1.1\\Test\\src\\Test.jl:1083\u001b[22m\n",
      " [5] top-level scope at \u001b[1mC:\\Users\\carsten\\Desktop\\sciebo\\codes\\julia-sdw-dqmc\\test\\tests_linalg.jl:115\u001b[22m\n",
      " [6] top-level scope at \u001b[1mC:\\cygwin\\home\\Administrator\\buildbot\\worker\\package_win64\\build\\usr\\share\\julia\\stdlib\\v1.1\\Test\\src\\Test.jl:1083\u001b[22m\n",
      " [7] top-level scope at \u001b[1mC:\\Users\\carsten\\Desktop\\sciebo\\codes\\julia-sdw-dqmc\\test\\tests_linalg.jl:35\u001b[22m\n",
      "\u001b[37mUDV: \u001b[39m\u001b[91m\u001b[1mError During Test\u001b[22m\u001b[39m at \u001b[39m\u001b[1mC:\\Users\\carsten\\Desktop\\sciebo\\codes\\julia-sdw-dqmc\\test\\tests_linalg.jl:192\u001b[22m\n",
      "  Test threw exception\n",
      "  Expression: inv_one_plus_udv_scalettar!(mc, res, u, d, v) == nothing\n",
      "  InexactError: Float64(0.19357518539721077 - 0.19659543141173336im)\n",
      "  Stacktrace:\n",
      "   [1] Type at .\\complex.jl:37 [inlined]\n",
      "   [2] convert at .\\number.jl:7 [inlined]\n",
      "   [3] setindex!(::Array{Float64,2}, ::Complex{Float64}, ::Int64) at .\\array.jl:767\n",
      "   [4] _generic_matmatmul!(::Array{Float64,2}, ::Char, ::Char, ::Array{Complex{Float64},2}, ::Array{Complex{Float64},2}) at C:\\cygwin\\home\\Administrator\\buildbot\\worker\\package_win64\\build\\usr\\share\\julia\\stdlib\\v1.1\\LinearAlgebra\\src\\matmul.jl:651\n",
      "   [5] generic_matmatmul!(::Array{Float64,2}, ::Char, ::Char, ::Array{Complex{Float64},2}, ::Array{Complex{Float64},2}) at C:\\cygwin\\home\\Administrator\\buildbot\\worker\\package_win64\\build\\usr\\share\\julia\\stdlib\\v1.1\\LinearAlgebra\\src\\matmul.jl:581\n",
      "   [6] mul! at C:\\cygwin\\home\\Administrator\\buildbot\\worker\\package_win64\\build\\usr\\share\\julia\\stdlib\\v1.1\\LinearAlgebra\\src\\matmul.jl:175 [inlined]\n",
      "   [7] inv_one_plus_udv_scalettar!(::DQMC{CBAssaad,Complex{Float64},Complex{Float64}}, ::Array{Float64,2}, ::Array{Complex{Float64},2}, ::Array{Float64,1}, ::Array{Complex{Float64},2}) at C:\\Users\\carsten\\Desktop\\sciebo\\codes\\julia-sdw-dqmc\\src\\linalg.jl:198\n",
      "   [8] top-level scope at C:\\Users\\carsten\\Desktop\\sciebo\\codes\\julia-sdw-dqmc\\test\\tests_linalg.jl:192\n",
      "   [9] top-level scope at C:\\cygwin\\home\\Administrator\\buildbot\\worker\\package_win64\\build\\usr\\share\\julia\\stdlib\\v1.1\\Test\\src\\Test.jl:1083\n",
      "   [10] top-level scope at C:\\Users\\carsten\\Desktop\\sciebo\\codes\\julia-sdw-dqmc\\test\\tests_linalg.jl:177\n",
      "   [11] top-level scope at C:\\cygwin\\home\\Administrator\\buildbot\\worker\\package_win64\\build\\usr\\share\\julia\\stdlib\\v1.1\\Test\\src\\Test.jl:1083\n",
      "   [12] top-level scope at C:\\Users\\carsten\\Desktop\\sciebo\\codes\\julia-sdw-dqmc\\test\\tests_linalg.jl:115\n",
      "   [13] top-level scope at C:\\cygwin\\home\\Administrator\\buildbot\\worker\\package_win64\\build\\usr\\share\\julia\\stdlib\\v1.1\\Test\\src\\Test.jl:1083\n",
      "   [14] top-level scope at C:\\Users\\carsten\\Desktop\\sciebo\\codes\\julia-sdw-dqmc\\test\\tests_linalg.jl:35\n",
      "\u001b[37mUDV: \u001b[39m\u001b[91m\u001b[1mTest Failed\u001b[22m\u001b[39m at \u001b[39m\u001b[1mC:\\Users\\carsten\\Desktop\\sciebo\\codes\\julia-sdw-dqmc\\test\\tests_linalg.jl:193\u001b[22m\n",
      "  Expression: isapprox(res, inv_I_plus_X)\n",
      "   Evaluated: isapprox([1.79943e-315 4.73709e-316 … 6.83448e-316 1.10517e-316; 3.34358e-316 1.07071e-313 … 6.83448e-316 1.10786e-316; … ; 4.7372e-316 4.73716e-316 … 1.10786e-316 0.0; 4.7372e-316 4.7372e-316 … 1.10677e-316 1.9315e-304], Complex{Float64}[0.227809-0.219976im -0.181357+0.62357im … 0.461186+0.312143im 0.212568+0.494698im; -0.317151+0.135746im -0.126826+0.0531185im … -0.154515+0.222574im -0.466513+0.0732586im; … ; 0.219931-0.388496im 0.320533+0.364531im … 0.570662-0.0702403im 0.620406+0.0325341im; -0.261449-0.124543im -0.10814-0.139345im … -0.296406-0.133369im -0.21996-0.287195im])\n",
      "Stacktrace:\n",
      " [1] top-level scope at \u001b[1mC:\\Users\\carsten\\Desktop\\sciebo\\codes\\julia-sdw-dqmc\\test\\tests_linalg.jl:193\u001b[22m\n",
      " [2] top-level scope at \u001b[1mC:\\cygwin\\home\\Administrator\\buildbot\\worker\\package_win64\\build\\usr\\share\\julia\\stdlib\\v1.1\\Test\\src\\Test.jl:1083\u001b[22m\n",
      " [3] top-level scope at \u001b[1mC:\\Users\\carsten\\Desktop\\sciebo\\codes\\julia-sdw-dqmc\\test\\tests_linalg.jl:177\u001b[22m\n",
      " [4] top-level scope at \u001b[1mC:\\cygwin\\home\\Administrator\\buildbot\\worker\\package_win64\\build\\usr\\share\\julia\\stdlib\\v1.1\\Test\\src\\Test.jl:1083\u001b[22m\n",
      " [5] top-level scope at \u001b[1mC:\\Users\\carsten\\Desktop\\sciebo\\codes\\julia-sdw-dqmc\\test\\tests_linalg.jl:115\u001b[22m\n",
      " [6] top-level scope at \u001b[1mC:\\cygwin\\home\\Administrator\\buildbot\\worker\\package_win64\\build\\usr\\share\\julia\\stdlib\\v1.1\\Test\\src\\Test.jl:1083\u001b[22m\n",
      " [7] top-level scope at \u001b[1mC:\\Users\\carsten\\Desktop\\sciebo\\codes\\julia-sdw-dqmc\\test\\tests_linalg.jl:35\u001b[22m\n"
     ]
    },
    {
     "name": "stdout",
     "output_type": "stream",
     "text": [
      "\u001b[37mUDV: \u001b[39m\u001b[91m\u001b[1mError During Test\u001b[22m\u001b[39m at \u001b[39m\u001b[1mC:\\Users\\carsten\\Desktop\\sciebo\\codes\\julia-sdw-dqmc\\test\\tests_linalg.jl:197\u001b[22m\n",
      "  Test threw exception\n",
      "  Expression: UDV_to_mat!(res, u, d, v) == nothing\n",
      "  InexactError: Float64(0.6888695879559467 + 0.634009944294587im)\n",
      "  Stacktrace:\n",
      "   [1] Type at .\\complex.jl:37 [inlined]\n",
      "   [2] convert at .\\number.jl:7 [inlined]\n",
      "   [3] setindex!(::Array{Float64,2}, ::Complex{Float64}, ::Int64) at .\\array.jl:767\n",
      "   [4] _generic_matmatmul!(::Array{Float64,2}, ::Char, ::Char, ::Array{Complex{Float64},2}, ::Array{Complex{Float64},2}) at C:\\cygwin\\home\\Administrator\\buildbot\\worker\\package_win64\\build\\usr\\share\\julia\\stdlib\\v1.1\\LinearAlgebra\\src\\matmul.jl:651\n",
      "   [5] generic_matmatmul!(::Array{Float64,2}, ::Char, ::Char, ::Array{Complex{Float64},2}, ::Array{Complex{Float64},2}) at C:\\cygwin\\home\\Administrator\\buildbot\\worker\\package_win64\\build\\usr\\share\\julia\\stdlib\\v1.1\\LinearAlgebra\\src\\matmul.jl:581\n",
      "   [6] mul! at C:\\cygwin\\home\\Administrator\\buildbot\\worker\\package_win64\\build\\usr\\share\\julia\\stdlib\\v1.1\\LinearAlgebra\\src\\matmul.jl:175 [inlined]\n",
      "   [7] #UDV_to_mat!#201(::Bool, ::Function, ::Array{Float64,2}, ::Array{Complex{Float64},2}, ::Array{Float64,1}, ::Array{Complex{Float64},2}) at C:\\Users\\carsten\\Desktop\\sciebo\\codes\\julia-sdw-dqmc\\src\\linalg.jl:212\n",
      "   [8] UDV_to_mat!(::Array{Float64,2}, ::Array{Complex{Float64},2}, ::Array{Float64,1}, ::Array{Complex{Float64},2}) at C:\\Users\\carsten\\Desktop\\sciebo\\codes\\julia-sdw-dqmc\\src\\linalg.jl:209\n",
      "   [9] top-level scope at C:\\Users\\carsten\\Desktop\\sciebo\\codes\\julia-sdw-dqmc\\test\\tests_linalg.jl:197\n",
      "   [10] top-level scope at C:\\cygwin\\home\\Administrator\\buildbot\\worker\\package_win64\\build\\usr\\share\\julia\\stdlib\\v1.1\\Test\\src\\Test.jl:1083\n",
      "   [11] top-level scope at C:\\Users\\carsten\\Desktop\\sciebo\\codes\\julia-sdw-dqmc\\test\\tests_linalg.jl:177\n",
      "   [12] top-level scope at C:\\cygwin\\home\\Administrator\\buildbot\\worker\\package_win64\\build\\usr\\share\\julia\\stdlib\\v1.1\\Test\\src\\Test.jl:1083\n",
      "   [13] top-level scope at C:\\Users\\carsten\\Desktop\\sciebo\\codes\\julia-sdw-dqmc\\test\\tests_linalg.jl:115\n",
      "   [14] top-level scope at C:\\cygwin\\home\\Administrator\\buildbot\\worker\\package_win64\\build\\usr\\share\\julia\\stdlib\\v1.1\\Test\\src\\Test.jl:1083\n",
      "   [15] top-level scope at C:\\Users\\carsten\\Desktop\\sciebo\\codes\\julia-sdw-dqmc\\test\\tests_linalg.jl:35\n",
      "\u001b[37mUDV: \u001b[39m\u001b[91m\u001b[1mTest Failed\u001b[22m\u001b[39m at \u001b[39m\u001b[1mC:\\Users\\carsten\\Desktop\\sciebo\\codes\\julia-sdw-dqmc\\test\\tests_linalg.jl:198\u001b[22m\n",
      "  Expression: isapprox(res, X)\n",
      "   Evaluated: isapprox([1.79943e-315 4.73709e-316 … 6.83448e-316 1.10517e-316; 3.34358e-316 1.07071e-313 … 6.83448e-316 1.10786e-316; … ; 4.7372e-316 4.73716e-316 … 1.10786e-316 0.0; 4.7372e-316 4.7372e-316 … 1.10677e-316 1.9315e-304], Complex{Float64}[0.590845+0.766797im 0.598869+0.303656im … 0.958056+0.148959im 0.718717+0.573016im; 0.566237+0.460085im 0.500725+0.409968im … 0.208073+0.676177im 0.33094+0.296589im; … ; 0.883704+0.0677996im 0.96452+0.810421im … 0.705384+0.475735im 0.288351+0.636703im; 0.0288386+0.564608im 0.430767+0.866392im … 0.134498+0.756062im 0.580387+0.844517im])\n",
      "Stacktrace:\n",
      " [1] top-level scope at \u001b[1mC:\\Users\\carsten\\Desktop\\sciebo\\codes\\julia-sdw-dqmc\\test\\tests_linalg.jl:198\u001b[22m\n",
      " [2] top-level scope at \u001b[1mC:\\cygwin\\home\\Administrator\\buildbot\\worker\\package_win64\\build\\usr\\share\\julia\\stdlib\\v1.1\\Test\\src\\Test.jl:1083\u001b[22m\n",
      " [3] top-level scope at \u001b[1mC:\\Users\\carsten\\Desktop\\sciebo\\codes\\julia-sdw-dqmc\\test\\tests_linalg.jl:177\u001b[22m\n",
      " [4] top-level scope at \u001b[1mC:\\cygwin\\home\\Administrator\\buildbot\\worker\\package_win64\\build\\usr\\share\\julia\\stdlib\\v1.1\\Test\\src\\Test.jl:1083\u001b[22m\n",
      " [5] top-level scope at \u001b[1mC:\\Users\\carsten\\Desktop\\sciebo\\codes\\julia-sdw-dqmc\\test\\tests_linalg.jl:115\u001b[22m\n",
      " [6] top-level scope at \u001b[1mC:\\cygwin\\home\\Administrator\\buildbot\\worker\\package_win64\\build\\usr\\share\\julia\\stdlib\\v1.1\\Test\\src\\Test.jl:1083\u001b[22m\n",
      " [7] top-level scope at \u001b[1mC:\\Users\\carsten\\Desktop\\sciebo\\codes\\julia-sdw-dqmc\\test\\tests_linalg.jl:35\u001b[22m\n",
      "\u001b[37mUDV: \u001b[39m\u001b[91m\u001b[1mError During Test\u001b[22m\u001b[39m at \u001b[39m\u001b[1mC:\\Users\\carsten\\Desktop\\sciebo\\codes\\julia-sdw-dqmc\\test\\tests_linalg.jl:201\u001b[22m\n",
      "  Test threw exception\n",
      "  Expression: UDV_to_mat!(res, u, d, v, invert=true) == nothing\n",
      "  InexactError: Float64(0.006311966824444461 - 0.0166887445426804im)\n",
      "  Stacktrace:\n",
      "   [1] Type at .\\complex.jl:37 [inlined]\n",
      "   [2] convert at .\\number.jl:7 [inlined]\n",
      "   [3] setindex!(::Array{Float64,2}, ::Complex{Float64}, ::Int64) at .\\array.jl:767\n",
      "   [4] _generic_matmatmul!(::Array{Float64,2}, ::Char, ::Char, ::Array{Complex{Float64},2}, ::Array{Complex{Float64},2}) at C:\\cygwin\\home\\Administrator\\buildbot\\worker\\package_win64\\build\\usr\\share\\julia\\stdlib\\v1.1\\LinearAlgebra\\src\\matmul.jl:651\n",
      "   [5] generic_matmatmul!(::Array{Float64,2}, ::Char, ::Char, ::Array{Complex{Float64},2}, ::Array{Complex{Float64},2}) at C:\\cygwin\\home\\Administrator\\buildbot\\worker\\package_win64\\build\\usr\\share\\julia\\stdlib\\v1.1\\LinearAlgebra\\src\\matmul.jl:581\n",
      "   [6] mul! at C:\\cygwin\\home\\Administrator\\buildbot\\worker\\package_win64\\build\\usr\\share\\julia\\stdlib\\v1.1\\LinearAlgebra\\src\\matmul.jl:321 [inlined]\n",
      "   [7] #UDV_to_mat!#201(::Bool, ::Function, ::Array{Float64,2}, ::Array{Complex{Float64},2}, ::Array{Float64,1}, ::Array{Complex{Float64},2}) at C:\\Users\\carsten\\Desktop\\sciebo\\codes\\julia-sdw-dqmc\\src\\linalg.jl:216\n",
      "   [8] (::getfield(Main, Symbol(\"#kw##UDV_to_mat!\")))(::NamedTuple{(:invert,),Tuple{Bool}}, ::typeof(UDV_to_mat!), ::Array{Float64,2}, ::Array{Complex{Float64},2}, ::Array{Float64,1}, ::Array{Complex{Float64},2}) at .\\none:0\n",
      "   [9] top-level scope at C:\\Users\\carsten\\Desktop\\sciebo\\codes\\julia-sdw-dqmc\\test\\tests_linalg.jl:201\n",
      "   [10] top-level scope at C:\\cygwin\\home\\Administrator\\buildbot\\worker\\package_win64\\build\\usr\\share\\julia\\stdlib\\v1.1\\Test\\src\\Test.jl:1083\n",
      "   [11] top-level scope at C:\\Users\\carsten\\Desktop\\sciebo\\codes\\julia-sdw-dqmc\\test\\tests_linalg.jl:177\n",
      "   [12] top-level scope at C:\\cygwin\\home\\Administrator\\buildbot\\worker\\package_win64\\build\\usr\\share\\julia\\stdlib\\v1.1\\Test\\src\\Test.jl:1083\n",
      "   [13] top-level scope at C:\\Users\\carsten\\Desktop\\sciebo\\codes\\julia-sdw-dqmc\\test\\tests_linalg.jl:115\n",
      "   [14] top-level scope at C:\\cygwin\\home\\Administrator\\buildbot\\worker\\package_win64\\build\\usr\\share\\julia\\stdlib\\v1.1\\Test\\src\\Test.jl:1083\n",
      "   [15] top-level scope at C:\\Users\\carsten\\Desktop\\sciebo\\codes\\julia-sdw-dqmc\\test\\tests_linalg.jl:35\n",
      "\u001b[37mUDV: \u001b[39m\u001b[91m\u001b[1mTest Failed\u001b[22m\u001b[39m at \u001b[39m\u001b[1mC:\\Users\\carsten\\Desktop\\sciebo\\codes\\julia-sdw-dqmc\\test\\tests_linalg.jl:202\u001b[22m\n",
      "  Expression: isapprox(res, inv_X)\n",
      "   Evaluated: isapprox([1.79943e-315 4.73709e-316 … 6.83448e-316 1.10517e-316; 3.34358e-316 1.07071e-313 … 6.83448e-316 1.10786e-316; … ; 4.7372e-316 4.73716e-316 … 1.10786e-316 0.0; 4.7372e-316 4.7372e-316 … 1.10677e-316 1.9315e-304], Complex{Float64}[0.0750005+0.258825im 0.451593-0.118805im … -0.234189-0.689776im -0.225156-0.315405im; 0.00791718-0.262722im -0.149225-0.199192im … 0.010085+0.632157im -0.196975+0.00668664im; … ; 0.0712482+0.0618467im 0.0184309+0.05878im … 0.240327-0.490489im 0.127353-0.0780862im; 0.385677-0.345079im -0.395033+0.187846im … -0.996989+0.596221im 0.0858813+0.279898im])\n",
      "Stacktrace:\n",
      " [1] top-level scope at \u001b[1mC:\\Users\\carsten\\Desktop\\sciebo\\codes\\julia-sdw-dqmc\\test\\tests_linalg.jl:202\u001b[22m\n",
      " [2] top-level scope at \u001b[1mC:\\cygwin\\home\\Administrator\\buildbot\\worker\\package_win64\\build\\usr\\share\\julia\\stdlib\\v1.1\\Test\\src\\Test.jl:1083\u001b[22m\n",
      " [3] top-level scope at \u001b[1mC:\\Users\\carsten\\Desktop\\sciebo\\codes\\julia-sdw-dqmc\\test\\tests_linalg.jl:177\u001b[22m\n",
      " [4] top-level scope at \u001b[1mC:\\cygwin\\home\\Administrator\\buildbot\\worker\\package_win64\\build\\usr\\share\\julia\\stdlib\\v1.1\\Test\\src\\Test.jl:1083\u001b[22m\n",
      " [5] top-level scope at \u001b[1mC:\\Users\\carsten\\Desktop\\sciebo\\codes\\julia-sdw-dqmc\\test\\tests_linalg.jl:115\u001b[22m\n",
      " [6] top-level scope at \u001b[1mC:\\cygwin\\home\\Administrator\\buildbot\\worker\\package_win64\\build\\usr\\share\\julia\\stdlib\\v1.1\\Test\\src\\Test.jl:1083\u001b[22m\n",
      " [7] top-level scope at \u001b[1mC:\\Users\\carsten\\Desktop\\sciebo\\codes\\julia-sdw-dqmc\\test\\tests_linalg.jl:35\u001b[22m\n",
      "\u001b[37mUDV: \u001b[39m\u001b[91m\u001b[1mError During Test\u001b[22m\u001b[39m at \u001b[39m\u001b[1mC:\\Users\\carsten\\Desktop\\sciebo\\codes\\julia-sdw-dqmc\\test\\tests_linalg.jl:206\u001b[22m\n",
      "  Test threw exception\n",
      "  Expression: UDV_to_mat!(res, inv_sum_udvs(u, d, v, uy, dy, vy)...) == nothing\n",
      "  InexactError: Float64(0.02797904600986539 - 0.15347179875244157im)\n",
      "  Stacktrace:\n",
      "   [1] Type at .\\complex.jl:37 [inlined]\n",
      "   [2] convert at .\\number.jl:7 [inlined]\n",
      "   [3] setindex!(::Array{Float64,2}, ::Complex{Float64}, ::Int64) at .\\array.jl:767\n",
      "   [4] _generic_matmatmul!(::Array{Float64,2}, ::Char, ::Char, ::Array{Complex{Float64},2}, ::Array{Complex{Float64},2}) at C:\\cygwin\\home\\Administrator\\buildbot\\worker\\package_win64\\build\\usr\\share\\julia\\stdlib\\v1.1\\LinearAlgebra\\src\\matmul.jl:651\n",
      "   [5] generic_matmatmul!(::Array{Float64,2}, ::Char, ::Char, ::Array{Complex{Float64},2}, ::Array{Complex{Float64},2}) at C:\\cygwin\\home\\Administrator\\buildbot\\worker\\package_win64\\build\\usr\\share\\julia\\stdlib\\v1.1\\LinearAlgebra\\src\\matmul.jl:581\n",
      "   [6] mul! at C:\\cygwin\\home\\Administrator\\buildbot\\worker\\package_win64\\build\\usr\\share\\julia\\stdlib\\v1.1\\LinearAlgebra\\src\\matmul.jl:175 [inlined]\n",
      "   [7] #UDV_to_mat!#201(::Bool, ::Function, ::Array{Float64,2}, ::Array{Complex{Float64},2}, ::Array{Float64,1}, ::Array{Complex{Float64},2}) at C:\\Users\\carsten\\Desktop\\sciebo\\codes\\julia-sdw-dqmc\\src\\linalg.jl:212\n",
      "   [8] UDV_to_mat!(::Array{Float64,2}, ::Array{Complex{Float64},2}, ::Array{Float64,1}, ::Array{Complex{Float64},2}) at C:\\Users\\carsten\\Desktop\\sciebo\\codes\\julia-sdw-dqmc\\src\\linalg.jl:209\n",
      "   [9] top-level scope at C:\\Users\\carsten\\Desktop\\sciebo\\codes\\julia-sdw-dqmc\\test\\tests_linalg.jl:206\n",
      "   [10] top-level scope at C:\\cygwin\\home\\Administrator\\buildbot\\worker\\package_win64\\build\\usr\\share\\julia\\stdlib\\v1.1\\Test\\src\\Test.jl:1083\n",
      "   [11] top-level scope at C:\\Users\\carsten\\Desktop\\sciebo\\codes\\julia-sdw-dqmc\\test\\tests_linalg.jl:177\n",
      "   [12] top-level scope at C:\\cygwin\\home\\Administrator\\buildbot\\worker\\package_win64\\build\\usr\\share\\julia\\stdlib\\v1.1\\Test\\src\\Test.jl:1083\n",
      "   [13] top-level scope at C:\\Users\\carsten\\Desktop\\sciebo\\codes\\julia-sdw-dqmc\\test\\tests_linalg.jl:115\n",
      "   [14] top-level scope at C:\\cygwin\\home\\Administrator\\buildbot\\worker\\package_win64\\build\\usr\\share\\julia\\stdlib\\v1.1\\Test\\src\\Test.jl:1083\n",
      "   [15] top-level scope at C:\\Users\\carsten\\Desktop\\sciebo\\codes\\julia-sdw-dqmc\\test\\tests_linalg.jl:35\n",
      "\u001b[37mUDV: \u001b[39m\u001b[91m\u001b[1mTest Failed\u001b[22m\u001b[39m at \u001b[39m\u001b[1mC:\\Users\\carsten\\Desktop\\sciebo\\codes\\julia-sdw-dqmc\\test\\tests_linalg.jl:207\u001b[22m\n",
      "  Expression: isapprox(res, inv_X_plus_Y)\n",
      "   Evaluated: isapprox([1.79943e-315 4.73709e-316 … 6.83448e-316 1.10517e-316; 3.34358e-316 1.07071e-313 … 6.83448e-316 1.10786e-316; … ; 4.7372e-316 4.73716e-316 … 1.10786e-316 0.0; 4.7372e-316 4.7372e-316 … 1.10677e-316 1.9315e-304], Complex{Float64}[0.0412856-0.167321im -0.173696+0.26507im … -0.0683707+0.391718im -0.040444+0.0387659im; 0.376484-0.139309im -0.547711+0.310707im … -0.659822+0.471203im -0.367749-0.0364051im; … ; 0.28616+0.100259im -0.341421-0.0999068im … -0.27577-0.153258im 0.0338275+0.000335134im; 0.5143+0.382887im -0.892723-0.649297im … -1.06921-0.536121im 0.0962547-0.350979im])\n",
      "Stacktrace:\n",
      " [1] top-level scope at \u001b[1mC:\\Users\\carsten\\Desktop\\sciebo\\codes\\julia-sdw-dqmc\\test\\tests_linalg.jl:207\u001b[22m\n",
      " [2] top-level scope at \u001b[1mC:\\cygwin\\home\\Administrator\\buildbot\\worker\\package_win64\\build\\usr\\share\\julia\\stdlib\\v1.1\\Test\\src\\Test.jl:1083\u001b[22m\n",
      " [3] top-level scope at \u001b[1mC:\\Users\\carsten\\Desktop\\sciebo\\codes\\julia-sdw-dqmc\\test\\tests_linalg.jl:177\u001b[22m\n",
      " [4] top-level scope at \u001b[1mC:\\cygwin\\home\\Administrator\\buildbot\\worker\\package_win64\\build\\usr\\share\\julia\\stdlib\\v1.1\\Test\\src\\Test.jl:1083\u001b[22m\n",
      " [5] top-level scope at \u001b[1mC:\\Users\\carsten\\Desktop\\sciebo\\codes\\julia-sdw-dqmc\\test\\tests_linalg.jl:115\u001b[22m\n",
      " [6] top-level scope at \u001b[1mC:\\cygwin\\home\\Administrator\\buildbot\\worker\\package_win64\\build\\usr\\share\\julia\\stdlib\\v1.1\\Test\\src\\Test.jl:1083\u001b[22m\n"
     ]
    },
    {
     "name": "stdout",
     "output_type": "stream",
     "text": [
      " [7] top-level scope at \u001b[1mC:\\Users\\carsten\\Desktop\\sciebo\\codes\\julia-sdw-dqmc\\test\\tests_linalg.jl:35\u001b[22m\n",
      "\u001b[37mUDV: \u001b[39m\u001b[91m\u001b[1mError During Test\u001b[22m\u001b[39m at \u001b[39m\u001b[1mC:\\Users\\carsten\\Desktop\\sciebo\\codes\\julia-sdw-dqmc\\test\\tests_linalg.jl:208\u001b[22m\n",
      "  Test threw exception\n",
      "  Expression: inv_sum_udvs!(mc, res, u, d, v, uy, dy, vy) == nothing\n",
      "  InexactError: Float64(0.02797904600986539 - 0.15347179875244157im)\n",
      "  Stacktrace:\n",
      "   [1] Type at .\\complex.jl:37 [inlined]\n",
      "   [2] convert at .\\number.jl:7 [inlined]\n",
      "   [3] setindex!(::Array{Float64,2}, ::Complex{Float64}, ::Int64) at .\\array.jl:767\n",
      "   [4] _generic_matmatmul!(::Array{Float64,2}, ::Char, ::Char, ::Array{Complex{Float64},2}, ::Array{Complex{Float64},2}) at C:\\cygwin\\home\\Administrator\\buildbot\\worker\\package_win64\\build\\usr\\share\\julia\\stdlib\\v1.1\\LinearAlgebra\\src\\matmul.jl:651\n",
      "   [5] generic_matmatmul!(::Array{Float64,2}, ::Char, ::Char, ::Array{Complex{Float64},2}, ::Array{Complex{Float64},2}) at C:\\cygwin\\home\\Administrator\\buildbot\\worker\\package_win64\\build\\usr\\share\\julia\\stdlib\\v1.1\\LinearAlgebra\\src\\matmul.jl:581\n",
      "   [6] mul! at C:\\cygwin\\home\\Administrator\\buildbot\\worker\\package_win64\\build\\usr\\share\\julia\\stdlib\\v1.1\\LinearAlgebra\\src\\matmul.jl:175 [inlined]\n",
      "   [7] #UDV_to_mat!#201(::Bool, ::Function, ::Array{Float64,2}, ::Array{Complex{Float64},2}, ::Array{Float64,1}, ::Array{Complex{Float64},2}) at C:\\Users\\carsten\\Desktop\\sciebo\\codes\\julia-sdw-dqmc\\src\\linalg.jl:212\n",
      "   [8] #UDV_to_mat! at .\\none:0 [inlined]\n",
      "   [9] inv_sum_udvs!(::DQMC{CBAssaad,Complex{Float64},Complex{Float64}}, ::Array{Float64,2}, ::Array{Complex{Float64},2}, ::Array{Float64,1}, ::Array{Complex{Float64},2}, ::Array{Complex{Float64},2}, ::Array{Float64,1}, ::Array{Complex{Float64},2}) at C:\\Users\\carsten\\Desktop\\sciebo\\codes\\julia-sdw-dqmc\\src\\linalg.jl:330\n",
      "   [10] top-level scope at C:\\Users\\carsten\\Desktop\\sciebo\\codes\\julia-sdw-dqmc\\test\\tests_linalg.jl:208\n",
      "   [11] top-level scope at C:\\cygwin\\home\\Administrator\\buildbot\\worker\\package_win64\\build\\usr\\share\\julia\\stdlib\\v1.1\\Test\\src\\Test.jl:1083\n",
      "   [12] top-level scope at C:\\Users\\carsten\\Desktop\\sciebo\\codes\\julia-sdw-dqmc\\test\\tests_linalg.jl:177\n",
      "   [13] top-level scope at C:\\cygwin\\home\\Administrator\\buildbot\\worker\\package_win64\\build\\usr\\share\\julia\\stdlib\\v1.1\\Test\\src\\Test.jl:1083\n",
      "   [14] top-level scope at C:\\Users\\carsten\\Desktop\\sciebo\\codes\\julia-sdw-dqmc\\test\\tests_linalg.jl:115\n",
      "   [15] top-level scope at C:\\cygwin\\home\\Administrator\\buildbot\\worker\\package_win64\\build\\usr\\share\\julia\\stdlib\\v1.1\\Test\\src\\Test.jl:1083\n",
      "   [16] top-level scope at C:\\Users\\carsten\\Desktop\\sciebo\\codes\\julia-sdw-dqmc\\test\\tests_linalg.jl:35\n",
      "\u001b[37mUDV: \u001b[39m\u001b[91m\u001b[1mTest Failed\u001b[22m\u001b[39m at \u001b[39m\u001b[1mC:\\Users\\carsten\\Desktop\\sciebo\\codes\\julia-sdw-dqmc\\test\\tests_linalg.jl:209\u001b[22m\n",
      "  Expression: isapprox(res, inv_X_plus_Y)\n",
      "   Evaluated: isapprox([1.79943e-315 4.73709e-316 … 6.83448e-316 1.10517e-316; 3.34358e-316 1.07071e-313 … 6.83448e-316 1.10786e-316; … ; 4.7372e-316 4.73716e-316 … 1.10786e-316 0.0; 4.7372e-316 4.7372e-316 … 1.10677e-316 1.9315e-304], Complex{Float64}[0.0412856-0.167321im -0.173696+0.26507im … -0.0683707+0.391718im -0.040444+0.0387659im; 0.376484-0.139309im -0.547711+0.310707im … -0.659822+0.471203im -0.367749-0.0364051im; … ; 0.28616+0.100259im -0.341421-0.0999068im … -0.27577-0.153258im 0.0338275+0.000335134im; 0.5143+0.382887im -0.892723-0.649297im … -1.06921-0.536121im 0.0962547-0.350979im])\n",
      "Stacktrace:\n",
      " [1] top-level scope at \u001b[1mC:\\Users\\carsten\\Desktop\\sciebo\\codes\\julia-sdw-dqmc\\test\\tests_linalg.jl:209\u001b[22m\n",
      " [2] top-level scope at \u001b[1mC:\\cygwin\\home\\Administrator\\buildbot\\worker\\package_win64\\build\\usr\\share\\julia\\stdlib\\v1.1\\Test\\src\\Test.jl:1083\u001b[22m\n",
      " [3] top-level scope at \u001b[1mC:\\Users\\carsten\\Desktop\\sciebo\\codes\\julia-sdw-dqmc\\test\\tests_linalg.jl:177\u001b[22m\n",
      " [4] top-level scope at \u001b[1mC:\\cygwin\\home\\Administrator\\buildbot\\worker\\package_win64\\build\\usr\\share\\julia\\stdlib\\v1.1\\Test\\src\\Test.jl:1083\u001b[22m\n",
      " [5] top-level scope at \u001b[1mC:\\Users\\carsten\\Desktop\\sciebo\\codes\\julia-sdw-dqmc\\test\\tests_linalg.jl:115\u001b[22m\n",
      " [6] top-level scope at \u001b[1mC:\\cygwin\\home\\Administrator\\buildbot\\worker\\package_win64\\build\\usr\\share\\julia\\stdlib\\v1.1\\Test\\src\\Test.jl:1083\u001b[22m\n",
      " [7] top-level scope at \u001b[1mC:\\Users\\carsten\\Desktop\\sciebo\\codes\\julia-sdw-dqmc\\test\\tests_linalg.jl:35\u001b[22m\n",
      "L = 4\n",
      "SLICES = 10\n",
      "DELTA_TAU = 0.1\n",
      "WARMUP = 100\n",
      "SWEEPS = 400\n",
      "SAFE_MULT = 10\n",
      "CHECKERBOARD = TRUE\n",
      "HOPPINGS = 1.0,0.5,-0.5,-1.0\n",
      "MU = -0.5\n",
      "LAMBDA = 0.5\n",
      "U = 1.0\n",
      "R = 2.0\n",
      "C = 3.0\n",
      "GLOBAL_UPDATES = TRUE\n",
      "GLOBAL_RATE = 5\n",
      "BFIELD = TRUE\n",
      "WRITE_EVERY_NTH = 10\n",
      "OPDIM = 3\n",
      "\n",
      "CB = CBAssaad\n",
      "p.hoppings = \"1.0,0.5,-0.5,-1.0\"\n",
      "p.Nhoppings = \"none\"\n",
      "p.NNhoppings = \"none\"\n",
      "p.lattice_file = \"C:\\\\Users\\\\carsten\\\\Desktop\\\\sciebo\\\\lattices\\\\square_L_4_W_4.xml\"\n",
      "\n",
      "\n",
      "Loading lattice with 16 sites\n",
      "Initializing neighbor-tables\n",
      "Initializing Peirls phases (Bfield)\n",
      "Initializing hopping exponentials (Bfield)\n",
      "Initializing hopping exponentials (Bfield, Checkerboard)\n",
      "Checkerboard (Bfield) - exact (abs):\t\t0.0024417942043431936\n",
      "\n",
      "Initializing HS field\n",
      "Initializing boson action\n",
      "\n",
      "Building stack\n",
      "Initial propagate: 11 -1\n",
      "L = 4\n",
      "SLICES = 10\n",
      "DELTA_TAU = 0.1\n",
      "WARMUP = 100\n",
      "SWEEPS = 400\n",
      "SAFE_MULT = 10\n",
      "CHECKERBOARD = TRUE\n",
      "HOPPINGS = 1.0,0.5,-0.5,-1.0\n",
      "MU = -0.5\n",
      "LAMBDA = 0.5\n",
      "U = 1.0\n",
      "R = 2.0\n",
      "C = 3.0\n",
      "GLOBAL_UPDATES = TRUE\n",
      "GLOBAL_RATE = 5\n",
      "BFIELD = FALSE\n",
      "WRITE_EVERY_NTH = 10\n",
      "OPDIM = 3\n",
      "\n",
      "CB = CBAssaad\n",
      "p.hoppings = \"1.0,0.5,-0.5,-1.0\"\n",
      "p.Nhoppings = \"none\"\n",
      "p.NNhoppings = \"none\"\n",
      "p.lattice_file = \"C:\\\\Users\\\\carsten\\\\Desktop\\\\sciebo\\\\lattices\\\\square_L_4_W_4.xml\"\n",
      "\n",
      "\n",
      "Loading lattice with 16 sites\n",
      "Initializing neighbor-tables\n",
      "Initializing hopping exponentials\n",
      "Initializing hopping exponentials (Checkerboard)\n",
      "Checkerboard - exact (abs):\t\t8.881784197001252e-16\n",
      "\n",
      "Initializing HS field\n",
      "Initializing boson action\n",
      "\n",
      "Building stack\n",
      "Initial propagate: 11 -1\n",
      "L = 4\n",
      "SLICES = 10\n",
      "DELTA_TAU = 0.1\n",
      "WARMUP = 100\n",
      "SWEEPS = 400\n",
      "SAFE_MULT = 10\n",
      "CHECKERBOARD = FALSE\n",
      "HOPPINGS = 1.0,0.5,-0.5,-1.0\n",
      "MU = -0.5\n",
      "LAMBDA = 0.5\n",
      "U = 1.0\n",
      "R = 2.0\n",
      "C = 3.0\n",
      "GLOBAL_UPDATES = TRUE\n",
      "GLOBAL_RATE = 5\n",
      "BFIELD = FALSE\n",
      "WRITE_EVERY_NTH = 10\n",
      "OPDIM = 3\n",
      "\n",
      "CB = CBFalse\n",
      "p.hoppings = \"1.0,0.5,-0.5,-1.0\"\n",
      "p.Nhoppings = \"none\"\n",
      "p.NNhoppings = \"none\"\n",
      "p.lattice_file = \"C:\\\\Users\\\\carsten\\\\Desktop\\\\sciebo\\\\lattices\\\\square_L_4_W_4.xml\"\n",
      "\n",
      "\n",
      "Loading lattice with 16 sites\n",
      "Initializing neighbor-tables\n",
      "Initializing hopping exponentials\n",
      "\n",
      "Initializing HS field\n",
      "Initializing boson action\n",
      "\n",
      "Building stack\n",
      "Initial propagate: 11 -1\n",
      "Checking Peirls phases\n",
      "\u001b[37mpeirls phases: \u001b[39m\u001b[91m\u001b[1mError During Test\u001b[22m\u001b[39m at \u001b[39m\u001b[1mC:\\Users\\carsten\\Desktop\\sciebo\\codes\\julia-sdw-dqmc\\test\\tests_O3_peirls.jl:1\u001b[22m\n",
      "  Got exception outside of a @test\n",
      "  UndefVarError: mc not defined\n",
      "  Stacktrace:\n",
      "   [1] top-level scope at C:\\Users\\carsten\\Desktop\\sciebo\\codes\\julia-sdw-dqmc\\test\\tests_O3_peirls.jl:3\n",
      "   [2] top-level scope at C:\\cygwin\\home\\Administrator\\buildbot\\worker\\package_win64\\build\\usr\\share\\julia\\stdlib\\v1.1\\Test\\src\\Test.jl:1083\n",
      "   [3] top-level scope at C:\\Users\\carsten\\Desktop\\sciebo\\codes\\julia-sdw-dqmc\\test\\tests_O3_peirls.jl:2\n",
      "   [4] include at .\\boot.jl:326 [inlined]\n",
      "   [5] include_relative(::Module, ::String) at .\\loading.jl:1038\n",
      "   [6] include(::Module, ::String) at .\\sysimg.jl:29\n",
      "   [7] include(::String) at .\\client.jl:403\n",
      "   [8] top-level scope at C:\\Users\\carsten\\Desktop\\sciebo\\codes\\julia-sdw-dqmc\\test\\tests_O3.jl:52\n",
      "   [9] top-level scope at C:\\cygwin\\home\\Administrator\\buildbot\\worker\\package_win64\\build\\usr\\share\\julia\\stdlib\\v1.1\\Test\\src\\Test.jl:1083\n",
      "   [10] top-level scope at C:\\Users\\carsten\\Desktop\\sciebo\\codes\\julia-sdw-dqmc\\test\\tests_O3.jl:27\n",
      "   [11] include at .\\boot.jl:326 [inlined]\n",
      "   [12] include_relative(::Module, ::String) at .\\loading.jl:1038\n",
      "   [13] include(::Module, ::String) at .\\sysimg.jl:29\n",
      "   [14] include(::String) at .\\client.jl:403\n",
      "   [15] top-level scope at C:\\Users\\carsten\\Desktop\\sciebo\\codes\\julia-sdw-dqmc\\test\\runtests.jl:50\n",
      "   [16] top-level scope at C:\\cygwin\\home\\Administrator\\buildbot\\worker\\package_win64\\build\\usr\\share\\julia\\stdlib\\v1.1\\Test\\src\\Test.jl:1083\n",
      "   [17] top-level scope at C:\\Users\\carsten\\Desktop\\sciebo\\codes\\julia-sdw-dqmc\\test\\runtests.jl:47\n",
      "   [18] include at .\\boot.jl:326 [inlined]\n",
      "   [19] include_relative(::Module, ::String) at .\\loading.jl:1038\n",
      "   [20] include(::Module, ::String) at .\\sysimg.jl:29\n",
      "   [21] include(::String) at .\\client.jl:403\n",
      "   [22] top-level scope at In[63]:1\n",
      "   [23] eval at .\\boot.jl:328 [inlined]\n",
      "   [24] softscope_include_string(::Module, ::String, ::String) at C:\\Users\\carsten\\.julia\\packages\\SoftGlobalScope\\dLfaZ\\src\\SoftGlobalScope.jl:218\n",
      "   [25] execute_request(::ZMQ.Socket, ::IJulia.Msg) at C:\\Users\\carsten\\.julia\\packages\\IJulia\\4UizY\\src\\execute_request.jl:67\n",
      "   [26] #invokelatest#1 at .\\essentials.jl:742 [inlined]\n",
      "   [27] invokelatest at .\\essentials.jl:741 [inlined]\n",
      "   [28] eventloop(::ZMQ.Socket) at C:\\Users\\carsten\\.julia\\packages\\IJulia\\4UizY\\src\\eventloop.jl:8\n"
     ]
    },
    {
     "name": "stdout",
     "output_type": "stream",
     "text": [
      "   [29] (::getfield(IJulia, Symbol(\"##15#18\")))() at .\\task.jl:259\n",
      "\u001b[37minteraction matrix exponentials (Bfield): \u001b[39m\u001b[91m\u001b[1mTest Failed\u001b[22m\u001b[39m at \u001b[39m\u001b[1mC:\\Users\\carsten\\Desktop\\sciebo\\codes\\julia-sdw-dqmc\\test\\tests_O3.jl:125\u001b[22m\n",
      "  Expression: isapprox(eV, load(\"data/O3.jld\", \"eVplus\"))\n",
      "   Evaluated: isapprox(\n",
      "  [1 ,  1]  =  1.0012+0.0im\n",
      "  [17,  1]  =  -0.0191963-0.0183281im\n",
      "  [49,  1]  =  -0.0411711+0.0im\n",
      "  [2 ,  2]  =  1.00154+0.0im\n",
      "  [18,  2]  =  -0.0354727-0.0273304im\n",
      "  [50,  2]  =  -0.0327023+0.0im\n",
      "  [3 ,  3]  =  1.00312+0.0im\n",
      "  [19,  3]  =  -0.0432332-0.0442604im\n",
      "  [51,  3]  =  -0.0491613+0.0im\n",
      "  [4 ,  4]  =  1.00095+0.0im\n",
      "  [20,  4]  =  -0.0166773-0.0327679im\n",
      "  [52,  4]  =  -0.0232267+0.0im\n",
      "  ⋮\n",
      "  [13, 61]  =  -0.0226637+0.0im\n",
      "  [45, 61]  =  -0.0408366-0.0196532im\n",
      "  [61, 61]  =  1.00128+0.0im\n",
      "  [14, 62]  =  -0.0108476+0.0im\n",
      "  [46, 62]  =  -0.049396-0.0150224im\n",
      "  [62, 62]  =  1.00139+0.0im\n",
      "  [15, 63]  =  -0.0442328+0.0im\n",
      "  [47, 63]  =  -0.0291889-0.0170016im\n",
      "  [63, 63]  =  1.00155+0.0im\n",
      "  [16, 64]  =  -0.00310548+0.0im\n",
      "  [48, 64]  =  -0.0407918-0.000704161im\n",
      "  [64, 64]  =  1.00084+0.0im, \n",
      "  [1 ,  1]  =  1.00002+0.0im\n",
      "  [17,  1]  =  -0.00244392-0.00320274im\n",
      "  [49,  1]  =  -0.00503686+0.0im\n",
      "  [2 ,  2]  =  1.00264+0.0im\n",
      "  [18,  2]  =  -0.0499525-0.0470755im\n",
      "  [50,  2]  =  -0.0240675+0.0im\n",
      "  [3 ,  3]  =  1.00024+0.0im\n",
      "  [19,  3]  =  -0.0140487-0.0156724im\n",
      "  [51,  3]  =  -0.00585046+0.0im\n",
      "  [4 ,  4]  =  1.00082+0.0im\n",
      "  [20,  4]  =  -0.00943131-0.0113922im\n",
      "  [52,  4]  =  -0.0377708+0.0im\n",
      "  ⋮\n",
      "  [13, 61]  =  -0.00965944+0.0im\n",
      "  [45, 61]  =  -0.0263742-0.00663401im\n",
      "  [61, 61]  =  1.00042+0.0im\n",
      "  [14, 62]  =  -0.0196308+0.0im\n",
      "  [46, 62]  =  -0.0397682-0.00922206im\n",
      "  [62, 62]  =  1.00103+0.0im\n",
      "  [15, 63]  =  -0.0190907+0.0im\n",
      "  [47, 63]  =  -0.0253369-0.00325046im\n",
      "  [63, 63]  =  1.00051+0.0im\n",
      "  [16, 64]  =  -0.0355787+0.0im\n",
      "  [48, 64]  =  -0.0186904-0.0168857im\n",
      "  [64, 64]  =  1.00095+0.0im)\n",
      "Stacktrace:\n",
      " [1] top-level scope at \u001b[1mC:\\Users\\carsten\\Desktop\\sciebo\\codes\\julia-sdw-dqmc\\test\\tests_O3.jl:125\u001b[22m\n",
      " [2] top-level scope at \u001b[1mC:\\cygwin\\home\\Administrator\\buildbot\\worker\\package_win64\\build\\usr\\share\\julia\\stdlib\\v1.1\\Test\\src\\Test.jl:1083\u001b[22m\n",
      " [3] top-level scope at \u001b[1mC:\\Users\\carsten\\Desktop\\sciebo\\codes\\julia-sdw-dqmc\\test\\tests_O3.jl:123\u001b[22m\n",
      " [4] top-level scope at \u001b[1mC:\\cygwin\\home\\Administrator\\buildbot\\worker\\package_win64\\build\\usr\\share\\julia\\stdlib\\v1.1\\Test\\src\\Test.jl:1083\u001b[22m\n",
      " [5] top-level scope at \u001b[1mC:\\Users\\carsten\\Desktop\\sciebo\\codes\\julia-sdw-dqmc\\test\\tests_O3.jl:102\u001b[22m\n",
      " [6] top-level scope at \u001b[1mC:\\cygwin\\home\\Administrator\\buildbot\\worker\\package_win64\\build\\usr\\share\\julia\\stdlib\\v1.1\\Test\\src\\Test.jl:1083\u001b[22m\n",
      " [7] top-level scope at \u001b[1mC:\\Users\\carsten\\Desktop\\sciebo\\codes\\julia-sdw-dqmc\\test\\tests_O3.jl:27\u001b[22m\n",
      "\u001b[37minteraction matrix exponentials (Bfield): \u001b[39m\u001b[91m\u001b[1mTest Failed\u001b[22m\u001b[39m at \u001b[39m\u001b[1mC:\\Users\\carsten\\Desktop\\sciebo\\codes\\julia-sdw-dqmc\\test\\tests_O3.jl:128\u001b[22m\n",
      "  Expression: isapprox(eV, load(\"data/O3.jld\", \"eVminus\"))\n",
      "   Evaluated: isapprox(\n",
      "  [1 ,  1]  =  1.0012+0.0im\n",
      "  [17,  1]  =  0.0191963+0.0183281im\n",
      "  [49,  1]  =  0.0411711+0.0im\n",
      "  [2 ,  2]  =  1.00154+0.0im\n",
      "  [18,  2]  =  0.0354727+0.0273304im\n",
      "  [50,  2]  =  0.0327023+0.0im\n",
      "  [3 ,  3]  =  1.00312+0.0im\n",
      "  [19,  3]  =  0.0432332+0.0442604im\n",
      "  [51,  3]  =  0.0491613+0.0im\n",
      "  [4 ,  4]  =  1.00095+0.0im\n",
      "  [20,  4]  =  0.0166773+0.0327679im\n",
      "  [52,  4]  =  0.0232267+0.0im\n",
      "  ⋮\n",
      "  [13, 61]  =  0.0226637+0.0im\n",
      "  [45, 61]  =  0.0408366+0.0196532im\n",
      "  [61, 61]  =  1.00128+0.0im\n",
      "  [14, 62]  =  0.0108476+0.0im\n",
      "  [46, 62]  =  0.049396+0.0150224im\n",
      "  [62, 62]  =  1.00139+0.0im\n",
      "  [15, 63]  =  0.0442328+0.0im\n",
      "  [47, 63]  =  0.0291889+0.0170016im\n",
      "  [63, 63]  =  1.00155+0.0im\n",
      "  [16, 64]  =  0.00310548+0.0im\n",
      "  [48, 64]  =  0.0407918+0.000704161im\n",
      "  [64, 64]  =  1.00084+0.0im, \n",
      "  [1 ,  1]  =  1.00002+0.0im\n",
      "  [17,  1]  =  0.00244392+0.00320274im\n",
      "  [49,  1]  =  0.00503686+0.0im\n",
      "  [2 ,  2]  =  1.00264+0.0im\n",
      "  [18,  2]  =  0.0499525+0.0470755im\n",
      "  [50,  2]  =  0.0240675+0.0im\n",
      "  [3 ,  3]  =  1.00024+0.0im\n",
      "  [19,  3]  =  0.0140487+0.0156724im\n",
      "  [51,  3]  =  0.00585046+0.0im\n",
      "  [4 ,  4]  =  1.00082+0.0im\n",
      "  [20,  4]  =  0.00943131+0.0113922im\n",
      "  [52,  4]  =  0.0377708+0.0im\n",
      "  ⋮\n",
      "  [13, 61]  =  0.00965944+0.0im\n",
      "  [45, 61]  =  0.0263742+0.00663401im\n",
      "  [61, 61]  =  1.00042+0.0im\n",
      "  [14, 62]  =  0.0196308+0.0im\n",
      "  [46, 62]  =  0.0397682+0.00922206im\n",
      "  [62, 62]  =  1.00103+0.0im\n",
      "  [15, 63]  =  0.0190907+0.0im\n",
      "  [47, 63]  =  0.0253369+0.00325046im\n",
      "  [63, 63]  =  1.00051+0.0im\n",
      "  [16, 64]  =  0.0355787+0.0im\n",
      "  [48, 64]  =  0.0186904+0.0168857im\n",
      "  [64, 64]  =  1.00095+0.0im)\n",
      "Stacktrace:\n",
      " [1] top-level scope at \u001b[1mC:\\Users\\carsten\\Desktop\\sciebo\\codes\\julia-sdw-dqmc\\test\\tests_O3.jl:128\u001b[22m\n",
      " [2] top-level scope at \u001b[1mC:\\cygwin\\home\\Administrator\\buildbot\\worker\\package_win64\\build\\usr\\share\\julia\\stdlib\\v1.1\\Test\\src\\Test.jl:1083\u001b[22m\n",
      " [3] top-level scope at \u001b[1mC:\\Users\\carsten\\Desktop\\sciebo\\codes\\julia-sdw-dqmc\\test\\tests_O3.jl:123\u001b[22m\n",
      " [4] top-level scope at \u001b[1mC:\\cygwin\\home\\Administrator\\buildbot\\worker\\package_win64\\build\\usr\\share\\julia\\stdlib\\v1.1\\Test\\src\\Test.jl:1083\u001b[22m\n",
      " [5] top-level scope at \u001b[1mC:\\Users\\carsten\\Desktop\\sciebo\\codes\\julia-sdw-dqmc\\test\\tests_O3.jl:102\u001b[22m\n",
      " [6] top-level scope at \u001b[1mC:\\cygwin\\home\\Administrator\\buildbot\\worker\\package_win64\\build\\usr\\share\\julia\\stdlib\\v1.1\\Test\\src\\Test.jl:1083\u001b[22m\n",
      " [7] top-level scope at \u001b[1mC:\\Users\\carsten\\Desktop\\sciebo\\codes\\julia-sdw-dqmc\\test\\tests_O3.jl:27\u001b[22m\n",
      "\n",
      "Initializing HS field\n",
      "Initializing boson action\n",
      "\n",
      "Building stack\n",
      "Initial propagate: 11 -1\n",
      "\n",
      "Initializing HS field\n",
      "Initializing boson action\n",
      "\n",
      "Building stack\n",
      "Initial propagate: 11 -1\n",
      "\n",
      "Initializing HS field\n",
      "Initializing boson action\n",
      "\n",
      "Building stack\n",
      "Initial propagate: 11 -1\n",
      "SAFE_MULT = 1\n",
      "C = 3.0\n",
      "SLICES = 400\n",
      "L = 10\n",
      "MU1 = -0.5\n",
      "SWEEPS = 20000\n",
      "WRITE_EVERY_NTH = 10\n",
      "GLOBAL_RATE = 5\n",
      "DELTA_TAU = 0.1\n",
      "SEED = 7024142146484287344\n",
      "WARMUP = 1000\n",
      "GIT_COMMIT = ebb8da7049a31d42490d97a0556d64f43ab064c8\n",
      "MU2 = 0.5\n",
      "HOPPINGS = 1.0,0.5,-0.5,-1.0\n",
      "GLOBAL_UPDATES = TRUE\n",
      "OPDIM = 1\n",
      "U = 0.0\n",
      "BFIELD = FALSE\n",
      "CHECKERBOARD = FALSE\n",
      "R = 1.45\n",
      "LAMBDA = 0\n",
      "\n",
      "CB = CBFalse\n",
      "p.hoppings = \"1.0,0.5,-0.5,-1.0\"\n",
      "p.Nhoppings = \"none\"\n",
      "p.NNhoppings = \"none\"\n",
      "p.lattice_file = \"C:\\\\Users\\\\carsten\\\\Desktop\\\\sciebo\\\\lattices\\\\square_L_10_W_10.xml\"\n",
      "\n",
      "\n",
      "Loading lattice with 100 sites\n",
      "Initializing neighbor-tables\n",
      "Initializing hopping exponentials\n",
      "\n",
      "Initializing HS field\n",
      "Initializing boson action\n",
      "\n",
      "Building stack\n",
      "Initial propagate: 401 -1\n",
      "Allocated memory for TDGF measurement.\n",
      "\u001b[37mTDGF: \u001b[39m\u001b[91m\u001b[1mError During Test\u001b[22m\u001b[39m at \u001b[39m\u001b[1mC:\\Users\\carsten\\Desktop\\sciebo\\codes\\julia-sdw-dqmc\\test\\tests_O3_measurements.jl:26\u001b[22m\n",
      "  Got exception outside of a @test\n",
      "  MethodError: no method matching inv_sum_udts_scalettar!(::DQMC{CBFalse,Float64,Float64}, ::Array{Float64,2}, ::Array{Float64,2}, ::Array{Float64,1}, ::Array{Float64,2}, ::Array{Float64,2}, ::Array{Float64,1}, ::Array{Float64,2})\n",
      "  Closest candidates are:\n",
      "    inv_sum_udts_scalettar!(::Any, ::Any, !Matched::LinearAlgebra.QRPackedQ, ::Any, ::Any, ::Any, ::Any, ::Any) at C:\\Users\\carsten\\Desktop\\sciebo\\codes\\julia-sdw-dqmc\\src\\linalg.jl:580\n",
      "  Stacktrace:\n",
      "   [1] calc_tdgfs!(::DQMC{CBFalse,Float64,Float64}) at C:\\Users\\carsten\\Desktop\\sciebo\\codes\\julia-sdw-dqmc\\src\\fermion_measurements.jl:933\n",
      "   [2] top-level scope at C:\\Users\\carsten\\Desktop\\sciebo\\codes\\julia-sdw-dqmc\\test\\tests_O3_measurements.jl:39\n",
      "   [3] top-level scope at C:\\cygwin\\home\\Administrator\\buildbot\\worker\\package_win64\\build\\usr\\share\\julia\\stdlib\\v1.1\\Test\\src\\Test.jl:1083\n",
      "   [4] top-level scope at C:\\Users\\carsten\\Desktop\\sciebo\\codes\\julia-sdw-dqmc\\test\\tests_O3_measurements.jl:28\n",
      "   [5] top-level scope at C:\\cygwin\\home\\Administrator\\buildbot\\worker\\package_win64\\build\\usr\\share\\julia\\stdlib\\v1.1\\Test\\src\\Test.jl:1083\n",
      "   [6] top-level scope at C:\\Users\\carsten\\Desktop\\sciebo\\codes\\julia-sdw-dqmc\\test\\tests_O3_measurements.jl:26\n",
      "   [7] include at .\\boot.jl:326 [inlined]\n",
      "   [8] include_relative(::Module, ::String) at .\\loading.jl:1038\n",
      "   [9] include(::Module, ::String) at .\\sysimg.jl:29\n",
      "   [10] include(::String) at .\\client.jl:403\n",
      "   [11] top-level scope at C:\\Users\\carsten\\Desktop\\sciebo\\codes\\julia-sdw-dqmc\\test\\tests_O3.jl:257\n",
      "   [12] top-level scope at C:\\cygwin\\home\\Administrator\\buildbot\\worker\\package_win64\\build\\usr\\share\\julia\\stdlib\\v1.1\\Test\\src\\Test.jl:1083\n",
      "   [13] top-level scope at C:\\Users\\carsten\\Desktop\\sciebo\\codes\\julia-sdw-dqmc\\test\\tests_O3.jl:257\n",
      "   [14] top-level scope at C:\\cygwin\\home\\Administrator\\buildbot\\worker\\package_win64\\build\\usr\\share\\julia\\stdlib\\v1.1\\Test\\src\\Test.jl:1083\n",
      "   [15] top-level scope at C:\\Users\\carsten\\Desktop\\sciebo\\codes\\julia-sdw-dqmc\\test\\tests_O3.jl:27\n",
      "   [16] include at .\\boot.jl:326 [inlined]\n",
      "   [17] include_relative(::Module, ::String) at .\\loading.jl:1038\n",
      "   [18] include(::Module, ::String) at .\\sysimg.jl:29\n",
      "   [19] include(::String) at .\\client.jl:403\n",
      "   [20] top-level scope at C:\\Users\\carsten\\Desktop\\sciebo\\codes\\julia-sdw-dqmc\\test\\runtests.jl:50\n",
      "   [21] top-level scope at C:\\cygwin\\home\\Administrator\\buildbot\\worker\\package_win64\\build\\usr\\share\\julia\\stdlib\\v1.1\\Test\\src\\Test.jl:1083\n",
      "   [22] top-level scope at C:\\Users\\carsten\\Desktop\\sciebo\\codes\\julia-sdw-dqmc\\test\\runtests.jl:47\n",
      "   [23] include at .\\boot.jl:326 [inlined]\n",
      "   [24] include_relative(::Module, ::String) at .\\loading.jl:1038\n",
      "   [25] include(::Module, ::String) at .\\sysimg.jl:29\n",
      "   [26] include(::String) at .\\client.jl:403\n",
      "   [27] top-level scope at In[63]:1\n",
      "   [28] eval at .\\boot.jl:328 [inlined]\n",
      "   [29] softscope_include_string(::Module, ::String, ::String) at C:\\Users\\carsten\\.julia\\packages\\SoftGlobalScope\\dLfaZ\\src\\SoftGlobalScope.jl:218\n",
      "   [30] execute_request(::ZMQ.Socket, ::IJulia.Msg) at C:\\Users\\carsten\\.julia\\packages\\IJulia\\4UizY\\src\\execute_request.jl:67\n",
      "   [31] #invokelatest#1 at .\\essentials.jl:742 [inlined]\n",
      "   [32] invokelatest at .\\essentials.jl:741 [inlined]\n",
      "   [33] eventloop(::ZMQ.Socket) at C:\\Users\\carsten\\.julia\\packages\\IJulia\\4UizY\\src\\eventloop.jl:8\n"
     ]
    },
    {
     "name": "stdout",
     "output_type": "stream",
     "text": [
      "   [34] (::getfield(IJulia, Symbol(\"##15#18\")))() at .\\task.jl:259\n",
      "L = 2\n",
      "SLICES = 80\n",
      "DELTA_TAU = 0.1\n",
      "WARMUP = 100\n",
      "SWEEPS = 400\n",
      "SAFE_MULT = 1\n",
      "CHECKERBOARD = FALSE\n",
      "HOPPINGS = 1.0,0.5,-0.5,-1.0\n",
      "MU = -0.5\n",
      "LAMBDA = 0.0\n",
      "U = 0.0\n",
      "R = 1.0\n",
      "C = 0.0\n",
      "GLOBAL_UPDATES = TRUE\n",
      "GLOBAL_RATE = 5\n",
      "BFIELD = FALSE\n",
      "WRITE_EVERY_NTH = 10\n",
      "OPDIM = 1\n",
      "\n",
      "CB = CBFalse\n",
      "p.hoppings = \"1.0,0.5,-0.5,-1.0\"\n",
      "p.Nhoppings = \"none\"\n",
      "p.NNhoppings = \"none\"\n",
      "p.lattice_file = \"C:\\\\Users\\\\carsten\\\\Desktop\\\\sciebo\\\\lattices\\\\square_L_2_W_2.xml\"\n",
      "\n",
      "\n",
      "Loading lattice with 4 sites\n",
      "Initializing neighbor-tables\n",
      "Initializing hopping exponentials\n",
      "\n",
      "Initializing HS field\n",
      "Initializing boson action\n",
      "\n",
      "Building stack\n",
      "Initial propagate: 81 -1\n",
      "Performing ED...\n",
      "Done with ED.\n",
      "\u001b[37m\u001b[1mTest Summary:                                         | \u001b[22m\u001b[39m\u001b[32m\u001b[1mPass  \u001b[22m\u001b[39m\u001b[91m\u001b[1mFail  \u001b[22m\u001b[39m\u001b[91m\u001b[1mError  \u001b[22m\u001b[39m\u001b[36m\u001b[1mTotal\u001b[22m\u001b[39m\n",
      "All Tests                                             | \u001b[32m 114  \u001b[39m\u001b[91m   8  \u001b[39m\u001b[91m    8  \u001b[39m\u001b[36m  130\u001b[39m\n",
      "  Linear Algebra                                      | \u001b[32m  47  \u001b[39m\u001b[91m   6  \u001b[39m\u001b[91m    6  \u001b[39m\u001b[36m   59\u001b[39m\n",
      "    Decompositions                                    | \u001b[32m  15  \u001b[39m             \u001b[36m   15\u001b[39m\n",
      "    Safe multiply UDT and UDV                         | \u001b[32m   2  \u001b[39m             \u001b[36m    2\u001b[39m\n",
      "    UDT and UDV inversion business (well-conditioned) | \u001b[32m  30  \u001b[39m\u001b[91m   6  \u001b[39m\u001b[91m    6  \u001b[39m\u001b[36m   42\u001b[39m\n",
      "      UDT                                             | \u001b[32m  23  \u001b[39m             \u001b[36m   23\u001b[39m\n",
      "      UDV                                             | \u001b[32m   7  \u001b[39m\u001b[91m   6  \u001b[39m\u001b[91m    6  \u001b[39m\u001b[36m   19\u001b[39m\n",
      "  O3 model                                            | \u001b[32m  64  \u001b[39m\u001b[91m   2  \u001b[39m\u001b[91m    2  \u001b[39m\u001b[36m   68\u001b[39m\n",
      "    boson action                                      | \u001b[32m   4  \u001b[39m             \u001b[36m    4\u001b[39m\n",
      "    hopping matrices                                  | \u001b[32m   2  \u001b[39m             \u001b[36m    2\u001b[39m\n",
      "    peirls phases                                     |             \u001b[91m    1  \u001b[39m\u001b[36m    1\u001b[39m\n",
      "    checkerboard hopping matrices                     | \u001b[32m  13  \u001b[39m             \u001b[36m   13\u001b[39m\n",
      "    checkerboard hopping matrices (Bfield)            | \u001b[32m  13  \u001b[39m             \u001b[36m   13\u001b[39m\n",
      "    generic checkerboard hopping matrices             |                    \u001b[36mNo tests\u001b[39m\n",
      "    interactions                                      | \u001b[32m   8  \u001b[39m\u001b[91m   2  \u001b[39m       \u001b[36m   10\u001b[39m\n",
      "      setblockdiag!                                   | \u001b[32m   2  \u001b[39m             \u001b[36m    2\u001b[39m\n",
      "      interaction matrix exponentials                 | \u001b[32m   4  \u001b[39m             \u001b[36m    4\u001b[39m\n",
      "      interaction matrix exponentials (Bfield)        | \u001b[32m   2  \u001b[39m\u001b[91m   2  \u001b[39m       \u001b[36m    4\u001b[39m\n",
      "    local updates                                     | \u001b[32m   8  \u001b[39m             \u001b[36m    8\u001b[39m\n",
      "    global updates                                    |                    \u001b[36mNo tests\u001b[39m\n",
      "    stack                                             | \u001b[32m   6  \u001b[39m             \u001b[36m    6\u001b[39m\n",
      "    lattice                                           | \u001b[32m   4  \u001b[39m             \u001b[36m    4\u001b[39m\n",
      "    slice matrices                                    | \u001b[32m   6  \u001b[39m             \u001b[36m    6\u001b[39m\n",
      "    parameters constructors                           |                    \u001b[36mNo tests\u001b[39m\n",
      "    xml read write                                    |                    \u001b[36mNo tests\u001b[39m\n",
      "    Measurements                                      |             \u001b[91m    1  \u001b[39m\u001b[36m    1\u001b[39m\n",
      "      Boson measurements                              |                    \u001b[36mNo tests\u001b[39m\n",
      "      Fermion measurements                            |             \u001b[91m    1  \u001b[39m\u001b[36m    1\u001b[39m\n",
      "        TDGF                                          |             \u001b[91m    1  \u001b[39m\u001b[36m    1\u001b[39m\n",
      "  Compare Greens to ED                                | \u001b[32m   3  \u001b[39m             \u001b[36m    3\u001b[39m\n"
     ]
    },
    {
     "ename": "LoadError",
     "evalue": "Some tests did not pass: 114 passed, 8 failed, 8 errored, 0 broken.",
     "output_type": "error",
     "traceback": [
      "Some tests did not pass: 114 passed, 8 failed, 8 errored, 0 broken.",
      "",
      "Stacktrace:",
      " [1] finish(::Test.DefaultTestSet) at C:\\cygwin\\home\\Administrator\\buildbot\\worker\\package_win64\\build\\usr\\share\\julia\\stdlib\\v1.1\\Test\\src\\Test.jl:847",
      " [2] top-level scope at C:\\cygwin\\home\\Administrator\\buildbot\\worker\\package_win64\\build\\usr\\share\\julia\\stdlib\\v1.1\\Test\\src\\Test.jl:1093",
      " [3] top-level scope at C:\\Users\\carsten\\Desktop\\sciebo\\codes\\julia-sdw-dqmc\\test\\runtests.jl:47",
      " [4] include at .\\boot.jl:326 [inlined]",
      " [5] include_relative(::Module, ::String) at .\\loading.jl:1038",
      " [6] include(::Module, ::String) at .\\sysimg.jl:29",
      " [7] include(::String) at .\\client.jl:403",
      " [8] top-level scope at In[63]:1"
     ]
    }
   ],
   "source": [
    "# const SUPPRESS_DQMC_INIT_OUTPUT = true\n",
    "include(\"runtests.jl\")"
   ]
  },
  {
   "cell_type": "code",
   "execution_count": null,
   "metadata": {},
   "outputs": [],
   "source": []
  },
  {
   "cell_type": "code",
   "execution_count": null,
   "metadata": {},
   "outputs": [],
   "source": []
  },
  {
   "cell_type": "code",
   "execution_count": null,
   "metadata": {},
   "outputs": [],
   "source": []
  },
  {
   "cell_type": "code",
   "execution_count": null,
   "metadata": {},
   "outputs": [],
   "source": []
  },
  {
   "cell_type": "code",
   "execution_count": null,
   "metadata": {},
   "outputs": [],
   "source": []
  },
  {
   "cell_type": "markdown",
   "metadata": {},
   "source": [
    "# Run subset of tests"
   ]
  },
  {
   "cell_type": "code",
   "execution_count": 326,
   "metadata": {
    "scrolled": false
   },
   "outputs": [
    {
     "name": "stdout",
     "output_type": "stream",
     "text": [
      "L = 4\n",
      "SLICES = 10\n",
      "DELTA_TAU = 0.1\n",
      "WARMUP = 100\n",
      "SWEEPS = 400\n",
      "SAFE_MULT = 10\n",
      "CHECKERBOARD = TRUE\n",
      "HOPPINGS = 1.0,0.5,-0.5,-1.0\n",
      "MU = -0.5\n",
      "LAMBDA = 0.5\n",
      "U = 1.0\n",
      "R = 2.0\n",
      "C = 3.0\n",
      "GLOBAL_UPDATES = TRUE\n",
      "GLOBAL_RATE = 5\n",
      "BFIELD = TRUE\n",
      "WRITE_EVERY_NTH = 10\n",
      "OPDIM = 3\n",
      "\n",
      "CB = CBAssaad\n",
      "p.hoppings = \"1.0,0.5,-0.5,-1.0\"\n",
      "p.Nhoppings = \"none\"\n",
      "p.NNhoppings = \"none\"\n",
      "p.lattice_file = \"C:\\\\Users\\\\carsten\\\\Desktop\\\\sciebo\\\\lattices\\\\square_L_4_W_4.xml\"\n",
      "\n",
      "\n",
      "Loading lattice with 16 sites\n",
      "Initializing neighbor-tables\n",
      "Initializing Peirls phases (Bfield)\n",
      "Initializing hopping exponentials (Bfield)\n",
      "Initializing hopping exponentials (Bfield, Checkerboard)\n",
      "Checkerboard (Bfield) - exact (abs):\t\t0.0024417942043431936\n",
      "\n",
      "Initializing HS field\n",
      "Initializing boson action\n",
      "\n",
      "Building stack\n",
      "Initial propagate: 11 -1\n",
      "\u001b[37m\u001b[1mTest Summary:  | \u001b[22m\u001b[39m\u001b[32m\u001b[1mPass  \u001b[22m\u001b[39m\u001b[36m\u001b[1mTotal\u001b[22m\u001b[39m\n",
      "Linear Algebra | \u001b[32m  59  \u001b[39m\u001b[36m   59\u001b[39m\n"
     ]
    }
   ],
   "source": [
    "include(\"tests_linalg.jl\")"
   ]
  },
  {
   "cell_type": "markdown",
   "metadata": {},
   "source": [
    "# Performance of decompose_udt"
   ]
  },
  {
   "cell_type": "code",
   "execution_count": 364,
   "metadata": {},
   "outputs": [
    {
     "data": {
      "text/plain": [
       "decompose_udt2! (generic function with 1 method)"
      ]
     },
     "execution_count": 364,
     "metadata": {},
     "output_type": "execute_result"
    }
   ],
   "source": [
    "function decompose_udt!(A::AbstractMatrix{C}, D) where C<:Number\n",
    "  F = qr!(A, Val(true))\n",
    "  @views F.p[F.p] = 1:length(F.p)\n",
    "  D .= abs.(real(diag(F.R)))\n",
    "  R = F.R\n",
    "  lmul!(Diagonal(1 ./ D), R)\n",
    "  return Matrix(F.Q), R[:, F.p] # Q, (D is modified in-place), T  # was full(F.Q) before upgrade\n",
    "end\n",
    "\n",
    "function decompose_udt2!(A::AbstractMatrix{C}, U,D,T) where C<:Number\n",
    "  F = qr!(A, Val(true))\n",
    "  @views F.p[F.p] = 1:length(F.p)\n",
    "  D .= abs.(real(diag(F.R)))\n",
    "  R = F.R\n",
    "  lmul!(Diagonal(1 ./ D), R)\n",
    "  T .= R[:, F.p]\n",
    "  U .= F.Q\n",
    "#   return Matrix(F.Q), R[:, F.p] # Q, (D is modified in-place), T  # was full(F.Q) before upgrade\n",
    "    nothing\n",
    "end"
   ]
  },
  {
   "cell_type": "code",
   "execution_count": 383,
   "metadata": {},
   "outputs": [],
   "source": [
    "x = rand(10,10)\n",
    "xc = copy(x)\n",
    "\n",
    "U = similar(x)\n",
    "D = zeros(size(x,1))\n",
    "D1 = zeros(size(x,1))\n",
    "T = similar(x);"
   ]
  },
  {
   "cell_type": "code",
   "execution_count": 384,
   "metadata": {},
   "outputs": [],
   "source": [
    "U1, T1 = decompose_udt!(x, D1);"
   ]
  },
  {
   "cell_type": "code",
   "execution_count": 385,
   "metadata": {},
   "outputs": [],
   "source": [
    "decompose_udt2!(xc, U, D, T);"
   ]
  },
  {
   "cell_type": "code",
   "execution_count": 386,
   "metadata": {},
   "outputs": [
    {
     "data": {
      "text/plain": [
       "true"
      ]
     },
     "execution_count": 386,
     "metadata": {},
     "output_type": "execute_result"
    }
   ],
   "source": [
    "isapprox(U1, U)"
   ]
  },
  {
   "cell_type": "code",
   "execution_count": 387,
   "metadata": {},
   "outputs": [
    {
     "data": {
      "text/plain": [
       "true"
      ]
     },
     "execution_count": 387,
     "metadata": {},
     "output_type": "execute_result"
    }
   ],
   "source": [
    "isapprox(D, D1)"
   ]
  },
  {
   "cell_type": "code",
   "execution_count": 388,
   "metadata": {},
   "outputs": [
    {
     "data": {
      "text/plain": [
       "true"
      ]
     },
     "execution_count": 388,
     "metadata": {},
     "output_type": "execute_result"
    }
   ],
   "source": [
    "isapprox(T, T1)"
   ]
  },
  {
   "cell_type": "code",
   "execution_count": 391,
   "metadata": {},
   "outputs": [
    {
     "name": "stdout",
     "output_type": "stream",
     "text": [
      "  3.150 μs (20 allocations: 42.73 KiB)\n"
     ]
    }
   ],
   "source": [
    "@btime decompose_udt!($x, $D1);"
   ]
  },
  {
   "cell_type": "code",
   "execution_count": 392,
   "metadata": {},
   "outputs": [
    {
     "name": "stdout",
     "output_type": "stream",
     "text": [
      "  68.800 μs (416 allocations: 3.25 MiB)\n"
     ]
    }
   ],
   "source": [
    "@btime decompose_udt2!($x, $U, $D, $T);"
   ]
  },
  {
   "cell_type": "markdown",
   "metadata": {},
   "source": [
    "# Performance of `inv_one_plus_udt_scalettar!`"
   ]
  },
  {
   "cell_type": "code",
   "execution_count": 6,
   "metadata": {},
   "outputs": [
    {
     "name": "stdout",
     "output_type": "stream",
     "text": [
      "L = 4\n",
      "SLICES = 10\n",
      "DELTA_TAU = 0.1\n",
      "WARMUP = 100\n",
      "SWEEPS = 400\n",
      "SAFE_MULT = 10\n",
      "CHECKERBOARD = TRUE\n",
      "HOPPINGS = 1.0,0.5,-0.5,-1.0\n",
      "MU = -0.5\n",
      "LAMBDA = 0.5\n",
      "U = 1.0\n",
      "R = 2.0\n",
      "C = 3.0\n",
      "GLOBAL_UPDATES = TRUE\n",
      "GLOBAL_RATE = 5\n",
      "BFIELD = TRUE\n",
      "WRITE_EVERY_NTH = 10\n",
      "OPDIM = 3\n",
      "\n",
      "CB = CBAssaad\n",
      "p.hoppings = \"1.0,0.5,-0.5,-1.0\"\n",
      "p.Nhoppings = \"none\"\n",
      "p.NNhoppings = \"none\"\n",
      "p.lattice_file = \"C:\\\\Users\\\\carsten\\\\Desktop\\\\sciebo\\\\lattices\\\\square_L_4_W_4.xml\"\n",
      "\n",
      "\n",
      "Loading lattice with 16 sites\n",
      "Initializing neighbor-tables\n",
      "Initializing Peirls phases (Bfield)\n",
      "Initializing hopping exponentials (Bfield)\n",
      "Initializing hopping exponentials (Bfield, Checkerboard)\n",
      "Checkerboard (Bfield) - exact (abs):\t\t0.0024417942043431936\n",
      "\n",
      "Initializing HS field\n",
      "Initializing boson action\n",
      "\n",
      "Building stack\n",
      "Initial propagate: 11 -1\n"
     ]
    },
    {
     "data": {
      "text/plain": [
       "DQMC of O(3) model\n",
       "r = 2.0, λ = 0.5, c = 3.0, u = 1.0\n",
       "Beta: 1.0 (T ≈ 1.0)\n",
       "Checkerboard: CBAssaad\n",
       "B-field: true"
      ]
     },
     "execution_count": 6,
     "metadata": {},
     "output_type": "execute_result"
    }
   ],
   "source": [
    "mc = mc_from_inxml(\"parameters\\\\O3_generic_small_system.in.xml\")"
   ]
  },
  {
   "cell_type": "code",
   "execution_count": 410,
   "metadata": {},
   "outputs": [
    {
     "data": {
      "text/plain": [
       "inv_one_plus_udt_scalettar_old! (generic function with 1 method)"
      ]
     },
     "execution_count": 410,
     "metadata": {},
     "output_type": "execute_result"
    }
   ],
   "source": [
    "function inv_one_plus_udt_scalettar!(mc, res, U,D,T)\n",
    "  #TODO: preallocate stuff in mc.s\n",
    "  r = mc.s.U\n",
    "  d = mc.s.d\n",
    "  m = mc.s.tmp\n",
    "\n",
    "  Dp = max.(D,1.)\n",
    "  Dm = min.(D,1.)\n",
    "  \n",
    "  Dp .\\= 1\n",
    "  Dpinv = Dp # renaming\n",
    "\n",
    "  l = inv(T)\n",
    "  rmul!(l, Diagonal(Dpinv))\n",
    "\n",
    "  copy!(r, U)\n",
    "  rmul!(r, Diagonal(Dm))\n",
    "\n",
    "  u, t = decompose_udt!(l+r, d)\n",
    "\n",
    "  inv_udt!(m, u, d, t)\n",
    "  lmul!(Diagonal(Dpinv), m)\n",
    "  u, t = decompose_udt!(m, d)\n",
    "\n",
    "  mul!(m, inv(T), u)\n",
    "  # return m, d, t\n",
    "  rmul!(m, Diagonal(d))\n",
    "  mul!(res, m, t)\n",
    "  nothing\n",
    "end\n",
    "\n",
    "function inv_one_plus_udt_scalettar_old!(mc, res, U,D,T)\n",
    "  #TODO: OPTIMIZE\n",
    "  #TODO: preallocate stuff in mc.s\n",
    "\n",
    "  Dp = max.(D,1.)\n",
    "  Dm = min.(D,1.)\n",
    "  Dpinv = 1 ./ Dp\n",
    "\n",
    "  l = inv(T)\n",
    "  rmul!(l, Diagonal(Dpinv))\n",
    "\n",
    "  r = copy(U)\n",
    "  rmul!(r, Diagonal(Dm))\n",
    "\n",
    "  u, d, t = decompose_udt(l+r)\n",
    "\n",
    "  m = inv_udt(u,d,t)\n",
    "  lmul!(Diagonal(Dpinv), m)\n",
    "  u, d, t = decompose_udt(m)\n",
    "\n",
    "  mul!(m, inv(T), u)\n",
    "  # return m, d, t\n",
    "  rmul!(m, Diagonal(d))\n",
    "  mul!(res, m, t)\n",
    "  nothing\n",
    "end"
   ]
  },
  {
   "cell_type": "code",
   "execution_count": 414,
   "metadata": {},
   "outputs": [],
   "source": [
    "x = rand(64,64);\n",
    "u,d,t = decompose_udt(x)\n",
    "\n",
    "res = similar(u);\n",
    "res2 = similar(u);"
   ]
  },
  {
   "cell_type": "code",
   "execution_count": 415,
   "metadata": {},
   "outputs": [],
   "source": [
    "inv_one_plus_udt_scalettar_old!(mc, res, u, d, t)"
   ]
  },
  {
   "cell_type": "code",
   "execution_count": 416,
   "metadata": {},
   "outputs": [],
   "source": [
    "inv_one_plus_udt_scalettar!(mc, res2, u, d, t)"
   ]
  },
  {
   "cell_type": "code",
   "execution_count": 417,
   "metadata": {},
   "outputs": [
    {
     "name": "stdout",
     "output_type": "stream",
     "text": [
      "max absdiff: 5.9e-14\n",
      "mean absdiff: 5.7e-15\n",
      "max reldiff: 1.3e-12\n",
      "mean reldiff: 1.2e-14\n",
      "effective max reldiff: 1.3e-12\n",
      "effective mean reldiff: 2.1e-15\n"
     ]
    },
    {
     "data": {
      "text/plain": [
       "true"
      ]
     },
     "execution_count": 417,
     "metadata": {},
     "output_type": "execute_result"
    }
   ],
   "source": [
    "compare(res, res2)"
   ]
  },
  {
   "cell_type": "code",
   "execution_count": 418,
   "metadata": {},
   "outputs": [
    {
     "name": "stdout",
     "output_type": "stream",
     "text": [
      "  740.091 ms (82033 allocations: 683.28 MiB)\n"
     ]
    }
   ],
   "source": [
    "@btime inv_one_plus_udt_scalettar_old!($mc, $res, $u, $d, $t);"
   ]
  },
  {
   "cell_type": "code",
   "execution_count": 419,
   "metadata": {},
   "outputs": [
    {
     "name": "stdout",
     "output_type": "stream",
     "text": [
      "  150.097 ms (16476 allocations: 137.58 MiB)\n"
     ]
    }
   ],
   "source": [
    "@btime inv_one_plus_udt_scalettar!($mc, $res, $u, $d, $t);"
   ]
  },
  {
   "cell_type": "markdown",
   "metadata": {},
   "source": [
    "# Performance of `inv_sum_udts_scalletar!`"
   ]
  },
  {
   "cell_type": "code",
   "execution_count": 265,
   "metadata": {},
   "outputs": [
    {
     "data": {
      "text/plain": [
       "inv_sum_udts_scalettar_ldiv! (generic function with 1 method)"
      ]
     },
     "execution_count": 265,
     "metadata": {},
     "output_type": "execute_result"
    }
   ],
   "source": [
    "function inv_sum_udts_scalettar_old!(mc, res, Ua, Da, Ta, Ub, Db, Tb)\n",
    "    # TODO: preallocate stuff in mc.s\n",
    "    # TODO: OPTIMIZE!\n",
    "    \n",
    "    d=length(Da)\n",
    "    \n",
    "    # separating scales larger and smaller than unity\n",
    "    Dap = max.(Da,1.)\n",
    "    Dam = min.(Da,1.)\n",
    "    Dbp = max.(Db,1.)\n",
    "    Dbm = min.(Db,1.)\n",
    "\n",
    "    # mat1 = Dam * Vda * Vdb' / Dbp\n",
    "    mat1 = Ta * inv(Tb)\n",
    "    for j in 1:d, k in 1:d\n",
    "        mat1[j,k]=mat1[j,k] * Dam[j]/Dbp[k] # TODO: simplify notation\n",
    "    end\n",
    "\n",
    "    # mat2 = 1/(Dap) * Ua' * Ub * Dbm\n",
    "    mat2 = Ua' * Ub\n",
    "    for j in 1:d, k in 1:d\n",
    "        mat2[j,k]=mat2[j,k] * Dbm[k]/Dap[j] # TODO: simplify notation\n",
    "    end\n",
    "    \n",
    "    #mat1 = mat1 + mat2\n",
    "    mat1 = mat1 + mat2\n",
    "    \n",
    "    # decompose mat1: U, D, T\n",
    "    U, D, T = decompose_udt(mat1) # TODO: in-place?\n",
    "\n",
    "    # invert inner part: mat1 = (U D T)^(-1) = mat1^(-1)\n",
    "    UDT_to_mat!(mat1, U, D, T, invert=true)\n",
    "\n",
    "    # mat1 = 1/Dbp * mat1 /Dap\n",
    "    for j in 1:d, k in 1:d\n",
    "        mat1[j,k]=mat1[j,k] / Dbp[j] / Dap[k] # TODO: simplify notation\n",
    "    end\n",
    "\n",
    "    #mat1 = U D T\n",
    "    U, D, T = decompose_udt(mat1)\n",
    "\n",
    "    # U = Tb^(-1) * U , T = T * Ua'\n",
    "    mul!(mat1, inv(Tb), U)\n",
    "    mul!(mat2, T, Ua')\n",
    "    U = mat1\n",
    "    T = mat2\n",
    "\n",
    "    # combine UDT into res\n",
    "    rmul!(U, Diagonal(D))\n",
    "    mul!(res, U, T)\n",
    "    nothing\n",
    "end\n",
    "\n",
    "\n",
    "\n",
    "\n",
    "using TimerOutputs\n",
    "\n",
    "function inv_sum_udts_scalettar!(mc, res, Ua, Da, Ta, Ub, Db, Tb)\n",
    "    # TODO: PROFILE and OPTIMIZE further!\n",
    "    mat1 = mc.s.tmp\n",
    "    mat2 = mc.s.U\n",
    "    D = mc.s.d\n",
    "    to = mc.a.to\n",
    "    \n",
    "    d=length(Da)\n",
    "    \n",
    "    local Dap, Dam, Dbp, Dbm, U, T\n",
    "    \n",
    "    # separating scales larger and smaller than unity\n",
    "    @timeit to \"Dm Dp\" begin\n",
    "    Dap = max.(Da,1.)\n",
    "    Dam = min.(Da,1.)\n",
    "    Dbp = max.(Db,1.)\n",
    "    Dbm = min.(Db,1.)\n",
    "    end\n",
    "\n",
    "    @timeit to \"build mat1\" begin\n",
    "        # mat1 = Dam * Vda * Vdb' / Dbp\n",
    "        mat1 = Ta / Tb\n",
    "        @inbounds for j in 1:d, k in 1:d\n",
    "            mat1[j,k]=mat1[j,k] * Dam[j]/Dbp[k]\n",
    "        end\n",
    "    end\n",
    "\n",
    "    @timeit to \"build mat2\" begin\n",
    "        # mat2 = 1/(Dap) * Ua' * Ub * Dbm\n",
    "        @timeit to \"mul!\" begin\n",
    "            mul!(mat2, Ua', Ub)\n",
    "        end\n",
    "        \n",
    "        @timeit to \"rescale\" begin\n",
    "            @inbounds for j in 1:d, k in 1:d\n",
    "                mat2[j,k]=mat2[j,k] * Dbm[k]/Dap[j]\n",
    "            end\n",
    "        end\n",
    "    end\n",
    "    \n",
    "    @timeit to \"mat1 + mat2\" begin\n",
    "        #mat1 = mat1 + mat2\n",
    "        mat1 .+= mat2\n",
    "    end\n",
    "    \n",
    "    @timeit to \"first decompose_udt!\" begin\n",
    "        # decompose mat1: U, D, T\n",
    "        U, T = decompose_udt!(mat1, D)\n",
    "    end\n",
    "\n",
    "    @timeit to \"invert combiner inner\" begin\n",
    "        # invert and combine inner part: mat1 = (U D T)^(-1)\n",
    "        # (was UDT_to_mat!(mat1, U, D, T, invert=true))\n",
    "        \n",
    "        lmul!(Diagonal(D), T)\n",
    "        # mat1 = T \\ (U')\n",
    "        ldiv!(mat1, lu!(T), U')\n",
    "    end\n",
    "\n",
    "    @timeit to \"rescale combined X\" begin\n",
    "        # mat1 = 1/Dbp * mat1 /Dap\n",
    "        @inbounds for j in 1:d, k in 1:d\n",
    "            mat1[j,k]=mat1[j,k] / Dbp[j] / Dap[k]\n",
    "        end\n",
    "    end\n",
    "\n",
    "    @timeit to \"second decompose_udt!\" begin\n",
    "        #mat1 = U D T\n",
    "        U, T = decompose_udt!(mat1, D)\n",
    "    end\n",
    "\n",
    "    @timeit to \"finish UDT\" begin\n",
    "        # U = Tb^(-1) * U , T = T * Ua'\n",
    "        # TODO: compare mul!(mat1, inv(Tb), U)\n",
    "        # mat1 = Tb \\ U\n",
    "        ldiv!(mat1, lu!(Tb), U)\n",
    "        mul!(mat2, T, Ua')\n",
    "        U = mat1\n",
    "        T = mat2\n",
    "    end\n",
    "\n",
    "    @timeit to \"finish combine\" begin\n",
    "        # combine UDT into res\n",
    "        rmul!(U, Diagonal(D))\n",
    "        mul!(res, U, T)\n",
    "    end\n",
    "    nothing\n",
    "end"
   ]
  },
  {
   "cell_type": "code",
   "execution_count": 266,
   "metadata": {},
   "outputs": [
    {
     "data": {
      "text/plain": [
       "500×500 Array{Complex{Float64},2}:\n",
       "  0.927248+0.609701im     0.70297+0.891734im   …   0.352597+0.565635im \n",
       "  0.318664+0.366121im    0.233721+0.633232im       0.835971+0.610289im \n",
       "  0.137567+0.0454028im   0.103134+0.772827im       0.572561+0.754634im \n",
       "  0.957759+0.243366im     0.32453+0.704366im        0.64744+0.440198im \n",
       "  0.268902+0.523735im    0.441867+0.329989im       0.835878+0.692091im \n",
       "  0.354313+0.912984im    0.216901+0.957487im   …   0.857209+0.276129im \n",
       "  0.362334+0.413437im    0.166851+0.706003im       0.838744+0.53647im  \n",
       "   0.78445+0.339798im    0.871316+0.825904im       0.296456+0.722564im \n",
       " 0.0884327+0.67986im     0.235814+0.606292im       0.252769+0.344633im \n",
       "  0.573917+0.949299im    0.988566+0.71382im        0.616827+0.342512im \n",
       "  0.583231+0.168448im    0.612609+0.189441im   …   0.664668+0.18894im  \n",
       "  0.618954+0.173226im    0.431952+0.202545im      0.0432403+0.738201im \n",
       "   0.24465+0.280044im    0.781303+0.284914im       0.515519+0.478234im \n",
       "          ⋮                                    ⋱                       \n",
       "  0.274209+0.87419im      0.13649+0.0957513im      0.906275+0.763496im \n",
       "  0.473454+0.408308im    0.291353+0.0133294im       0.17242+0.974445im \n",
       "  0.578303+0.309286im    0.283159+0.0237672im  …   0.692405+0.797934im \n",
       "  0.619258+0.612406im     0.23753+0.973061im       0.900402+0.761006im \n",
       "  0.789836+0.779732im    0.277639+0.281742im       0.408333+0.571869im \n",
       "  0.874159+0.902419im    0.121106+0.359927im       0.484592+0.0929699im\n",
       "  0.563921+0.449167im    0.185871+0.948764im       0.719298+0.238985im \n",
       "  0.267817+0.254409im    0.361839+0.983821im   …   0.528699+0.250316im \n",
       "  0.568918+0.951114im   0.0422733+0.521438im       0.360274+0.614192im \n",
       " 0.0103039+0.0484744im   0.610559+0.631609im       0.032567+0.208156im \n",
       " 0.0750395+0.0406511im   0.309713+0.97271im        0.769058+0.0739194im\n",
       "  0.663958+0.331925im    0.511779+0.526016im       0.838693+0.987171im "
      ]
     },
     "execution_count": 266,
     "metadata": {},
     "output_type": "execute_result"
    }
   ],
   "source": [
    "x = rand(geltype(mc), 500,500)\n",
    "x2 = similar(x)\n",
    "x3 = similar(x)\n",
    "y = rand(geltype(mc), 500,500)\n",
    "z = rand(geltype(mc), 500,500)"
   ]
  },
  {
   "cell_type": "code",
   "execution_count": 267,
   "metadata": {},
   "outputs": [
    {
     "name": "stdout",
     "output_type": "stream",
     "text": [
      "  17.522 ms (7 allocations: 7.63 MiB)\n",
      "  17.251 ms (7 allocations: 7.63 MiB)\n",
      "  16.640 ms (7 allocations: 3.82 MiB)\n"
     ]
    }
   ],
   "source": [
    "@btime $x .= $y \\ ($(z)');\n",
    "@btime $x2 = $y \\ ($(z)');\n",
    "@btime ldiv!($x3, lu($y), $(z)');"
   ]
  },
  {
   "cell_type": "code",
   "execution_count": 188,
   "metadata": {},
   "outputs": [
    {
     "name": "stdout",
     "output_type": "stream",
     "text": [
      "  15.297 ms (5 allocations: 4.19 KiB)\n"
     ]
    }
   ],
   "source": [
    "x4 = similar(x)\n",
    "@btime ldiv!($x4, lu!($y), $(z)');"
   ]
  },
  {
   "cell_type": "code",
   "execution_count": null,
   "metadata": {},
   "outputs": [],
   "source": []
  },
  {
   "cell_type": "code",
   "execution_count": null,
   "metadata": {},
   "outputs": [],
   "source": []
  },
  {
   "cell_type": "code",
   "execution_count": 268,
   "metadata": {},
   "outputs": [],
   "source": [
    "x = rand(geltype(mc), 64,64)\n",
    "y = rand(geltype(mc), 64,64)\n",
    "ux,dx,tx = decompose_udt(x)\n",
    "uy,dy,ty = decompose_udt(y);\n",
    "\n",
    "res = similar(x)\n",
    "res2 = similar(y);"
   ]
  },
  {
   "cell_type": "code",
   "execution_count": 269,
   "metadata": {},
   "outputs": [
    {
     "name": "stdout",
     "output_type": "stream",
     "text": [
      "max absdiff: 4.9e-15\n",
      "mean absdiff: 1.1e-15\n",
      "max reldiff: 4.4e-13\n",
      "mean reldiff: 8.5e-15\n",
      "effective max reldiff: 0.0e+00\n",
      "effective mean reldiff: 0.0e+00\n"
     ]
    },
    {
     "data": {
      "text/plain": [
       "true"
      ]
     },
     "execution_count": 269,
     "metadata": {},
     "output_type": "execute_result"
    }
   ],
   "source": [
    "inv_sum_udts_scalettar_old!(mc, res, ux,dx,tx, uy,dy,ty)\n",
    "inv_sum_udts_scalettar!(mc, res2, ux,dx,tx, uy,dy,ty)\n",
    "\n",
    "compare(res, res2)"
   ]
  },
  {
   "cell_type": "code",
   "execution_count": 264,
   "metadata": {},
   "outputs": [
    {
     "data": {
      "text/plain": [
       " \u001b[1m──────────────────────────────────────────────────────────────────────────────\u001b[22m\n",
       " \u001b[1m                              \u001b[22m        Time                   Allocations      \n",
       "                               ──────────────────────   ───────────────────────\n",
       "       Tot / % measured:            4.16s / 100%             481MiB / 100%     \n",
       "\n",
       " Section               ncalls     time   %tot     avg     alloc   %tot      avg\n",
       " ──────────────────────────────────────────────────────────────────────────────\n",
       " invert combiner inner    500    858ms  20.7%  1.72ms    375KiB  0.08%        -\n",
       " finish UDT               500    829ms  20.0%  1.66ms    352KiB  0.07%        -\n",
       " second decompose_udt!    500    828ms  20.0%  1.66ms    191MiB  40.0%   392KiB\n",
       " build mat1               500    782ms  18.9%  1.56ms   94.2MiB  19.7%   193KiB\n",
       " first decompose_udt!     500    770ms  18.6%  1.54ms    191MiB  40.0%   392KiB\n",
       " build mat2               500   40.2ms  0.97%  80.4μs   17.3KiB  0.00%        -\n",
       "   mul!                   500   31.9ms  0.77%  63.9μs         -  0.00%        -\n",
       "   rescale                500   7.26ms  0.18%  14.5μs         -  0.00%        -\n",
       " finish combine           500   27.1ms  0.66%  54.3μs   7.81KiB  0.00%        -\n",
       " rescale combined X       500   6.65ms  0.16%  13.3μs         -  0.00%        -\n",
       " mat1 + mat2              500   2.38ms  0.06%  4.75μs         -  0.00%        -\n",
       " Dm Dp                    500    860μs  0.02%  1.72μs   1.19MiB  0.25%  2.44KiB\n",
       " \u001b[1m──────────────────────────────────────────────────────────────────────────────\u001b[22m"
      ]
     },
     "execution_count": 264,
     "metadata": {},
     "output_type": "execute_result"
    }
   ],
   "source": [
    "reset_timer!(mc.a.to)\n",
    "for _ in 1:500\n",
    "\tinv_sum_udts_scalettar!(mc, res2, ux,dx,tx, uy,dy,ty)\n",
    "end\n",
    "mc.a.to"
   ]
  },
  {
   "cell_type": "code",
   "execution_count": 270,
   "metadata": {},
   "outputs": [
    {
     "name": "stdout",
     "output_type": "stream",
     "text": [
      "  6.239 ms (97 allocations: 1.65 MiB)\n",
      "  5.312 ms (93 allocations: 1.21 MiB)\n",
      "  5.183 ms (88 allocations: 981.38 KiB)\n"
     ]
    }
   ],
   "source": [
    "@btime inv_sum_udts_scalettar_old!($mc, $res, $ux,$dx,$tx, $uy,$dy,$ty)\n",
    "@btime inv_sum_udts_scalettar!($mc, $res, $ux,$dx,$tx, $uy,$dy,$ty)\n",
    "@btime inv_sum_udts_scalettar_ldiv!($mc, $res, $ux,$dx,$tx, $uy,$dy,$ty)"
   ]
  },
  {
   "cell_type": "code",
   "execution_count": null,
   "metadata": {},
   "outputs": [],
   "source": []
  }
 ],
 "metadata": {
  "kernelspec": {
   "display_name": "Julia 1.1.0",
   "language": "julia",
   "name": "julia-1.1"
  },
  "language_info": {
   "file_extension": ".jl",
   "mimetype": "application/julia",
   "name": "julia",
   "version": "1.1.0"
  }
 },
 "nbformat": 4,
 "nbformat_minor": 2
}
