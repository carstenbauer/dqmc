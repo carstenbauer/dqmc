{
 "cells": [
  {
   "cell_type": "code",
   "execution_count": 5,
   "metadata": {
    "scrolled": true
   },
   "outputs": [],
   "source": [
    "includet(joinpath(ENV[\"JULIA_DQMC\"], \"src/measure_framework.jl\"))"
   ]
  },
  {
   "cell_type": "code",
   "execution_count": 139,
   "metadata": {},
   "outputs": [
    {
     "name": "stdout",
     "output_type": "stream",
     "text": [
      "Loading DQMC parameters (.in.xml)\n",
      "L = 4\n",
      "SLICES = 100\n",
      "DELTA_TAU = 0.1\n",
      "WARMUP = 100\n",
      "SWEEPS = 100\n",
      "SAFE_MULT = 10\n",
      "CHECKERBOARD = TRUE\n",
      "HOPPINGS = 1.0,0.5,-0.5,-1.0\n",
      "MU = -0.5\n",
      "LAMBDA = 0.5\n",
      "U = 1.0\n",
      "R = 2.0\n",
      "C = 3.0\n",
      "GLOBAL_UPDATES = TRUE\n",
      "GLOBAL_RATE = 5\n",
      "BFIELD = TRUE\n",
      "WRITE_EVERY_NTH = 10\n",
      "OPDIM = 3\n"
     ]
    },
    {
     "data": {
      "text/plain": [
       "MeasParams\n",
       "  requested: Array{Symbol}((1,))\n",
       "  todo: Array{Symbol}((0,))\n",
       "  meas_infile: String \"dqmc.meas.xml\"\n",
       "  outfile: String \"dqmc.meas.h5\"\n",
       "  p: Params\n",
       "  dqmc_outfile: String \"dqmc.out.h5\"\n",
       "  overwrite: Bool true\n",
       "  num_threads: Int64 1\n",
       "  walltimelimit: DateTime\n",
       "  save_after: Int64 10\n",
       "  to: TimerOutput\n",
       "  confs_iterator_start: Int64 1\n"
      ]
     },
     "execution_count": 139,
     "metadata": {},
     "output_type": "execute_result"
    }
   ],
   "source": [
    "measxml = \"dqmc.meas.xml\"\n",
    "mp = measxml2MeasParams(measxml)"
   ]
  },
  {
   "cell_type": "code",
   "execution_count": 140,
   "metadata": {},
   "outputs": [
    {
     "data": {
      "text/plain": [
       "1-element Array{Symbol,1}:\n",
       " :chi_dyn"
      ]
     },
     "execution_count": 140,
     "metadata": {},
     "output_type": "execute_result"
    }
   ],
   "source": [
    "mp.requested"
   ]
  },
  {
   "cell_type": "code",
   "execution_count": 141,
   "metadata": {},
   "outputs": [
    {
     "data": {
      "text/plain": [
       "1-element Array{Symbol,1}:\n",
       " :chi_dyn"
      ]
     },
     "execution_count": 141,
     "metadata": {},
     "output_type": "execute_result"
    }
   ],
   "source": [
    "create_todolist!(mp)"
   ]
  },
  {
   "cell_type": "code",
   "execution_count": 147,
   "metadata": {},
   "outputs": [
    {
     "name": "stdout",
     "output_type": "stream",
     "text": [
      "\n",
      "Loading DQMC results...\n",
      "\n",
      "Prepared Observables (:chi_dyn,)\n",
      "\n"
     ]
    },
    {
     "data": {
      "text/plain": [
       " \u001b[1m──────────────────────────────────────────────────────────────────\u001b[22m\n",
       " \u001b[1m                  \u001b[22m        Time                   Allocations      \n",
       "                   ──────────────────────   ───────────────────────\n",
       " Tot / % measured:     11.3ms / 0.00%           12.3KiB / 0.00%    \n",
       "\n",
       " Section   ncalls     time   %tot     avg     alloc   %tot      avg\n",
       " ──────────────────────────────────────────────────────────────────\n",
       " \u001b[1m──────────────────────────────────────────────────────────────────\u001b[22m"
      ]
     },
     "execution_count": 147,
     "metadata": {},
     "output_type": "execute_result"
    }
   ],
   "source": [
    "println(\"\\nLoading DQMC results...\")\n",
    "\n",
    "  greens = nothing; \n",
    "  mc = nothing;\n",
    "\n",
    "  try\n",
    "    global confs = ts_flat(mp.dqmc_outfile, \"obs/configurations\") # TODO: lazy load?\n",
    "  catch err\n",
    "    println(\"Couldn't read configuration data. Probably no configurations yet? Exiting.\")\n",
    "    exit()\n",
    "  end\n",
    "\n",
    "  if need_to_load_etgf(mp)\n",
    "    if \"greens\" in listobs(mp.dqmc_outfile)\n",
    "      greens = loadobs_frommemory(mp.dqmc_outfile, \"obs/greens\")\n",
    "    else\n",
    "      error(\"Couldn't find ETGF in $(mp.dqmc_outfile) although need_to_load_etgf == true.\")\n",
    "      # TODO: Calculate ETGF if it isn't found in dqmc output.\n",
    "    end\n",
    "  end\n",
    "\n",
    "  # prepare dqmc framework if necessary\n",
    "  if need_to_setup_mc(mp)\n",
    "    mc = DQMC(mp.p)\n",
    "    initialize_stack_for_measurements(mc, mp)\n",
    "  end\n",
    "\n",
    "\n",
    "  # ------------------- Create list of observables to measure --------------------\n",
    "  num_confs = size(confs, ndims(confs))\n",
    "  nsweeps = num_confs * mp.p.write_every_nth\n",
    "  obs = NamedTuple() # list of observables to measure\n",
    "\n",
    "  # chi_dyn\n",
    "  if :chi_dyn_symm in mp.todo\n",
    "    @addobs chi_dyn_symm Array{Float64, 3}\n",
    "  end\n",
    "\n",
    "  if :chi_dyn in mp.todo\n",
    "    @addobs chi_dyn Array{Float64, 3}\n",
    "  end\n",
    "  \n",
    "  # binder\n",
    "  if :binder in mp.todo\n",
    "    @addobs m2s Float64\n",
    "    @addobs m4s Float64\n",
    "    obs = add(obs, binder = create_or_load_obs(\"binder\", Float64, name=\"binder\"))\n",
    "  end\n",
    "\n",
    "  # etpc\n",
    "  if :etpc_plus in mp.todo\n",
    "    zero_etpc = zeros(Float64, mp.p.L, mp.p.L)\n",
    "    @addlightobs etpc_plus zero_etpc\n",
    "    @addlightobs etpc_minus zero_etpc\n",
    "  end\n",
    "\n",
    "  # zfpc\n",
    "  if :zfpc_plus in mp.todo\n",
    "    zero_zfpc = zeros(Float64, mp.p.L, mp.p.L)\n",
    "    @addlightobs zfpc_plus zero_zfpc\n",
    "    @addlightobs zfpc_minus zero_zfpc\n",
    "  end\n",
    "\n",
    "  # etcdc\n",
    "  if :etcdc_plus in mp.todo\n",
    "    zero_etcdc = zeros(ComplexF64, mp.p.L, mp.p.L)\n",
    "    @addlightobs etcdc_plus zero_etcdc\n",
    "    @addlightobs etcdc_minus zero_etcdc\n",
    "  end\n",
    "\n",
    "  # zfcdc\n",
    "  if :zfcdc_plus in mp.todo\n",
    "    zero_zfcdc = zeros(ComplexF64, mp.p.L, mp.p.L)\n",
    "    @addlightobs zfcdc_plus zero_zfcdc\n",
    "    @addlightobs zfcdc_minus zero_zfcdc\n",
    "  end\n",
    "\n",
    "  # sfdensity\n",
    "  if :sfdensity in mp.todo\n",
    "    @addlightobs sfdensity Float64\n",
    "  end\n",
    "\n",
    "  # # tdgfs\n",
    "  # if mp.tdgfs\n",
    "  #   # create zero element for LightObservable\n",
    "  #   Nflv = mc.p.flv * mc.l.sites\n",
    "  #   tdgf_size = (Nflv, Nflv, mc.p.slices)\n",
    "  #   zero_tdgf = zeros(geltype(mc), tdgf_size)\n",
    "  #   (obs = add(obs, tdgfs_Gt0 = LightObservable(zero_tdgf, name=\"Time-displaced Green's function G(tau,0) (TDGF Gt0)\", alloc=num_confs)))\n",
    "  #   (obs = add(obs, tdgfs_G0t = LightObservable(zero_tdgf, name=\"Time-displaced Green's function G(0, tau) (TDGF G0t)\", alloc=num_confs)))\n",
    "  # end\n",
    "\n",
    "\n",
    "\n",
    "  # --------------------- Measure -------------------------\n",
    "  print(\"\\nPrepared Observables \");\n",
    "  println(keys(obs))\n",
    "  println()\n",
    "  reset_timer!(mp.to)"
   ]
  },
  {
   "cell_type": "code",
   "execution_count": 148,
   "metadata": {},
   "outputs": [
    {
     "name": "stdout",
     "output_type": "stream",
     "text": [
      "Measuring ...\n",
      "1\n",
      "2\n",
      "3\n",
      "4\n",
      "5\n"
     ]
    },
    {
     "data": {
      "text/plain": [
       " \u001b[1m──────────────────────────────────────────────────────────────────────────────\u001b[22m\n",
       " \u001b[1m                              \u001b[22m        Time                   Allocations      \n",
       "                               ──────────────────────   ───────────────────────\n",
       "       Tot / % measured:            2.66s / 0.54%           16.7MiB / 5.29%    \n",
       "\n",
       " Section               ncalls     time   %tot     avg     alloc   %tot      avg\n",
       " ──────────────────────────────────────────────────────────────────────────────\n",
       " measure loop               1   14.2ms   100%  14.2ms    905KiB  100%    905KiB\n",
       "   bosonic                  5   1.11ms  7.79%   222μs    846KiB  93.5%   169KiB\n",
       "     chi                    5   1.08ms  7.60%   216μs    844KiB  93.3%   169KiB\n",
       "     binder                 5    799ns  0.01%   160ns     0.00B  0.00%    0.00B\n",
       "   fermionic                5   17.9μs  0.13%  3.58μs   6.34KiB  0.70%  1.27KiB\n",
       "     calculate TDGFs        5   1.20μs  0.01%   240ns     0.00B  0.00%    0.00B\n",
       "     sfdensity              5    600ns  0.00%   120ns     0.00B  0.00%    0.00B\n",
       "     etpc                   5    500ns  0.00%   100ns     0.00B  0.00%    0.00B\n",
       "     zfpc                   5    500ns  0.00%   100ns     0.00B  0.00%    0.00B\n",
       "     zfccc                  5    401ns  0.00%  80.2ns     0.00B  0.00%    0.00B\n",
       "     etcdc                  5    400ns  0.00%  80.0ns     0.00B  0.00%    0.00B\n",
       "     zfcdc                  5    300ns  0.00%  60.0ns     0.00B  0.00%    0.00B\n",
       "   load etgf                5   1.70μs  0.01%   340ns     0.00B  0.00%    0.00B\n",
       " \u001b[1m──────────────────────────────────────────────────────────────────────────────\u001b[22m"
      ]
     },
     "metadata": {},
     "output_type": "display_data"
    },
    {
     "name": "stdout",
     "output_type": "stream",
     "text": [
      "\n",
      "\n"
     ]
    }
   ],
   "source": [
    "  measure(mp, obs, confs, greens, mc)"
   ]
  },
  {
   "cell_type": "code",
   "execution_count": 149,
   "metadata": {},
   "outputs": [
    {
     "name": "stdout",
     "output_type": "stream",
     "text": [
      "Calculating errors and exporting...\n",
      "Done. Exported to dqmc.meas.h5.\n"
     ]
    }
   ],
   "source": [
    "  export_results(mp, obs, nsweeps)"
   ]
  },
  {
   "cell_type": "code",
   "execution_count": null,
   "metadata": {},
   "outputs": [],
   "source": []
  }
 ],
 "metadata": {
  "@webio": {
   "lastCommId": null,
   "lastKernelId": null
  },
  "kernelspec": {
   "display_name": "Julia 1.1.0",
   "language": "julia",
   "name": "julia-1.1"
  },
  "language_info": {
   "file_extension": ".jl",
   "mimetype": "application/julia",
   "name": "julia",
   "version": "1.1.0"
  }
 },
 "nbformat": 4,
 "nbformat_minor": 2
}
