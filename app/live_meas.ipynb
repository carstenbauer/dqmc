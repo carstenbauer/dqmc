{
 "cells": [
  {
   "cell_type": "code",
   "execution_count": 2,
   "metadata": {
    "scrolled": true
   },
   "outputs": [],
   "source": [
    "includet(joinpath(ENV[\"JULIA_DQMC\"], \"src/measure_framework.jl\"))"
   ]
  },
  {
   "cell_type": "code",
   "execution_count": 5,
   "metadata": {},
   "outputs": [
    {
     "name": "stdout",
     "output_type": "stream",
     "text": [
      "Loading DQMC parameters (.in.xml)\n",
      "L = 4\n",
      "SLICES = 100\n",
      "DELTA_TAU = 0.1\n",
      "WARMUP = 100\n",
      "SWEEPS = 100\n",
      "SAFE_MULT = 10\n",
      "CHECKERBOARD = TRUE\n",
      "HOPPINGS = 1.0,0.5,-0.5,-1.0\n",
      "MU = -0.5\n",
      "LAMBDA = 0.5\n",
      "U = 1.0\n",
      "R = 2.0\n",
      "C = 3.0\n",
      "GLOBAL_UPDATES = TRUE\n",
      "GLOBAL_RATE = 5\n",
      "BFIELD = TRUE\n",
      "WRITE_EVERY_NTH = 10\n",
      "OPDIM = 3\n"
     ]
    },
    {
     "data": {
      "text/plain": [
       "MeasParams\n",
       "  requested: Set{Symbol}\n",
       "  todo: Set{Symbol}\n",
       "  todo_inonego: Set{Symbol}\n",
       "  todo_insteps: Set{Symbol}\n",
       "  meas_infile: String \"dqmc.meas.xml\"\n",
       "  outfile: String \"dqmc.meas.h5\"\n",
       "  p: Params\n",
       "  dqmc_outfile: String \"dqmc.out.h5\"\n",
       "  overwrite: Bool true\n",
       "  num_threads: Int64 1\n",
       "  walltimelimit: DateTime\n",
       "  save_after: Int64 2\n",
       "  to: TimerOutput\n",
       "  confs_iterator_start: Int64 1\n"
      ]
     },
     "execution_count": 5,
     "metadata": {},
     "output_type": "execute_result"
    }
   ],
   "source": [
    "measxml = \"dqmc.meas.xml\"\n",
    "mp = measxml2MeasParams(measxml)"
   ]
  },
  {
   "cell_type": "code",
   "execution_count": 6,
   "metadata": {},
   "outputs": [
    {
     "data": {
      "text/plain": [
       "Set(Symbol[:etpc_minus, :etcdc_plus, :chi_dyn_symm, :etpc_plus, :etcdc_minus, :chi_dyn])"
      ]
     },
     "execution_count": 6,
     "metadata": {},
     "output_type": "execute_result"
    }
   ],
   "source": [
    "mp.requested"
   ]
  },
  {
   "cell_type": "code",
   "execution_count": 686,
   "metadata": {},
   "outputs": [],
   "source": [
    "#obs_inonego, obs_insteps = measure(mp, debug = true);"
   ]
  },
  {
   "cell_type": "code",
   "execution_count": 687,
   "metadata": {},
   "outputs": [
    {
     "data": {
      "text/plain": [
       "2019-05-07T15:28:01.379"
      ]
     },
     "execution_count": 687,
     "metadata": {},
     "output_type": "execute_result"
    }
   ],
   "source": [
    "#mp.walltimelimit = now() + Second(5)"
   ]
  },
  {
   "cell_type": "code",
   "execution_count": null,
   "metadata": {
    "scrolled": false
   },
   "outputs": [
    {
     "name": "stdout",
     "output_type": "stream",
     "text": [
      "mp.todo_inonego = Set(Symbol[:chi_dyn_symm, :chi_dyn])\n",
      "mp.todo_insteps = Set(Symbol[:etpc_minus, :etcdc_plus, :etpc_plus, :etcdc_minus])\n"
     ]
    }
   ],
   "source": [
    "measure(mp)"
   ]
  },
  {
   "cell_type": "code",
   "execution_count": null,
   "metadata": {},
   "outputs": [],
   "source": [
    "mp."
   ]
  },
  {
   "cell_type": "code",
   "execution_count": 676,
   "metadata": {},
   "outputs": [
    {
     "data": {
      "text/plain": [
       "0.06654364020000006"
      ]
     },
     "execution_count": 676,
     "metadata": {},
     "output_type": "execute_result"
    }
   ],
   "source": [
    "            titer = mp.to[\"iteration\"]\n",
    "            iterdur = TimerOutputs.time(titer) *10.0^(-9)/TimerOutputs.ncalls(titer)"
   ]
  },
  {
   "cell_type": "code",
   "execution_count": 3,
   "metadata": {},
   "outputs": [
    {
     "data": {
      "text/plain": [
       "LightObservable{Array{Float64,2},3}\n",
       "| Name: etpc_minus\n",
       "| Measurements: 2"
      ]
     },
     "execution_count": 3,
     "metadata": {},
     "output_type": "execute_result"
    }
   ],
   "source": [
    "jldopen(\"dqmc.meas.h5\", \"r\") do f\n",
    "    global Pminus = read(f[\"obj/etpc_minus\"])\n",
    "end"
   ]
  },
  {
   "cell_type": "code",
   "execution_count": 4,
   "metadata": {},
   "outputs": [
    {
     "data": {
      "text/plain": [
       "LightObservable{Array{Float64,2},3}\n",
       "| Name: etpc_minus\n",
       "| Measurements: 2"
      ]
     },
     "execution_count": 4,
     "metadata": {},
     "output_type": "execute_result"
    }
   ],
   "source": [
    "Pminus"
   ]
  },
  {
   "cell_type": "code",
   "execution_count": null,
   "metadata": {},
   "outputs": [],
   "source": []
  },
  {
   "cell_type": "code",
   "execution_count": 164,
   "metadata": {},
   "outputs": [
    {
     "name": "stdout",
     "output_type": "stream",
     "text": [
      "Measuring ...\n",
      "1\n",
      "2\n",
      "3\n",
      "4\n",
      "5\n"
     ]
    },
    {
     "data": {
      "text/plain": [
       " \u001b[1m──────────────────────────────────────────────────────────────────────────────\u001b[22m\n",
       " \u001b[1m                              \u001b[22m        Time                   Allocations      \n",
       "                               ──────────────────────   ───────────────────────\n",
       "       Tot / % measured:            940ms / 2.42%           1.80MiB / 90.3%    \n",
       "\n",
       " Section               ncalls     time   %tot     avg     alloc   %tot      avg\n",
       " ──────────────────────────────────────────────────────────────────────────────\n",
       " measure loop               1   22.8ms   100%  22.8ms   1.63MiB  100%   1.63MiB\n",
       "   load etgf                5   8.59ms  37.7%  1.72ms    428KiB  25.7%  85.6KiB\n",
       "   bosonic                  5   1.30ms  5.73%   261μs   0.96MiB  59.2%   197KiB\n",
       "     chi                    5   1.19ms  5.25%   239μs   0.96MiB  58.9%   196KiB\n",
       "     binder                 5   96.5μs  0.42%  19.3μs   1.95KiB  0.12%     400B\n",
       "   fermionic                5    252μs  1.11%  50.5μs    200KiB  12.0%  40.0KiB\n",
       "     etpc                   5    163μs  0.71%  32.5μs   5.69KiB  0.34%  1.14KiB\n",
       "     zfcdc                  5   2.30μs  0.01%   460ns     0.00B  0.00%    0.00B\n",
       "     calculate TDGFs        5   2.30μs  0.01%   460ns     0.00B  0.00%    0.00B\n",
       "     etcdc                  5   1.30μs  0.01%   260ns     0.00B  0.00%    0.00B\n",
       "     sfdensity              5    800ns  0.00%   160ns     0.00B  0.00%    0.00B\n",
       "     zfccc                  5    500ns  0.00%   100ns     0.00B  0.00%    0.00B\n",
       "     zfpc                   5    500ns  0.00%   100ns     0.00B  0.00%    0.00B\n",
       " \u001b[1m──────────────────────────────────────────────────────────────────────────────\u001b[22m"
      ]
     },
     "metadata": {},
     "output_type": "display_data"
    },
    {
     "name": "stdout",
     "output_type": "stream",
     "text": [
      "\n",
      "\n"
     ]
    }
   ],
   "source": [
    "  measure(mp, obs, confs, greens, mc)"
   ]
  },
  {
   "cell_type": "code",
   "execution_count": 235,
   "metadata": {},
   "outputs": [
    {
     "name": "stdout",
     "output_type": "stream",
     "text": [
      "Calculating errors and exporting...\n",
      "Done. Exported to dqmc.meas.h5.\n"
     ]
    }
   ],
   "source": [
    "  export_results(mp, obs, nsweeps)"
   ]
  },
  {
   "cell_type": "code",
   "execution_count": 298,
   "metadata": {},
   "outputs": [
    {
     "data": {
      "text/plain": [
       "quote\n",
       "    #= C:\\Users\\carsten\\Desktop\\sciebo\\codes\\julia-sdw-dqmc\\src\\measure_framework.jl:84 =#\n",
       "    if (Main.Symbol)(\"asd\") in mp.todo_insteps\n",
       "        #= C:\\Users\\carsten\\Desktop\\sciebo\\codes\\julia-sdw-dqmc\\src\\measure_framework.jl:85 =#\n",
       "        obs_insteps = (Main.add)(obs_insteps, asd=(Main.create_or_load_obs)(\"asd\", Float64, name=\"asd\", alloc=num_confs))\n",
       "    else\n",
       "        #= C:\\Users\\carsten\\Desktop\\sciebo\\codes\\julia-sdw-dqmc\\src\\measure_framework.jl:87 =#\n",
       "        obs_inonego = (Main.add)(obs_inonego, asd=(Main.Observable)(Float64, name=\"asd\", alloc=num_confs))\n",
       "    end\n",
       "end"
      ]
     },
     "execution_count": 298,
     "metadata": {},
     "output_type": "execute_result"
    }
   ],
   "source": [
    "@macroexpand @addobs asd Float64"
   ]
  },
  {
   "cell_type": "code",
   "execution_count": 33,
   "metadata": {},
   "outputs": [
    {
     "data": {
      "text/plain": [
       "Expr"
      ]
     },
     "execution_count": 33,
     "metadata": {},
     "output_type": "execute_result"
    }
   ],
   "source": [
    "typeof(esc(:asd))"
   ]
  },
  {
   "cell_type": "code",
   "execution_count": 40,
   "metadata": {},
   "outputs": [
    {
     "data": {
      "text/plain": [
       ":(:)"
      ]
     },
     "execution_count": 40,
     "metadata": {},
     "output_type": "execute_result"
    }
   ],
   "source": [
    ":(:)"
   ]
  },
  {
   "cell_type": "code",
   "execution_count": 41,
   "metadata": {},
   "outputs": [
    {
     "data": {
      "text/plain": [
       "Symbol"
      ]
     },
     "execution_count": 41,
     "metadata": {},
     "output_type": "execute_result"
    }
   ],
   "source": [
    "typeof(ans)"
   ]
  },
  {
   "cell_type": "code",
   "execution_count": 88,
   "metadata": {},
   "outputs": [
    {
     "data": {
      "text/plain": [
       ":(:)"
      ]
     },
     "execution_count": 88,
     "metadata": {},
     "output_type": "execute_result"
    }
   ],
   "source": [
    "x = :whatever\n",
    "colon = :(:)"
   ]
  },
  {
   "cell_type": "code",
   "execution_count": 91,
   "metadata": {},
   "outputs": [
    {
     "data": {
      "text/plain": [
       ":whatever"
      ]
     },
     "execution_count": 91,
     "metadata": {},
     "output_type": "execute_result"
    }
   ],
   "source": [
    ":($x)"
   ]
  },
  {
   "cell_type": "code",
   "execution_count": 116,
   "metadata": {},
   "outputs": [
    {
     "ename": "ErrorException",
     "evalue": "syntax: invalid syntax (carsten)",
     "output_type": "error",
     "traceback": [
      "syntax: invalid syntax (carsten)",
      "",
      "Stacktrace:",
      " [1] eval at .\\boot.jl:328 [inlined]",
      " [2] eval(::Expr) at .\\client.jl:404",
      " [3] top-level scope at In[116]:1"
     ]
    }
   ],
   "source": [
    "eval(:($(Expr(:carsten))))"
   ]
  },
  {
   "cell_type": "code",
   "execution_count": 113,
   "metadata": {},
   "outputs": [
    {
     "data": {
      "text/plain": [
       "6"
      ]
     },
     "execution_count": 113,
     "metadata": {},
     "output_type": "execute_result"
    }
   ],
   "source": [
    "eval(:(3+3))"
   ]
  },
  {
   "cell_type": "code",
   "execution_count": 239,
   "metadata": {},
   "outputs": [
    {
     "data": {
      "text/plain": [
       "@print_given_symbol (macro with 1 method)"
      ]
     },
     "execution_count": 239,
     "metadata": {},
     "output_type": "execute_result"
    }
   ],
   "source": [
    "macro iswhatever(x::Symbol)\n",
    "    return quote \n",
    "        $(Expr(x))\n",
    "    end\n",
    "end"
   ]
  },
  {
   "cell_type": "code",
   "execution_count": 240,
   "metadata": {},
   "outputs": [
    {
     "name": "stdout",
     "output_type": "stream",
     "text": [
      "x = :d\n"
     ]
    },
    {
     "data": {
      "text/plain": [
       "quote\n",
       "    #= In[239]:4 =#\n",
       "    $(Expr(:d))\n",
       "end"
      ]
     },
     "execution_count": 240,
     "metadata": {},
     "output_type": "execute_result"
    }
   ],
   "source": [
    "@macroexpand @print_given_symbol d"
   ]
  },
  {
   "cell_type": "code",
   "execution_count": 242,
   "metadata": {},
   "outputs": [
    {
     "name": "stdout",
     "output_type": "stream",
     "text": [
      "x = :d\n"
     ]
    },
    {
     "ename": "ErrorException",
     "evalue": "syntax: invalid syntax (d)",
     "output_type": "error",
     "traceback": [
      "syntax: invalid syntax (d)",
      ""
     ]
    }
   ],
   "source": [
    "@print_given_symbol d"
   ]
  },
  {
   "cell_type": "code",
   "execution_count": 250,
   "metadata": {},
   "outputs": [
    {
     "data": {
      "text/plain": [
       ":(:d)"
      ]
     },
     "execution_count": 250,
     "metadata": {},
     "output_type": "execute_result"
    }
   ],
   "source": [
    "Meta.parse(\":d\")"
   ]
  },
  {
   "cell_type": "code",
   "execution_count": 252,
   "metadata": {},
   "outputs": [
    {
     "ename": "TypeError",
     "evalue": "TypeError: in Expr, expected Symbol, got Colon",
     "output_type": "error",
     "traceback": [
      "TypeError: in Expr, expected Symbol, got Colon",
      "",
      "Stacktrace:",
      " [1] Expr(::Any, ::Vararg{Any,N} where N) at .\\boot.jl:221",
      " [2] top-level scope at In[252]:1"
     ]
    }
   ],
   "source": [
    "Meta.quot(Expr(:$, :(1+2)))"
   ]
  },
  {
   "cell_type": "code",
   "execution_count": 253,
   "metadata": {},
   "outputs": [
    {
     "data": {
      "text/html": [
       "@show(__source__::<b>LineNumberNode</b>, __module__::<b>Module</b>, exs...) in Base at <a href=\"https://github.com/JuliaLang/julia/tree/80516ca20297a67b996caa08c38786332379b6a5/base/show.jl#L552\" target=\"_blank\">show.jl:552</a>"
      ],
      "text/plain": [
       "@show(__source__::LineNumberNode, __module__::Module, exs...) in Base at show.jl:552"
      ]
     },
     "execution_count": 253,
     "metadata": {},
     "output_type": "execute_result"
    }
   ],
   "source": [
    "@which @show x"
   ]
  },
  {
   "cell_type": "code",
   "execution_count": 325,
   "metadata": {},
   "outputs": [
    {
     "data": {
      "text/plain": [
       "false"
      ]
     },
     "execution_count": 325,
     "metadata": {},
     "output_type": "execute_result"
    }
   ],
   "source": [
    "TIMING"
   ]
  },
  {
   "cell_type": "code",
   "execution_count": 358,
   "metadata": {
    "scrolled": false
   },
   "outputs": [
    {
     "data": {
      "text/plain": [
       "CodeInfo(\n",
       "\u001b[90m1 ─\u001b[39m %1  = (Main.isnothing)(mc)\n",
       "\u001b[90m│  \u001b[39m %2  = !%1\n",
       "\u001b[90m└──\u001b[39m       goto #6 if not %2\n",
       "\u001b[90m2 ─\u001b[39m %4  = (Base.getproperty)(mc, :p)\n",
       "\u001b[90m│  \u001b[39m %5  = Base.setproperty! === Core.setfield!\n",
       "\u001b[90m└──\u001b[39m       goto #4 if not %5\n",
       "\u001b[90m3 ─\u001b[39m %7  = (Core.typeof)(%4)\n",
       "\u001b[90m│  \u001b[39m %8  = (Core.fieldtype)(%7, :hsfield)\n",
       "\u001b[90m│  \u001b[39m       #temp# = (Base.convert)(%8, conf)\n",
       "\u001b[90m└──\u001b[39m       goto #5\n",
       "\u001b[90m4 ─\u001b[39m       #temp# = conf\n",
       "\u001b[90m5 ┄\u001b[39m %12 = #temp#\n",
       "\u001b[90m└──\u001b[39m       (Base.setproperty!)(%4, :hsfield, %12)\n",
       "\u001b[90m6 ┄\u001b[39m %14 = :etpc_plus in $(Expr(:static_parameter, 1))\n",
       "\u001b[90m└──\u001b[39m       goto #8 if not %14\n",
       "\u001b[90m7 ─\u001b[39m       (Main.measure_etpc!)(mc, greens)\n",
       "\u001b[90m│  \u001b[39m %17 = (Base.getindex)(obs, :etpc_plus)\n",
       "\u001b[90m│  \u001b[39m %18 = (Base.getproperty)(mc, :s)\n",
       "\u001b[90m│  \u001b[39m %19 = (Base.getproperty)(%18, :meas)\n",
       "\u001b[90m│  \u001b[39m %20 = (Base.getproperty)(%19, :etpc_plus)\n",
       "\u001b[90m│  \u001b[39m       (Main.push!)(%17, %20)\n",
       "\u001b[90m│  \u001b[39m %22 = (Base.getindex)(obs, :etpc_minus)\n",
       "\u001b[90m│  \u001b[39m %23 = (Base.getproperty)(mc, :s)\n",
       "\u001b[90m│  \u001b[39m %24 = (Base.getproperty)(%23, :meas)\n",
       "\u001b[90m│  \u001b[39m %25 = (Base.getproperty)(%24, :etpc_minus)\n",
       "\u001b[90m└──\u001b[39m       (Main.push!)(%22, %25)\n",
       "\u001b[90m8 ┄\u001b[39m       return Main.nothing\n",
       ")"
      ]
     },
     "execution_count": 358,
     "metadata": {},
     "output_type": "execute_result"
    }
   ],
   "source": [
    "@code_lowered measure_fermionic(mp, obs_inonego, conf, mc.s.greens, mc, 1)"
   ]
  },
  {
   "cell_type": "code",
   "execution_count": 335,
   "metadata": {},
   "outputs": [
    {
     "data": {
      "text/plain": [
       "(a = \"test\", b = 5)"
      ]
     },
     "execution_count": 335,
     "metadata": {},
     "output_type": "execute_result"
    }
   ],
   "source": [
    "nt = (a=\"test\", b=5)"
   ]
  },
  {
   "cell_type": "code",
   "execution_count": 355,
   "metadata": {},
   "outputs": [
    {
     "data": {
      "text/plain": [
       "f (generic function with 1 method)"
      ]
     },
     "execution_count": 355,
     "metadata": {},
     "output_type": "execute_result"
    }
   ],
   "source": [
    "function f(nt::NamedTuple{K,V}) where {K,V}\n",
    "    return :d in K\n",
    "end"
   ]
  },
  {
   "cell_type": "code",
   "execution_count": 357,
   "metadata": {
    "scrolled": false
   },
   "outputs": [
    {
     "data": {
      "text/plain": [
       "CodeInfo(\n",
       "\u001b[90m1 ─\u001b[39m %1 = :d in $(Expr(:static_parameter, 1))\n",
       "\u001b[90m└──\u001b[39m      return %1\n",
       ")"
      ]
     },
     "execution_count": 357,
     "metadata": {},
     "output_type": "execute_result"
    }
   ],
   "source": [
    "@code_lowered f(nt)"
   ]
  },
  {
   "cell_type": "code",
   "execution_count": null,
   "metadata": {},
   "outputs": [],
   "source": []
  }
 ],
 "metadata": {
  "@webio": {
   "lastCommId": null,
   "lastKernelId": null
  },
  "kernelspec": {
   "display_name": "Julia 1.1.0",
   "language": "julia",
   "name": "julia-1.1"
  },
  "language_info": {
   "file_extension": ".jl",
   "mimetype": "application/julia",
   "name": "julia",
   "version": "1.1.0"
  }
 },
 "nbformat": 4,
 "nbformat_minor": 2
}
