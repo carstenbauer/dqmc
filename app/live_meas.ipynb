{
 "cells": [
  {
   "cell_type": "code",
   "execution_count": 347,
   "metadata": {
    "scrolled": true
   },
   "outputs": [],
   "source": [
    "includet(joinpath(ENV[\"JULIA_DQMC\"], \"src/measure_framework.jl\"))"
   ]
  },
  {
   "cell_type": "code",
   "execution_count": 352,
   "metadata": {},
   "outputs": [
    {
     "name": "stdout",
     "output_type": "stream",
     "text": [
      "Loading DQMC parameters (.in.xml)\n",
      "L = 4\n",
      "SLICES = 100\n",
      "DELTA_TAU = 0.1\n",
      "WARMUP = 100\n",
      "SWEEPS = 100\n",
      "SAFE_MULT = 10\n",
      "CHECKERBOARD = TRUE\n",
      "HOPPINGS = 1.0,0.5,-0.5,-1.0\n",
      "MU = -0.5\n",
      "LAMBDA = 0.5\n",
      "U = 1.0\n",
      "R = 2.0\n",
      "C = 3.0\n",
      "GLOBAL_UPDATES = TRUE\n",
      "GLOBAL_RATE = 5\n",
      "BFIELD = TRUE\n",
      "WRITE_EVERY_NTH = 10\n",
      "OPDIM = 3\n"
     ]
    },
    {
     "data": {
      "text/plain": [
       "MeasParams\n",
       "  requested: Array{Symbol}((2,))\n",
       "  todo: Array{Symbol}((0,))\n",
       "  meas_infile: String \"dqmc.meas.xml\"\n",
       "  outfile: String \"dqmc.meas.h5\"\n",
       "  p: Params\n",
       "  dqmc_outfile: String \"dqmc.out.h5\"\n",
       "  overwrite: Bool true\n",
       "  num_threads: Int64 1\n",
       "  walltimelimit: DateTime\n",
       "  save_after: Int64 2\n",
       "  to: TimerOutput\n",
       "  confs_iterator_start: Int64 1\n"
      ]
     },
     "execution_count": 352,
     "metadata": {},
     "output_type": "execute_result"
    }
   ],
   "source": [
    "measxml = \"dqmc.meas.xml\"\n",
    "mp = measxml2MeasParams(measxml)"
   ]
  },
  {
   "cell_type": "code",
   "execution_count": 353,
   "metadata": {},
   "outputs": [
    {
     "data": {
      "text/plain": [
       "2-element Array{Symbol,1}:\n",
       " :etpc_minus\n",
       " :etpc_plus "
      ]
     },
     "execution_count": 353,
     "metadata": {},
     "output_type": "execute_result"
    }
   ],
   "source": [
    "mp.requested"
   ]
  },
  {
   "cell_type": "code",
   "execution_count": 354,
   "metadata": {},
   "outputs": [
    {
     "data": {
      "text/plain": [
       "2-element Array{Symbol,1}:\n",
       " :etpc_minus\n",
       " :etpc_plus "
      ]
     },
     "execution_count": 354,
     "metadata": {},
     "output_type": "execute_result"
    }
   ],
   "source": [
    "create_todolist!(mp)"
   ]
  },
  {
   "cell_type": "code",
   "execution_count": null,
   "metadata": {},
   "outputs": [],
   "source": []
  },
  {
   "cell_type": "code",
   "execution_count": 359,
   "metadata": {},
   "outputs": [
    {
     "name": "stdout",
     "output_type": "stream",
     "text": [
      "\n",
      "Loading DQMC results...\n",
      "\n",
      "CB = CBAssaad\n",
      "p.hoppings = \"1.0,0.5,-0.5,-1.0\"\n",
      "p.Nhoppings = \"none\"\n",
      "p.NNhoppings = \"none\"\n",
      "p.lattice_file = \"C:\\\\Users\\\\carsten\\\\Desktop\\\\sciebo\\\\lattices\\\\square_L_4_W_4.xml\"\n",
      "\n",
      "\n",
      "Loading lattice with 16 sites\n",
      "Initializing neighbor-tables\n",
      "Initializing Peirls phases (Bfield)\n",
      "Initializing hopping exponentials (Bfield)\n",
      "Initializing hopping exponentials (Bfield, Checkerboard)\n",
      "Checkerboard (Bfield) - exact (abs):\t\t0.0024417942043431936\n",
      "Allocated memory for ETPC measurements.\n",
      "\n",
      "Prepared Observables (:etpc_plus, :etpc_minus)\n",
      "\n"
     ]
    },
    {
     "data": {
      "text/plain": [
       " \u001b[1m──────────────────────────────────────────────────────────────────\u001b[22m\n",
       " \u001b[1m                  \u001b[22m        Time                   Allocations      \n",
       "                   ──────────────────────   ───────────────────────\n",
       " Tot / % measured:      565μs / 0.00%           12.9KiB / 0.00%    \n",
       "\n",
       " Section   ncalls     time   %tot     avg     alloc   %tot      avg\n",
       " ──────────────────────────────────────────────────────────────────\n",
       " \u001b[1m──────────────────────────────────────────────────────────────────\u001b[22m"
      ]
     },
     "execution_count": 359,
     "metadata": {},
     "output_type": "execute_result"
    }
   ],
   "source": [
    "println(\"\\nLoading DQMC results...\")\n",
    "\n",
    "  # Overwrite mode?\n",
    "  if isfile(mp.outfile) && mp.overwrite\n",
    "    jldopen(mp.outfile, \"r+\") do f\n",
    "      for o in mp.todo\n",
    "        p = joinpath(\"obj/\", string(o))\n",
    "        HDF5.has(f.plain, p) && o_delete(f, p)\n",
    "      end\n",
    "    end\n",
    "  end\n",
    "\n",
    "  greens = nothing; \n",
    "  mc = nothing;\n",
    "\n",
    "  try\n",
    "    global confs = loadobs_frommemory(mp.dqmc_outfile, \"obs/configurations\") # TODO: lazy load?\n",
    "  catch err\n",
    "    println(\"Couldn't read configuration data. Probably no configurations yet? Exiting.\")\n",
    "    exit()\n",
    "  end\n",
    "\n",
    "  if need_to_load_etgf(mp)\n",
    "    if \"greens\" in listobs(mp.dqmc_outfile)\n",
    "      greens = loadobs_frommemory(mp.dqmc_outfile, \"obs/greens\")\n",
    "    else\n",
    "      error(\"Couldn't find ETGF in $(mp.dqmc_outfile) although need_to_load_etgf == true.\")\n",
    "      # TODO: Calculate ETGF if it isn't found in dqmc output.\n",
    "    end\n",
    "  end\n",
    "\n",
    "  # prepare dqmc framework if necessary\n",
    "  if need_to_setup_mc(mp)\n",
    "    mc = DQMC(mp.p)\n",
    "    initialize_stack_for_measurements(mc, mp)\n",
    "  end\n",
    "\n",
    "\n",
    "  # ------------------- Create list of observables to measure --------------------\n",
    "  num_confs = length(confs)\n",
    "  nsweeps = num_confs * mp.p.write_every_nth\n",
    "  obs = NamedTuple() # list of observables to measure\n",
    "\n",
    "  # chi_dyn\n",
    "  if :chi_dyn_symm in mp.todo\n",
    "    @addobs chi_dyn_symm Array{Float64, 3}\n",
    "  end\n",
    "\n",
    "  if :chi_dyn in mp.todo\n",
    "    @addobs chi_dyn Array{Float64, 3}\n",
    "  end\n",
    "  \n",
    "  # binder\n",
    "  if :binder in mp.todo\n",
    "    @addobs m2s Float64\n",
    "    @addobs m4s Float64\n",
    "    obs = add(obs, binder = create_or_load_obs(\"binder\", Float64, name=\"binder\"))\n",
    "  end\n",
    "\n",
    "  # etpc\n",
    "  if :etpc_plus in mp.todo\n",
    "    zero_etpc = zeros(Float64, mp.p.L, mp.p.L)\n",
    "    @addlightobs etpc_plus zero_etpc\n",
    "    @addlightobs etpc_minus zero_etpc\n",
    "  end\n",
    "\n",
    "  # zfpc\n",
    "  if :zfpc_plus in mp.todo\n",
    "    zero_zfpc = zeros(Float64, mp.p.L, mp.p.L)\n",
    "    @addlightobs zfpc_plus zero_zfpc\n",
    "    @addlightobs zfpc_minus zero_zfpc\n",
    "  end\n",
    "\n",
    "  # etcdc\n",
    "  if :etcdc_plus in mp.todo\n",
    "    zero_etcdc = zeros(ComplexF64, mp.p.L, mp.p.L)\n",
    "    @addlightobs etcdc_plus zero_etcdc\n",
    "    @addlightobs etcdc_minus zero_etcdc\n",
    "  end\n",
    "\n",
    "  # zfcdc\n",
    "  if :zfcdc_plus in mp.todo\n",
    "    zero_zfcdc = zeros(ComplexF64, mp.p.L, mp.p.L)\n",
    "    @addlightobs zfcdc_plus zero_zfcdc\n",
    "    @addlightobs zfcdc_minus zero_zfcdc\n",
    "  end\n",
    "\n",
    "  # sfdensity\n",
    "  if :sfdensity in mp.todo\n",
    "    @addlightobs sfdensity Float64\n",
    "  end\n",
    "\n",
    "  # # tdgfs\n",
    "  # if mp.tdgfs\n",
    "  #   # create zero element for LightObservable\n",
    "  #   Nflv = mc.p.flv * mc.l.sites\n",
    "  #   tdgf_size = (Nflv, Nflv, mc.p.slices)\n",
    "  #   zero_tdgf = zeros(geltype(mc), tdgf_size)\n",
    "  #   (obs = add(obs, tdgfs_Gt0 = LightObservable(zero_tdgf, name=\"Time-displaced Green's function G(tau,0) (TDGF Gt0)\", alloc=num_confs)))\n",
    "  #   (obs = add(obs, tdgfs_G0t = LightObservable(zero_tdgf, name=\"Time-displaced Green's function G(0, tau) (TDGF G0t)\", alloc=num_confs)))\n",
    "  # end\n",
    "\n",
    "\n",
    "\n",
    "  # --------------------- Measure -------------------------\n",
    "  print(\"\\nPrepared Observables \");\n",
    "  println(keys(obs))\n",
    "  println()\n",
    "  reset_timer!(mp.to)"
   ]
  },
  {
   "cell_type": "code",
   "execution_count": 360,
   "metadata": {},
   "outputs": [
    {
     "data": {
      "text/plain": [
       "(etpc_plus = nothing, etpc_minus = nothing)"
      ]
     },
     "execution_count": 360,
     "metadata": {},
     "output_type": "execute_result"
    }
   ],
   "source": [
    "obs"
   ]
  },
  {
   "cell_type": "code",
   "execution_count": 361,
   "metadata": {},
   "outputs": [],
   "source": [
    "obs[1]"
   ]
  },
  {
   "cell_type": "code",
   "execution_count": 326,
   "metadata": {},
   "outputs": [
    {
     "name": "stdout",
     "output_type": "stream",
     "text": [
      "Measuring ...\n",
      "1\n",
      "2\n",
      "Intermediate save...\n",
      "3\n",
      "4\n"
     ]
    },
    {
     "name": "stderr",
     "output_type": "stream",
     "text": [
      "\r",
      "\u001b[32mProgress:  40%|█████████████████                        |  ETA: 0:00:01\u001b[39m"
     ]
    },
    {
     "ename": "OverflowError",
     "evalue": "OverflowError: The Binning Analysis has exceeded its maximum capacity.",
     "output_type": "error",
     "traceback": [
      "OverflowError: The Binning Analysis has exceeded its maximum capacity.",
      "",
      "Stacktrace:",
      " [1] _push!(::LogBinner{Array{Float64,2},3}, ::Int64, ::Array{Float64,2}) at C:\\Users\\carsten\\.julia\\packages\\BinningAnalysis\\tRUse\\src\\log\\binning.jl:278",
      " [2] _push!(::LogBinner{Array{Float64,2},3}, ::Int64, ::Array{Float64,2}) at C:\\Users\\carsten\\.julia\\packages\\BinningAnalysis\\tRUse\\src\\log\\binning.jl:281 (repeats 2 times)",
      " [3] push! at C:\\Users\\carsten\\.julia\\packages\\BinningAnalysis\\tRUse\\src\\log\\binning.jl:221 [inlined]",
      " [4] push! at C:\\Users\\carsten\\.julia\\packages\\Lazy\\ZAeCx\\src\\macros.jl:285 [inlined]",
      " [5] macro expansion at C:\\Users\\carsten\\Desktop\\sciebo\\codes\\julia-sdw-dqmc\\src\\measure_framework.jl:508 [inlined]",
      " [6] macro expansion at C:\\Users\\carsten\\.julia\\packages\\TimerOutputs\\7zSea\\src\\TimerOutput.jl:216 [inlined]",
      " [7] measure_fermionic(::MeasParams, ::NamedTuple{(:etpc_plus, :etpc_minus),Tuple{LightObservable{Array{Float64,2},3},LightObservable{Array{Float64,2},3}}}, ::Array{Float64,3}, ::Array{Complex{Float64},2}, ::DQMC{CBAssaad,Complex{Float64},Complex{Float64}}, ::Int64) at C:\\Users\\carsten\\Desktop\\sciebo\\codes\\julia-sdw-dqmc\\src\\measure_framework.jl:527",
      " [8] macro expansion at C:\\Users\\carsten\\.julia\\packages\\TimerOutputs\\7zSea\\src\\TimerOutput.jl:216 [inlined]",
      " [9] macro expansion at C:\\Users\\carsten\\Desktop\\sciebo\\codes\\julia-sdw-dqmc\\src\\measure_framework.jl:461 [inlined]",
      " [10] macro expansion at C:\\Users\\carsten\\.julia\\packages\\ProgressMeter\\TpeOV\\src\\ProgressMeter.jl:599 [inlined]",
      " [11] macro expansion at C:\\Users\\carsten\\Desktop\\sciebo\\codes\\julia-sdw-dqmc\\src\\measure_framework.jl:454 [inlined]",
      " [12] macro expansion at C:\\Users\\carsten\\.julia\\packages\\TimerOutputs\\7zSea\\src\\TimerOutput.jl:216 [inlined]",
      " [13] measure(::MeasParams, ::NamedTuple{(:etpc_plus, :etpc_minus),Tuple{LightObservable{Array{Float64,2},3},LightObservable{Array{Float64,2},3}}}, ::Observable{Array{Float64,3},Array{Float64,3},false}, ::Observable{Array{Complex{Float64},2},Array{Complex{Float64},2},false}, ::DQMC{CBAssaad,Complex{Float64},Complex{Float64}}) at C:\\Users\\carsten\\Desktop\\sciebo\\codes\\julia-sdw-dqmc\\src\\measure_framework.jl:453",
      " [14] top-level scope at In[326]:1"
     ]
    }
   ],
   "source": [
    "  measure(mp, obs, confs, greens, mc)"
   ]
  },
  {
   "cell_type": "code",
   "execution_count": 302,
   "metadata": {
    "scrolled": false
   },
   "outputs": [
    {
     "name": "stdout",
     "output_type": "stream",
     "text": [
      "Body\u001b[36m::Nothing\u001b[39m\n",
      "\u001b[90m1 ─\u001b[39m       invoke Main.println(\"Intermediate save...\"::String)\n",
      "\u001b[90m│  \u001b[39m       (Main.flush)(Main.stdout)\n",
      "\u001b[90m│  \u001b[39m %3  = %new(getfield(Main, Symbol(\"##577#578\")){NamedTuple{(:etpc_plus, :etpc_minus),Tuple{LightObservable{Array{Float64,2},3},LightObservable{Array{Float64,2},3}}}}, obs)\u001b[36m::getfield(Main, Symbol(\"##577#578\")){NamedTuple{(:etpc_plus, :etpc_minus),Tuple{LightObservable{Array{Float64,2},3},LightObservable{Array{Float64,2},3}}}}\u001b[39m\n",
      "\u001b[90m│  \u001b[39m %4  = (Base.getfield)(mp, :outfile)\u001b[36m::String\u001b[39m\n",
      "\u001b[90m│  \u001b[39m %5  = (Base.getfield)(mp, :outfile)\u001b[36m::String\u001b[39m\n",
      "\u001b[90m│  \u001b[39m %6  = invoke Base.Filesystem.stat(%5::String)\u001b[36m::Base.Filesystem.StatStruct\u001b[39m\n",
      "\u001b[90m│  \u001b[39m %7  = (Base.getfield)(%6, :mode)\u001b[36m::UInt64\u001b[39m\n",
      "\u001b[90m│  \u001b[39m %8  = (Base.and_int)(%7, 0x000000000000f000)\u001b[36m::UInt64\u001b[39m\n",
      "\u001b[90m│  \u001b[39m %9  = (%8 === 0x0000000000008000)\u001b[36m::Bool\u001b[39m\n",
      "\u001b[90m└──\u001b[39m       goto #3 if not %9\n",
      "\u001b[90m2 ─\u001b[39m       goto #4\n",
      "\u001b[90m3 ─\u001b[39m       nothing\n",
      "\u001b[90m4 ┄\u001b[39m %13 = φ (#2 => \"r+\", #3 => \"w\")\u001b[36m::String\u001b[39m\n",
      "\u001b[90m│  \u001b[39m %14 = Main.jldopen\u001b[36m::Core.Compiler.Const(JLD.jldopen, false)\u001b[39m\n",
      "\u001b[90m│  \u001b[39m       invoke JLD.:(#jldopen#14)($(QuoteNode(Base.Iterators.Pairs{Union{},Union{},Tuple{},NamedTuple{(),Tuple{}}}()))::Base.Iterators.Pairs{Union{},Union{},Tuple{},NamedTuple{(),Tuple{}}}, %14::Function, %3::getfield(Main, Symbol(\"##577#578\")){NamedTuple{(:etpc_plus, :etpc_minus),Tuple{LightObservable{Array{Float64,2},3},LightObservable{Array{Float64,2},3}}}}, %4::String, %13::Vararg{String,N} where N)\n",
      "\u001b[90m└──\u001b[39m       return Main.nothing\n"
     ]
    }
   ],
   "source": [
    "@code_warntype save_obs_objects(mp, obs)"
   ]
  },
  {
   "cell_type": "code",
   "execution_count": null,
   "metadata": {},
   "outputs": [],
   "source": []
  },
  {
   "cell_type": "code",
   "execution_count": 164,
   "metadata": {},
   "outputs": [
    {
     "name": "stdout",
     "output_type": "stream",
     "text": [
      "Measuring ...\n",
      "1\n",
      "2\n",
      "3\n",
      "4\n",
      "5\n"
     ]
    },
    {
     "data": {
      "text/plain": [
       " \u001b[1m──────────────────────────────────────────────────────────────────────────────\u001b[22m\n",
       " \u001b[1m                              \u001b[22m        Time                   Allocations      \n",
       "                               ──────────────────────   ───────────────────────\n",
       "       Tot / % measured:            940ms / 2.42%           1.80MiB / 90.3%    \n",
       "\n",
       " Section               ncalls     time   %tot     avg     alloc   %tot      avg\n",
       " ──────────────────────────────────────────────────────────────────────────────\n",
       " measure loop               1   22.8ms   100%  22.8ms   1.63MiB  100%   1.63MiB\n",
       "   load etgf                5   8.59ms  37.7%  1.72ms    428KiB  25.7%  85.6KiB\n",
       "   bosonic                  5   1.30ms  5.73%   261μs   0.96MiB  59.2%   197KiB\n",
       "     chi                    5   1.19ms  5.25%   239μs   0.96MiB  58.9%   196KiB\n",
       "     binder                 5   96.5μs  0.42%  19.3μs   1.95KiB  0.12%     400B\n",
       "   fermionic                5    252μs  1.11%  50.5μs    200KiB  12.0%  40.0KiB\n",
       "     etpc                   5    163μs  0.71%  32.5μs   5.69KiB  0.34%  1.14KiB\n",
       "     zfcdc                  5   2.30μs  0.01%   460ns     0.00B  0.00%    0.00B\n",
       "     calculate TDGFs        5   2.30μs  0.01%   460ns     0.00B  0.00%    0.00B\n",
       "     etcdc                  5   1.30μs  0.01%   260ns     0.00B  0.00%    0.00B\n",
       "     sfdensity              5    800ns  0.00%   160ns     0.00B  0.00%    0.00B\n",
       "     zfccc                  5    500ns  0.00%   100ns     0.00B  0.00%    0.00B\n",
       "     zfpc                   5    500ns  0.00%   100ns     0.00B  0.00%    0.00B\n",
       " \u001b[1m──────────────────────────────────────────────────────────────────────────────\u001b[22m"
      ]
     },
     "metadata": {},
     "output_type": "display_data"
    },
    {
     "name": "stdout",
     "output_type": "stream",
     "text": [
      "\n",
      "\n"
     ]
    }
   ],
   "source": [
    "  measure(mp, obs, confs, greens, mc)"
   ]
  },
  {
   "cell_type": "code",
   "execution_count": 235,
   "metadata": {},
   "outputs": [
    {
     "name": "stdout",
     "output_type": "stream",
     "text": [
      "Calculating errors and exporting...\n",
      "Done. Exported to dqmc.meas.h5.\n"
     ]
    }
   ],
   "source": [
    "  export_results(mp, obs, nsweeps)"
   ]
  },
  {
   "cell_type": "code",
   "execution_count": null,
   "metadata": {},
   "outputs": [],
   "source": []
  }
 ],
 "metadata": {
  "@webio": {
   "lastCommId": null,
   "lastKernelId": null
  },
  "kernelspec": {
   "display_name": "Julia 1.1.0",
   "language": "julia",
   "name": "julia-1.1"
  },
  "language_info": {
   "file_extension": ".jl",
   "mimetype": "application/julia",
   "name": "julia",
   "version": "1.1.0"
  }
 },
 "nbformat": 4,
 "nbformat_minor": 2
}
