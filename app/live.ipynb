{
 "cells": [
  {
   "cell_type": "code",
   "execution_count": 1,
   "metadata": {},
   "outputs": [
    {
     "ename": "UndefVarError",
     "evalue": "UndefVarError: xml2parameters! not defined",
     "output_type": "error",
     "traceback": [
      "UndefVarError: xml2parameters! not defined",
      "",
      "Stacktrace:",
      " [1] top-level scope at In[1]:11"
     ]
    }
   ],
   "source": [
    "using Pkg\n",
    "Pkg.activate(ENV[\"JULIA_DQMC\"])\n",
    "\n",
    "using Revise, BenchmarkTools\n",
    "include(joinpath(ENV[\"JULIA_DQMC\"], \"src/dqmc_framework.jl\"))\n",
    "\n",
    "input = \"dqmc.in.xml\" # choose DQMC input file\n",
    "\n",
    "p = Params()\n",
    "p.output_file = \"live.out.h5.running\"\n",
    "xml2parameters!(p, input)\n",
    "\n",
    "mc = DQMC(p)\n",
    "\n",
    "init!(mc)\n",
    "\n",
    "mc"
   ]
  },
  {
   "cell_type": "code",
   "execution_count": null,
   "metadata": {},
   "outputs": [],
   "source": []
  },
  {
   "cell_type": "code",
   "execution_count": null,
   "metadata": {},
   "outputs": [],
   "source": []
  }
 ],
 "metadata": {
  "kernelspec": {
   "display_name": "Julia 1.1.0",
   "language": "julia",
   "name": "julia-1.1"
  },
  "language_info": {
   "file_extension": ".jl",
   "mimetype": "application/julia",
   "name": "julia",
   "version": "1.1.0"
  }
 },
 "nbformat": 4,
 "nbformat_minor": 2
}
